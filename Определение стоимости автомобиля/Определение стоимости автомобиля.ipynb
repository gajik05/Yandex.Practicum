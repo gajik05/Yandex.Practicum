{
 "cells": [
  {
   "cell_type": "markdown",
   "metadata": {},
   "source": [
    "# Описание проекта\n",
    "---\n",
    "Сервис по продаже автомобилей с пробегом ***«Не бит, не крашен»*** разрабатывает приложение, чтобы привлечь новых клиентов. В нём можно будет узнать рыночную стоимость своего автомобиля.  \n",
    "Необходимо построить модель, которая умеет её определять. В нашем распоряжении данные о технических характеристиках, комплектации и ценах других автомобилей.  \n",
    "\n",
    "#### Критерии, которые важны заказчику:  \n",
    "\n",
    "- качество предсказания  \n",
    "\n",
    "- время обучения модели  \n",
    "\n",
    "- время предсказания модели\n",
    "\n",
    "## Описание данных\n",
    "\n",
    "Признаки: \n",
    "\n",
    "- **`DateCrawled`** — дата скачивания анкеты из базы\n",
    "- **`VehicleType`** — тип автомобильного кузова\n",
    "- **`RegistrationYear`** — год регистрации автомобиля\n",
    "- **`Gearbox`** — тип коробки передач\n",
    "- **`Power`** — мощность (л. с.)\n",
    "- **`Model`** — модель автомобиля\n",
    "- **`Kilometer`** — пробег (км)\n",
    "- **`RegistrationMonth`** — месяц регистрации автомобиля\n",
    "- **`FuelType`** — тип топлива\n",
    "- **`Brand`** — марка автомобиля\n",
    "- **`Repaired`** — была машина в ремонте или нет\n",
    "- **`DateCreated`** — дата создания анкеты\n",
    "- **`NumberOfPictures`** — количество фотографий автомобиля\n",
    "- **`PostalCode`** — почтовый индекс владельца анкеты (пользователя)\n",
    "- **`LastSeen`** — дата последней активности пользователя  \n",
    "\n",
    "Целевой признак:  \n",
    "\n",
    "- **`Price`** — цена (евро)"
   ]
  },
  {
   "cell_type": "markdown",
   "metadata": {},
   "source": [
    "# Выполнение проекта\n",
    "---"
   ]
  },
  {
   "cell_type": "markdown",
   "metadata": {},
   "source": [
    "### Содержание:  \n",
    "<font size=4><ol>\n",
    "<li>Получение и первичный анализ данных\n",
    "    <ul>\n",
    "        <li>1.1. Получение и осмотр данных</li>\n",
    "        <li>1.2. Предобработка и разведочный анализ данных</li>\n",
    "    </ul>\n",
    "</li>\n",
    "<li>Обучение модели\n",
    "    <ul>\n",
    "        <li>2.1. Подготовка признаков</li>\n",
    "        <li>2.2. Поиск оптимальной модели линейной регрессии</li>\n",
    "        <li>2.3. Проверка оптимальной модели на тестовых данных</li>\n",
    "    </ul>\n",
    "</li>\n",
    "<li>Выводы</li>\n",
    "</ol></font>"
   ]
  },
  {
   "cell_type": "markdown",
   "metadata": {},
   "source": [
    "---"
   ]
  },
  {
   "cell_type": "markdown",
   "metadata": {},
   "source": [
    "### 1. Получение и первичный анализ данных  \n",
    "\n",
    "#### 1.1. Получение и осмотр данных  \n",
    "\n",
    "Импортируем необходимые библиотеки"
   ]
  },
  {
   "cell_type": "code",
   "execution_count": 1,
   "metadata": {},
   "outputs": [],
   "source": [
    "import pandas as pd\n",
    "import numpy as np\n",
    "import seaborn as sns\n",
    "import matplotlib.pyplot as plt\n",
    "from sklearn.model_selection import train_test_split\n",
    "from sklearn.preprocessing import OneHotEncoder\n",
    "from sklearn.tree import DecisionTreeRegressor\n",
    "from sklearn.dummy import DummyRegressor\n",
    "from xgboost import XGBRegressor\n",
    "from sklearn.metrics import mean_squared_error"
   ]
  },
  {
   "cell_type": "markdown",
   "metadata": {},
   "source": [
    "Получим данные для анализа"
   ]
  },
  {
   "cell_type": "code",
   "execution_count": 2,
   "metadata": {},
   "outputs": [],
   "source": [
    "df = pd.read_csv('/datasets/autos.csv', parse_dates=['DateCrawled', 'DateCreated', 'LastSeen'])"
   ]
  },
  {
   "cell_type": "code",
   "execution_count": 3,
   "metadata": {
    "scrolled": true
   },
   "outputs": [
    {
     "data": {
      "text/html": [
       "<div>\n",
       "<style scoped>\n",
       "    .dataframe tbody tr th:only-of-type {\n",
       "        vertical-align: middle;\n",
       "    }\n",
       "\n",
       "    .dataframe tbody tr th {\n",
       "        vertical-align: top;\n",
       "    }\n",
       "\n",
       "    .dataframe thead th {\n",
       "        text-align: right;\n",
       "    }\n",
       "</style>\n",
       "<table border=\"1\" class=\"dataframe\">\n",
       "  <thead>\n",
       "    <tr style=\"text-align: right;\">\n",
       "      <th></th>\n",
       "      <th>DateCrawled</th>\n",
       "      <th>Price</th>\n",
       "      <th>VehicleType</th>\n",
       "      <th>RegistrationYear</th>\n",
       "      <th>Gearbox</th>\n",
       "      <th>Power</th>\n",
       "      <th>Model</th>\n",
       "      <th>Kilometer</th>\n",
       "      <th>RegistrationMonth</th>\n",
       "      <th>FuelType</th>\n",
       "      <th>Brand</th>\n",
       "      <th>Repaired</th>\n",
       "      <th>DateCreated</th>\n",
       "      <th>NumberOfPictures</th>\n",
       "      <th>PostalCode</th>\n",
       "      <th>LastSeen</th>\n",
       "    </tr>\n",
       "  </thead>\n",
       "  <tbody>\n",
       "    <tr>\n",
       "      <th>0</th>\n",
       "      <td>2016-03-24 11:52:17</td>\n",
       "      <td>480</td>\n",
       "      <td>NaN</td>\n",
       "      <td>1993</td>\n",
       "      <td>manual</td>\n",
       "      <td>0</td>\n",
       "      <td>golf</td>\n",
       "      <td>150000</td>\n",
       "      <td>0</td>\n",
       "      <td>petrol</td>\n",
       "      <td>volkswagen</td>\n",
       "      <td>NaN</td>\n",
       "      <td>2016-03-24</td>\n",
       "      <td>0</td>\n",
       "      <td>70435</td>\n",
       "      <td>2016-04-07 03:16:57</td>\n",
       "    </tr>\n",
       "    <tr>\n",
       "      <th>1</th>\n",
       "      <td>2016-03-24 10:58:45</td>\n",
       "      <td>18300</td>\n",
       "      <td>coupe</td>\n",
       "      <td>2011</td>\n",
       "      <td>manual</td>\n",
       "      <td>190</td>\n",
       "      <td>NaN</td>\n",
       "      <td>125000</td>\n",
       "      <td>5</td>\n",
       "      <td>gasoline</td>\n",
       "      <td>audi</td>\n",
       "      <td>yes</td>\n",
       "      <td>2016-03-24</td>\n",
       "      <td>0</td>\n",
       "      <td>66954</td>\n",
       "      <td>2016-04-07 01:46:50</td>\n",
       "    </tr>\n",
       "    <tr>\n",
       "      <th>2</th>\n",
       "      <td>2016-03-14 12:52:21</td>\n",
       "      <td>9800</td>\n",
       "      <td>suv</td>\n",
       "      <td>2004</td>\n",
       "      <td>auto</td>\n",
       "      <td>163</td>\n",
       "      <td>grand</td>\n",
       "      <td>125000</td>\n",
       "      <td>8</td>\n",
       "      <td>gasoline</td>\n",
       "      <td>jeep</td>\n",
       "      <td>NaN</td>\n",
       "      <td>2016-03-14</td>\n",
       "      <td>0</td>\n",
       "      <td>90480</td>\n",
       "      <td>2016-04-05 12:47:46</td>\n",
       "    </tr>\n",
       "    <tr>\n",
       "      <th>3</th>\n",
       "      <td>2016-03-17 16:54:04</td>\n",
       "      <td>1500</td>\n",
       "      <td>small</td>\n",
       "      <td>2001</td>\n",
       "      <td>manual</td>\n",
       "      <td>75</td>\n",
       "      <td>golf</td>\n",
       "      <td>150000</td>\n",
       "      <td>6</td>\n",
       "      <td>petrol</td>\n",
       "      <td>volkswagen</td>\n",
       "      <td>no</td>\n",
       "      <td>2016-03-17</td>\n",
       "      <td>0</td>\n",
       "      <td>91074</td>\n",
       "      <td>2016-03-17 17:40:17</td>\n",
       "    </tr>\n",
       "    <tr>\n",
       "      <th>4</th>\n",
       "      <td>2016-03-31 17:25:20</td>\n",
       "      <td>3600</td>\n",
       "      <td>small</td>\n",
       "      <td>2008</td>\n",
       "      <td>manual</td>\n",
       "      <td>69</td>\n",
       "      <td>fabia</td>\n",
       "      <td>90000</td>\n",
       "      <td>7</td>\n",
       "      <td>gasoline</td>\n",
       "      <td>skoda</td>\n",
       "      <td>no</td>\n",
       "      <td>2016-03-31</td>\n",
       "      <td>0</td>\n",
       "      <td>60437</td>\n",
       "      <td>2016-04-06 10:17:21</td>\n",
       "    </tr>\n",
       "    <tr>\n",
       "      <th>...</th>\n",
       "      <td>...</td>\n",
       "      <td>...</td>\n",
       "      <td>...</td>\n",
       "      <td>...</td>\n",
       "      <td>...</td>\n",
       "      <td>...</td>\n",
       "      <td>...</td>\n",
       "      <td>...</td>\n",
       "      <td>...</td>\n",
       "      <td>...</td>\n",
       "      <td>...</td>\n",
       "      <td>...</td>\n",
       "      <td>...</td>\n",
       "      <td>...</td>\n",
       "      <td>...</td>\n",
       "      <td>...</td>\n",
       "    </tr>\n",
       "    <tr>\n",
       "      <th>354364</th>\n",
       "      <td>2016-03-21 09:50:58</td>\n",
       "      <td>0</td>\n",
       "      <td>NaN</td>\n",
       "      <td>2005</td>\n",
       "      <td>manual</td>\n",
       "      <td>0</td>\n",
       "      <td>colt</td>\n",
       "      <td>150000</td>\n",
       "      <td>7</td>\n",
       "      <td>petrol</td>\n",
       "      <td>mitsubishi</td>\n",
       "      <td>yes</td>\n",
       "      <td>2016-03-21</td>\n",
       "      <td>0</td>\n",
       "      <td>2694</td>\n",
       "      <td>2016-03-21 10:42:49</td>\n",
       "    </tr>\n",
       "    <tr>\n",
       "      <th>354365</th>\n",
       "      <td>2016-03-14 17:48:27</td>\n",
       "      <td>2200</td>\n",
       "      <td>NaN</td>\n",
       "      <td>2005</td>\n",
       "      <td>NaN</td>\n",
       "      <td>0</td>\n",
       "      <td>NaN</td>\n",
       "      <td>20000</td>\n",
       "      <td>1</td>\n",
       "      <td>NaN</td>\n",
       "      <td>sonstige_autos</td>\n",
       "      <td>NaN</td>\n",
       "      <td>2016-03-14</td>\n",
       "      <td>0</td>\n",
       "      <td>39576</td>\n",
       "      <td>2016-04-06 00:46:52</td>\n",
       "    </tr>\n",
       "    <tr>\n",
       "      <th>354366</th>\n",
       "      <td>2016-03-05 19:56:21</td>\n",
       "      <td>1199</td>\n",
       "      <td>convertible</td>\n",
       "      <td>2000</td>\n",
       "      <td>auto</td>\n",
       "      <td>101</td>\n",
       "      <td>fortwo</td>\n",
       "      <td>125000</td>\n",
       "      <td>3</td>\n",
       "      <td>petrol</td>\n",
       "      <td>smart</td>\n",
       "      <td>no</td>\n",
       "      <td>2016-03-05</td>\n",
       "      <td>0</td>\n",
       "      <td>26135</td>\n",
       "      <td>2016-03-11 18:17:12</td>\n",
       "    </tr>\n",
       "    <tr>\n",
       "      <th>354367</th>\n",
       "      <td>2016-03-19 18:57:12</td>\n",
       "      <td>9200</td>\n",
       "      <td>bus</td>\n",
       "      <td>1996</td>\n",
       "      <td>manual</td>\n",
       "      <td>102</td>\n",
       "      <td>transporter</td>\n",
       "      <td>150000</td>\n",
       "      <td>3</td>\n",
       "      <td>gasoline</td>\n",
       "      <td>volkswagen</td>\n",
       "      <td>no</td>\n",
       "      <td>2016-03-19</td>\n",
       "      <td>0</td>\n",
       "      <td>87439</td>\n",
       "      <td>2016-04-07 07:15:26</td>\n",
       "    </tr>\n",
       "    <tr>\n",
       "      <th>354368</th>\n",
       "      <td>2016-03-20 19:41:08</td>\n",
       "      <td>3400</td>\n",
       "      <td>wagon</td>\n",
       "      <td>2002</td>\n",
       "      <td>manual</td>\n",
       "      <td>100</td>\n",
       "      <td>golf</td>\n",
       "      <td>150000</td>\n",
       "      <td>6</td>\n",
       "      <td>gasoline</td>\n",
       "      <td>volkswagen</td>\n",
       "      <td>NaN</td>\n",
       "      <td>2016-03-20</td>\n",
       "      <td>0</td>\n",
       "      <td>40764</td>\n",
       "      <td>2016-03-24 12:45:21</td>\n",
       "    </tr>\n",
       "  </tbody>\n",
       "</table>\n",
       "<p>354369 rows × 16 columns</p>\n",
       "</div>"
      ],
      "text/plain": [
       "               DateCrawled  Price  VehicleType  RegistrationYear Gearbox  \\\n",
       "0      2016-03-24 11:52:17    480          NaN              1993  manual   \n",
       "1      2016-03-24 10:58:45  18300        coupe              2011  manual   \n",
       "2      2016-03-14 12:52:21   9800          suv              2004    auto   \n",
       "3      2016-03-17 16:54:04   1500        small              2001  manual   \n",
       "4      2016-03-31 17:25:20   3600        small              2008  manual   \n",
       "...                    ...    ...          ...               ...     ...   \n",
       "354364 2016-03-21 09:50:58      0          NaN              2005  manual   \n",
       "354365 2016-03-14 17:48:27   2200          NaN              2005     NaN   \n",
       "354366 2016-03-05 19:56:21   1199  convertible              2000    auto   \n",
       "354367 2016-03-19 18:57:12   9200          bus              1996  manual   \n",
       "354368 2016-03-20 19:41:08   3400        wagon              2002  manual   \n",
       "\n",
       "        Power        Model  Kilometer  RegistrationMonth  FuelType  \\\n",
       "0           0         golf     150000                  0    petrol   \n",
       "1         190          NaN     125000                  5  gasoline   \n",
       "2         163        grand     125000                  8  gasoline   \n",
       "3          75         golf     150000                  6    petrol   \n",
       "4          69        fabia      90000                  7  gasoline   \n",
       "...       ...          ...        ...                ...       ...   \n",
       "354364      0         colt     150000                  7    petrol   \n",
       "354365      0          NaN      20000                  1       NaN   \n",
       "354366    101       fortwo     125000                  3    petrol   \n",
       "354367    102  transporter     150000                  3  gasoline   \n",
       "354368    100         golf     150000                  6  gasoline   \n",
       "\n",
       "                 Brand Repaired DateCreated  NumberOfPictures  PostalCode  \\\n",
       "0           volkswagen      NaN  2016-03-24                 0       70435   \n",
       "1                 audi      yes  2016-03-24                 0       66954   \n",
       "2                 jeep      NaN  2016-03-14                 0       90480   \n",
       "3           volkswagen       no  2016-03-17                 0       91074   \n",
       "4                skoda       no  2016-03-31                 0       60437   \n",
       "...                ...      ...         ...               ...         ...   \n",
       "354364      mitsubishi      yes  2016-03-21                 0        2694   \n",
       "354365  sonstige_autos      NaN  2016-03-14                 0       39576   \n",
       "354366           smart       no  2016-03-05                 0       26135   \n",
       "354367      volkswagen       no  2016-03-19                 0       87439   \n",
       "354368      volkswagen      NaN  2016-03-20                 0       40764   \n",
       "\n",
       "                  LastSeen  \n",
       "0      2016-04-07 03:16:57  \n",
       "1      2016-04-07 01:46:50  \n",
       "2      2016-04-05 12:47:46  \n",
       "3      2016-03-17 17:40:17  \n",
       "4      2016-04-06 10:17:21  \n",
       "...                    ...  \n",
       "354364 2016-03-21 10:42:49  \n",
       "354365 2016-04-06 00:46:52  \n",
       "354366 2016-03-11 18:17:12  \n",
       "354367 2016-04-07 07:15:26  \n",
       "354368 2016-03-24 12:45:21  \n",
       "\n",
       "[354369 rows x 16 columns]"
      ]
     },
     "execution_count": 3,
     "metadata": {},
     "output_type": "execute_result"
    }
   ],
   "source": [
    "df"
   ]
  },
  {
   "cell_type": "markdown",
   "metadata": {},
   "source": [
    "Проверим наличие дублкатов"
   ]
  },
  {
   "cell_type": "code",
   "execution_count": 4,
   "metadata": {
    "scrolled": true
   },
   "outputs": [
    {
     "data": {
      "text/plain": [
       "4"
      ]
     },
     "execution_count": 4,
     "metadata": {},
     "output_type": "execute_result"
    }
   ],
   "source": [
    "df.duplicated().sum()"
   ]
  },
  {
   "cell_type": "markdown",
   "metadata": {},
   "source": [
    "Удалим дубликаты"
   ]
  },
  {
   "cell_type": "code",
   "execution_count": 5,
   "metadata": {},
   "outputs": [],
   "source": [
    "df = df.drop_duplicates(ignore_index=True)"
   ]
  },
  {
   "cell_type": "markdown",
   "metadata": {},
   "source": [
    "Проверим типы данных и пропуски"
   ]
  },
  {
   "cell_type": "code",
   "execution_count": 6,
   "metadata": {},
   "outputs": [
    {
     "name": "stdout",
     "output_type": "stream",
     "text": [
      "<class 'pandas.core.frame.DataFrame'>\n",
      "RangeIndex: 354365 entries, 0 to 354364\n",
      "Data columns (total 16 columns):\n",
      " #   Column             Non-Null Count   Dtype         \n",
      "---  ------             --------------   -----         \n",
      " 0   DateCrawled        354365 non-null  datetime64[ns]\n",
      " 1   Price              354365 non-null  int64         \n",
      " 2   VehicleType        316875 non-null  object        \n",
      " 3   RegistrationYear   354365 non-null  int64         \n",
      " 4   Gearbox            334532 non-null  object        \n",
      " 5   Power              354365 non-null  int64         \n",
      " 6   Model              334660 non-null  object        \n",
      " 7   Kilometer          354365 non-null  int64         \n",
      " 8   RegistrationMonth  354365 non-null  int64         \n",
      " 9   FuelType           321470 non-null  object        \n",
      " 10  Brand              354365 non-null  object        \n",
      " 11  Repaired           283211 non-null  object        \n",
      " 12  DateCreated        354365 non-null  datetime64[ns]\n",
      " 13  NumberOfPictures   354365 non-null  int64         \n",
      " 14  PostalCode         354365 non-null  int64         \n",
      " 15  LastSeen           354365 non-null  datetime64[ns]\n",
      "dtypes: datetime64[ns](3), int64(7), object(6)\n",
      "memory usage: 43.3+ MB\n"
     ]
    }
   ],
   "source": [
    "df.info()"
   ]
  },
  {
   "cell_type": "markdown",
   "metadata": {},
   "source": [
    "В данных есть пропуски и столбцы с лишней информацией, такие как почтовый индекс или количество фотографий, которые не влияют на цену. Познакомимся с ними поближе. Наиболее важны количественные значения."
   ]
  },
  {
   "cell_type": "markdown",
   "metadata": {},
   "source": [
    "#### 1.2. Предобработка и разведочный анализ данных"
   ]
  },
  {
   "cell_type": "markdown",
   "metadata": {},
   "source": [
    "Может влиять на цену время, прошедшее с регистрации авто и до его выставления на продажу. Попробуем посчитать его в месяцах."
   ]
  },
  {
   "cell_type": "code",
   "execution_count": 7,
   "metadata": {},
   "outputs": [
    {
     "data": {
      "text/html": [
       "<div>\n",
       "<style scoped>\n",
       "    .dataframe tbody tr th:only-of-type {\n",
       "        vertical-align: middle;\n",
       "    }\n",
       "\n",
       "    .dataframe tbody tr th {\n",
       "        vertical-align: top;\n",
       "    }\n",
       "\n",
       "    .dataframe thead th {\n",
       "        text-align: right;\n",
       "    }\n",
       "</style>\n",
       "<table border=\"1\" class=\"dataframe\">\n",
       "  <thead>\n",
       "    <tr style=\"text-align: right;\">\n",
       "      <th></th>\n",
       "      <th>RegistrationMonth</th>\n",
       "      <th>rows</th>\n",
       "    </tr>\n",
       "  </thead>\n",
       "  <tbody>\n",
       "    <tr>\n",
       "      <th>0</th>\n",
       "      <td>0</td>\n",
       "      <td>37352</td>\n",
       "    </tr>\n",
       "    <tr>\n",
       "      <th>1</th>\n",
       "      <td>1</td>\n",
       "      <td>23218</td>\n",
       "    </tr>\n",
       "    <tr>\n",
       "      <th>2</th>\n",
       "      <td>2</td>\n",
       "      <td>21267</td>\n",
       "    </tr>\n",
       "    <tr>\n",
       "      <th>3</th>\n",
       "      <td>3</td>\n",
       "      <td>34373</td>\n",
       "    </tr>\n",
       "    <tr>\n",
       "      <th>4</th>\n",
       "      <td>4</td>\n",
       "      <td>29270</td>\n",
       "    </tr>\n",
       "    <tr>\n",
       "      <th>5</th>\n",
       "      <td>5</td>\n",
       "      <td>29153</td>\n",
       "    </tr>\n",
       "    <tr>\n",
       "      <th>6</th>\n",
       "      <td>6</td>\n",
       "      <td>31507</td>\n",
       "    </tr>\n",
       "    <tr>\n",
       "      <th>7</th>\n",
       "      <td>7</td>\n",
       "      <td>27211</td>\n",
       "    </tr>\n",
       "    <tr>\n",
       "      <th>8</th>\n",
       "      <td>8</td>\n",
       "      <td>22627</td>\n",
       "    </tr>\n",
       "    <tr>\n",
       "      <th>9</th>\n",
       "      <td>9</td>\n",
       "      <td>23813</td>\n",
       "    </tr>\n",
       "    <tr>\n",
       "      <th>10</th>\n",
       "      <td>10</td>\n",
       "      <td>26099</td>\n",
       "    </tr>\n",
       "    <tr>\n",
       "      <th>11</th>\n",
       "      <td>11</td>\n",
       "      <td>24186</td>\n",
       "    </tr>\n",
       "    <tr>\n",
       "      <th>12</th>\n",
       "      <td>12</td>\n",
       "      <td>24289</td>\n",
       "    </tr>\n",
       "  </tbody>\n",
       "</table>\n",
       "</div>"
      ],
      "text/plain": [
       "    RegistrationMonth   rows\n",
       "0                   0  37352\n",
       "1                   1  23218\n",
       "2                   2  21267\n",
       "3                   3  34373\n",
       "4                   4  29270\n",
       "5                   5  29153\n",
       "6                   6  31507\n",
       "7                   7  27211\n",
       "8                   8  22627\n",
       "9                   9  23813\n",
       "10                 10  26099\n",
       "11                 11  24186\n",
       "12                 12  24289"
      ]
     },
     "execution_count": 7,
     "metadata": {},
     "output_type": "execute_result"
    }
   ],
   "source": [
    "df.groupby('RegistrationMonth', as_index=False).agg(rows=('DateCrawled', 'count'))"
   ]
  },
  {
   "cell_type": "markdown",
   "metadata": {},
   "source": [
    "Много значений с нулевым месяцем. Не очень понятно что это значит - 1-й месяц? 12-й месяц? неизвестный месяц? Не пойдёт.  \n",
    "Попробуем взять разницу в годах, посмотрим какие самые поздние и ранние у нас есть."
   ]
  },
  {
   "cell_type": "code",
   "execution_count": 8,
   "metadata": {
    "scrolled": true
   },
   "outputs": [
    {
     "data": {
      "text/html": [
       "<div>\n",
       "<style scoped>\n",
       "    .dataframe tbody tr th:only-of-type {\n",
       "        vertical-align: middle;\n",
       "    }\n",
       "\n",
       "    .dataframe tbody tr th {\n",
       "        vertical-align: top;\n",
       "    }\n",
       "\n",
       "    .dataframe thead th {\n",
       "        text-align: right;\n",
       "    }\n",
       "</style>\n",
       "<table border=\"1\" class=\"dataframe\">\n",
       "  <thead>\n",
       "    <tr style=\"text-align: right;\">\n",
       "      <th></th>\n",
       "      <th>RegistrationYear</th>\n",
       "      <th>rows</th>\n",
       "    </tr>\n",
       "  </thead>\n",
       "  <tbody>\n",
       "    <tr>\n",
       "      <th>150</th>\n",
       "      <td>9999</td>\n",
       "      <td>26</td>\n",
       "    </tr>\n",
       "    <tr>\n",
       "      <th>149</th>\n",
       "      <td>9996</td>\n",
       "      <td>1</td>\n",
       "    </tr>\n",
       "    <tr>\n",
       "      <th>148</th>\n",
       "      <td>9450</td>\n",
       "      <td>1</td>\n",
       "    </tr>\n",
       "    <tr>\n",
       "      <th>147</th>\n",
       "      <td>9229</td>\n",
       "      <td>1</td>\n",
       "    </tr>\n",
       "    <tr>\n",
       "      <th>146</th>\n",
       "      <td>9000</td>\n",
       "      <td>3</td>\n",
       "    </tr>\n",
       "    <tr>\n",
       "      <th>145</th>\n",
       "      <td>8888</td>\n",
       "      <td>1</td>\n",
       "    </tr>\n",
       "    <tr>\n",
       "      <th>144</th>\n",
       "      <td>8500</td>\n",
       "      <td>1</td>\n",
       "    </tr>\n",
       "    <tr>\n",
       "      <th>143</th>\n",
       "      <td>8455</td>\n",
       "      <td>1</td>\n",
       "    </tr>\n",
       "    <tr>\n",
       "      <th>142</th>\n",
       "      <td>8200</td>\n",
       "      <td>1</td>\n",
       "    </tr>\n",
       "    <tr>\n",
       "      <th>141</th>\n",
       "      <td>8000</td>\n",
       "      <td>2</td>\n",
       "    </tr>\n",
       "    <tr>\n",
       "      <th>140</th>\n",
       "      <td>7800</td>\n",
       "      <td>1</td>\n",
       "    </tr>\n",
       "    <tr>\n",
       "      <th>139</th>\n",
       "      <td>7500</td>\n",
       "      <td>1</td>\n",
       "    </tr>\n",
       "    <tr>\n",
       "      <th>138</th>\n",
       "      <td>7100</td>\n",
       "      <td>1</td>\n",
       "    </tr>\n",
       "    <tr>\n",
       "      <th>137</th>\n",
       "      <td>7000</td>\n",
       "      <td>4</td>\n",
       "    </tr>\n",
       "    <tr>\n",
       "      <th>136</th>\n",
       "      <td>6500</td>\n",
       "      <td>1</td>\n",
       "    </tr>\n",
       "    <tr>\n",
       "      <th>135</th>\n",
       "      <td>6000</td>\n",
       "      <td>5</td>\n",
       "    </tr>\n",
       "    <tr>\n",
       "      <th>134</th>\n",
       "      <td>5911</td>\n",
       "      <td>2</td>\n",
       "    </tr>\n",
       "    <tr>\n",
       "      <th>133</th>\n",
       "      <td>5900</td>\n",
       "      <td>1</td>\n",
       "    </tr>\n",
       "    <tr>\n",
       "      <th>132</th>\n",
       "      <td>5600</td>\n",
       "      <td>1</td>\n",
       "    </tr>\n",
       "    <tr>\n",
       "      <th>131</th>\n",
       "      <td>5555</td>\n",
       "      <td>2</td>\n",
       "    </tr>\n",
       "  </tbody>\n",
       "</table>\n",
       "</div>"
      ],
      "text/plain": [
       "     RegistrationYear  rows\n",
       "150              9999    26\n",
       "149              9996     1\n",
       "148              9450     1\n",
       "147              9229     1\n",
       "146              9000     3\n",
       "145              8888     1\n",
       "144              8500     1\n",
       "143              8455     1\n",
       "142              8200     1\n",
       "141              8000     2\n",
       "140              7800     1\n",
       "139              7500     1\n",
       "138              7100     1\n",
       "137              7000     4\n",
       "136              6500     1\n",
       "135              6000     5\n",
       "134              5911     2\n",
       "133              5900     1\n",
       "132              5600     1\n",
       "131              5555     2"
      ]
     },
     "execution_count": 8,
     "metadata": {},
     "output_type": "execute_result"
    }
   ],
   "source": [
    "df.groupby('RegistrationYear', as_index=False)\\\n",
    "  .agg(rows=('DateCrawled', 'count'))\\\n",
    "  .sort_values('RegistrationYear', ascending=False).head(20)"
   ]
  },
  {
   "cell_type": "markdown",
   "metadata": {},
   "source": [
    "Любопытно... Тогда попробуем определить \"век\", чтобы увидеть какое количество есть в разные периоды."
   ]
  },
  {
   "cell_type": "code",
   "execution_count": 9,
   "metadata": {
    "scrolled": true
   },
   "outputs": [
    {
     "name": "stderr",
     "output_type": "stream",
     "text": [
      "/var/folders/hj/zp0j66mx775bmpxc6x_4gy8m0000gn/T/ipykernel_72209/3917371418.py:1: SettingWithCopyWarning: \n",
      "A value is trying to be set on a copy of a slice from a DataFrame.\n",
      "Try using .loc[row_indexer,col_indexer] = value instead\n",
      "\n",
      "See the caveats in the documentation: https://pandas.pydata.org/pandas-docs/stable/user_guide/indexing.html#returning-a-view-versus-a-copy\n",
      "  df['century'] = df['RegistrationYear'] // 100\n"
     ]
    },
    {
     "data": {
      "text/plain": [
       "20    252009\n",
       "19    102186\n",
       "10        39\n",
       "99        27\n",
       "50        17\n",
       "30         7\n",
       "12         7\n",
       "15         5\n",
       "18         5\n",
       "60         5\n",
       "16         4\n",
       "25         4\n",
       "70         4\n",
       "22         4\n",
       "90         3\n",
       "59         3\n",
       "40         3\n",
       "11         3\n",
       "28         2\n",
       "80         2\n",
       "45         2\n",
       "13         2\n",
       "55         2\n",
       "75         1\n",
       "82         1\n",
       "71         1\n",
       "92         1\n",
       "78         1\n",
       "84         1\n",
       "56         1\n",
       "29         1\n",
       "53         1\n",
       "94         1\n",
       "32         1\n",
       "65         1\n",
       "88         1\n",
       "48         1\n",
       "38         1\n",
       "37         1\n",
       "85         1\n",
       "41         1\n",
       "14         1\n",
       "35         1\n",
       "Name: century, dtype: int64"
      ]
     },
     "execution_count": 9,
     "metadata": {},
     "output_type": "execute_result"
    }
   ],
   "source": [
    "df['century'] = df['RegistrationYear'] // 100\n",
    "df['century'].value_counts()"
   ]
  },
  {
   "cell_type": "markdown",
   "metadata": {},
   "source": [
    "Большинство значений корректны - 1900-е и 2000-е годы. Уберем остальные, поскольку их не много и непонятно чем их заменить. "
   ]
  },
  {
   "cell_type": "code",
   "execution_count": 10,
   "metadata": {},
   "outputs": [
    {
     "data": {
      "text/plain": [
       "20    252009\n",
       "19    102186\n",
       "Name: century, dtype: int64"
      ]
     },
     "execution_count": 10,
     "metadata": {},
     "output_type": "execute_result"
    }
   ],
   "source": [
    "df = df.query('century in (19, 20)')\n",
    "df['century'].value_counts()"
   ]
  },
  {
   "cell_type": "markdown",
   "metadata": {},
   "source": [
    "Успешно. Удалим лишний столбец."
   ]
  },
  {
   "cell_type": "code",
   "execution_count": 11,
   "metadata": {},
   "outputs": [],
   "source": [
    "df = df.drop('century', axis=1)"
   ]
  },
  {
   "cell_type": "markdown",
   "metadata": {},
   "source": [
    "Отсортируем то что осталось, посмотрим на минимум и максимум."
   ]
  },
  {
   "cell_type": "code",
   "execution_count": 12,
   "metadata": {},
   "outputs": [
    {
     "data": {
      "text/plain": [
       "270908    1910\n",
       "125180    1910\n",
       "353957    1910\n",
       "35943     1910\n",
       "176275    1910\n",
       "          ... \n",
       "48562     2019\n",
       "247098    2019\n",
       "274722    2019\n",
       "209500    2019\n",
       "26560     2066\n",
       "Name: RegistrationYear, Length: 354195, dtype: int64"
      ]
     },
     "execution_count": 12,
     "metadata": {},
     "output_type": "execute_result"
    }
   ],
   "source": [
    "df['RegistrationYear'].sort_values()"
   ]
  },
  {
   "cell_type": "markdown",
   "metadata": {},
   "source": [
    "Много 1910-х - абсолютный раритет, и одно авто из будущего - 2066.  \n",
    "Посмотрим подробнее."
   ]
  },
  {
   "cell_type": "code",
   "execution_count": 13,
   "metadata": {},
   "outputs": [
    {
     "data": {
      "text/plain": [
       "count    354195.000000\n",
       "mean       2003.084987\n",
       "std           7.537187\n",
       "min        1910.000000\n",
       "1%         1980.000000\n",
       "2%         1987.000000\n",
       "3%         1990.000000\n",
       "50%        2003.000000\n",
       "max        2066.000000\n",
       "Name: RegistrationYear, dtype: float64"
      ]
     },
     "execution_count": 13,
     "metadata": {},
     "output_type": "execute_result"
    }
   ],
   "source": [
    "df['RegistrationYear'].describe(percentiles=[.01, .02, .03])"
   ]
  },
  {
   "cell_type": "markdown",
   "metadata": {},
   "source": [
    "Да, таких тоже не много. Посмотрим на распределение того 1%, который ранее 1980 года."
   ]
  },
  {
   "cell_type": "code",
   "execution_count": 14,
   "metadata": {
    "scrolled": true
   },
   "outputs": [
    {
     "data": {
      "text/html": [
       "<div>\n",
       "<style scoped>\n",
       "    .dataframe tbody tr th:only-of-type {\n",
       "        vertical-align: middle;\n",
       "    }\n",
       "\n",
       "    .dataframe tbody tr th {\n",
       "        vertical-align: top;\n",
       "    }\n",
       "\n",
       "    .dataframe thead th {\n",
       "        text-align: right;\n",
       "    }\n",
       "</style>\n",
       "<table border=\"1\" class=\"dataframe\">\n",
       "  <thead>\n",
       "    <tr style=\"text-align: right;\">\n",
       "      <th></th>\n",
       "      <th>RegistrationYear</th>\n",
       "      <th>rows</th>\n",
       "    </tr>\n",
       "  </thead>\n",
       "  <tbody>\n",
       "    <tr>\n",
       "      <th>0</th>\n",
       "      <td>1910</td>\n",
       "      <td>101</td>\n",
       "    </tr>\n",
       "    <tr>\n",
       "      <th>1</th>\n",
       "      <td>1915</td>\n",
       "      <td>1</td>\n",
       "    </tr>\n",
       "    <tr>\n",
       "      <th>2</th>\n",
       "      <td>1919</td>\n",
       "      <td>1</td>\n",
       "    </tr>\n",
       "    <tr>\n",
       "      <th>3</th>\n",
       "      <td>1920</td>\n",
       "      <td>1</td>\n",
       "    </tr>\n",
       "    <tr>\n",
       "      <th>4</th>\n",
       "      <td>1923</td>\n",
       "      <td>2</td>\n",
       "    </tr>\n",
       "    <tr>\n",
       "      <th>5</th>\n",
       "      <td>1925</td>\n",
       "      <td>1</td>\n",
       "    </tr>\n",
       "    <tr>\n",
       "      <th>6</th>\n",
       "      <td>1927</td>\n",
       "      <td>1</td>\n",
       "    </tr>\n",
       "    <tr>\n",
       "      <th>7</th>\n",
       "      <td>1928</td>\n",
       "      <td>2</td>\n",
       "    </tr>\n",
       "    <tr>\n",
       "      <th>8</th>\n",
       "      <td>1929</td>\n",
       "      <td>7</td>\n",
       "    </tr>\n",
       "    <tr>\n",
       "      <th>9</th>\n",
       "      <td>1930</td>\n",
       "      <td>3</td>\n",
       "    </tr>\n",
       "    <tr>\n",
       "      <th>10</th>\n",
       "      <td>1931</td>\n",
       "      <td>1</td>\n",
       "    </tr>\n",
       "    <tr>\n",
       "      <th>11</th>\n",
       "      <td>1932</td>\n",
       "      <td>3</td>\n",
       "    </tr>\n",
       "    <tr>\n",
       "      <th>12</th>\n",
       "      <td>1933</td>\n",
       "      <td>3</td>\n",
       "    </tr>\n",
       "    <tr>\n",
       "      <th>13</th>\n",
       "      <td>1934</td>\n",
       "      <td>3</td>\n",
       "    </tr>\n",
       "    <tr>\n",
       "      <th>14</th>\n",
       "      <td>1935</td>\n",
       "      <td>4</td>\n",
       "    </tr>\n",
       "    <tr>\n",
       "      <th>15</th>\n",
       "      <td>1936</td>\n",
       "      <td>3</td>\n",
       "    </tr>\n",
       "    <tr>\n",
       "      <th>16</th>\n",
       "      <td>1937</td>\n",
       "      <td>11</td>\n",
       "    </tr>\n",
       "    <tr>\n",
       "      <th>17</th>\n",
       "      <td>1938</td>\n",
       "      <td>8</td>\n",
       "    </tr>\n",
       "    <tr>\n",
       "      <th>18</th>\n",
       "      <td>1940</td>\n",
       "      <td>2</td>\n",
       "    </tr>\n",
       "    <tr>\n",
       "      <th>19</th>\n",
       "      <td>1941</td>\n",
       "      <td>2</td>\n",
       "    </tr>\n",
       "    <tr>\n",
       "      <th>20</th>\n",
       "      <td>1942</td>\n",
       "      <td>3</td>\n",
       "    </tr>\n",
       "    <tr>\n",
       "      <th>21</th>\n",
       "      <td>1943</td>\n",
       "      <td>4</td>\n",
       "    </tr>\n",
       "    <tr>\n",
       "      <th>22</th>\n",
       "      <td>1944</td>\n",
       "      <td>2</td>\n",
       "    </tr>\n",
       "    <tr>\n",
       "      <th>23</th>\n",
       "      <td>1945</td>\n",
       "      <td>4</td>\n",
       "    </tr>\n",
       "    <tr>\n",
       "      <th>24</th>\n",
       "      <td>1946</td>\n",
       "      <td>1</td>\n",
       "    </tr>\n",
       "    <tr>\n",
       "      <th>25</th>\n",
       "      <td>1947</td>\n",
       "      <td>2</td>\n",
       "    </tr>\n",
       "    <tr>\n",
       "      <th>26</th>\n",
       "      <td>1948</td>\n",
       "      <td>3</td>\n",
       "    </tr>\n",
       "    <tr>\n",
       "      <th>27</th>\n",
       "      <td>1949</td>\n",
       "      <td>1</td>\n",
       "    </tr>\n",
       "    <tr>\n",
       "      <th>28</th>\n",
       "      <td>1950</td>\n",
       "      <td>18</td>\n",
       "    </tr>\n",
       "    <tr>\n",
       "      <th>29</th>\n",
       "      <td>1951</td>\n",
       "      <td>12</td>\n",
       "    </tr>\n",
       "    <tr>\n",
       "      <th>30</th>\n",
       "      <td>1952</td>\n",
       "      <td>9</td>\n",
       "    </tr>\n",
       "    <tr>\n",
       "      <th>31</th>\n",
       "      <td>1953</td>\n",
       "      <td>14</td>\n",
       "    </tr>\n",
       "    <tr>\n",
       "      <th>32</th>\n",
       "      <td>1954</td>\n",
       "      <td>11</td>\n",
       "    </tr>\n",
       "    <tr>\n",
       "      <th>33</th>\n",
       "      <td>1955</td>\n",
       "      <td>15</td>\n",
       "    </tr>\n",
       "    <tr>\n",
       "      <th>34</th>\n",
       "      <td>1956</td>\n",
       "      <td>27</td>\n",
       "    </tr>\n",
       "    <tr>\n",
       "      <th>35</th>\n",
       "      <td>1957</td>\n",
       "      <td>13</td>\n",
       "    </tr>\n",
       "    <tr>\n",
       "      <th>36</th>\n",
       "      <td>1958</td>\n",
       "      <td>25</td>\n",
       "    </tr>\n",
       "    <tr>\n",
       "      <th>37</th>\n",
       "      <td>1959</td>\n",
       "      <td>32</td>\n",
       "    </tr>\n",
       "    <tr>\n",
       "      <th>38</th>\n",
       "      <td>1960</td>\n",
       "      <td>188</td>\n",
       "    </tr>\n",
       "    <tr>\n",
       "      <th>39</th>\n",
       "      <td>1961</td>\n",
       "      <td>41</td>\n",
       "    </tr>\n",
       "    <tr>\n",
       "      <th>40</th>\n",
       "      <td>1962</td>\n",
       "      <td>46</td>\n",
       "    </tr>\n",
       "    <tr>\n",
       "      <th>41</th>\n",
       "      <td>1963</td>\n",
       "      <td>57</td>\n",
       "    </tr>\n",
       "    <tr>\n",
       "      <th>42</th>\n",
       "      <td>1964</td>\n",
       "      <td>64</td>\n",
       "    </tr>\n",
       "    <tr>\n",
       "      <th>43</th>\n",
       "      <td>1965</td>\n",
       "      <td>82</td>\n",
       "    </tr>\n",
       "    <tr>\n",
       "      <th>44</th>\n",
       "      <td>1966</td>\n",
       "      <td>113</td>\n",
       "    </tr>\n",
       "    <tr>\n",
       "      <th>45</th>\n",
       "      <td>1967</td>\n",
       "      <td>99</td>\n",
       "    </tr>\n",
       "    <tr>\n",
       "      <th>46</th>\n",
       "      <td>1968</td>\n",
       "      <td>108</td>\n",
       "    </tr>\n",
       "    <tr>\n",
       "      <th>47</th>\n",
       "      <td>1969</td>\n",
       "      <td>118</td>\n",
       "    </tr>\n",
       "    <tr>\n",
       "      <th>48</th>\n",
       "      <td>1970</td>\n",
       "      <td>333</td>\n",
       "    </tr>\n",
       "    <tr>\n",
       "      <th>49</th>\n",
       "      <td>1971</td>\n",
       "      <td>167</td>\n",
       "    </tr>\n",
       "    <tr>\n",
       "      <th>50</th>\n",
       "      <td>1972</td>\n",
       "      <td>213</td>\n",
       "    </tr>\n",
       "    <tr>\n",
       "      <th>51</th>\n",
       "      <td>1973</td>\n",
       "      <td>173</td>\n",
       "    </tr>\n",
       "    <tr>\n",
       "      <th>52</th>\n",
       "      <td>1974</td>\n",
       "      <td>169</td>\n",
       "    </tr>\n",
       "    <tr>\n",
       "      <th>53</th>\n",
       "      <td>1975</td>\n",
       "      <td>143</td>\n",
       "    </tr>\n",
       "    <tr>\n",
       "      <th>54</th>\n",
       "      <td>1976</td>\n",
       "      <td>175</td>\n",
       "    </tr>\n",
       "    <tr>\n",
       "      <th>55</th>\n",
       "      <td>1977</td>\n",
       "      <td>173</td>\n",
       "    </tr>\n",
       "    <tr>\n",
       "      <th>56</th>\n",
       "      <td>1978</td>\n",
       "      <td>285</td>\n",
       "    </tr>\n",
       "    <tr>\n",
       "      <th>57</th>\n",
       "      <td>1979</td>\n",
       "      <td>283</td>\n",
       "    </tr>\n",
       "  </tbody>\n",
       "</table>\n",
       "</div>"
      ],
      "text/plain": [
       "    RegistrationYear  rows\n",
       "0               1910   101\n",
       "1               1915     1\n",
       "2               1919     1\n",
       "3               1920     1\n",
       "4               1923     2\n",
       "5               1925     1\n",
       "6               1927     1\n",
       "7               1928     2\n",
       "8               1929     7\n",
       "9               1930     3\n",
       "10              1931     1\n",
       "11              1932     3\n",
       "12              1933     3\n",
       "13              1934     3\n",
       "14              1935     4\n",
       "15              1936     3\n",
       "16              1937    11\n",
       "17              1938     8\n",
       "18              1940     2\n",
       "19              1941     2\n",
       "20              1942     3\n",
       "21              1943     4\n",
       "22              1944     2\n",
       "23              1945     4\n",
       "24              1946     1\n",
       "25              1947     2\n",
       "26              1948     3\n",
       "27              1949     1\n",
       "28              1950    18\n",
       "29              1951    12\n",
       "30              1952     9\n",
       "31              1953    14\n",
       "32              1954    11\n",
       "33              1955    15\n",
       "34              1956    27\n",
       "35              1957    13\n",
       "36              1958    25\n",
       "37              1959    32\n",
       "38              1960   188\n",
       "39              1961    41\n",
       "40              1962    46\n",
       "41              1963    57\n",
       "42              1964    64\n",
       "43              1965    82\n",
       "44              1966   113\n",
       "45              1967    99\n",
       "46              1968   108\n",
       "47              1969   118\n",
       "48              1970   333\n",
       "49              1971   167\n",
       "50              1972   213\n",
       "51              1973   173\n",
       "52              1974   169\n",
       "53              1975   143\n",
       "54              1976   175\n",
       "55              1977   173\n",
       "56              1978   285\n",
       "57              1979   283"
      ]
     },
     "execution_count": 14,
     "metadata": {},
     "output_type": "execute_result"
    }
   ],
   "source": [
    "df.query('RegistrationYear < 1980')\\\n",
    "  .groupby('RegistrationYear', as_index=False)\\\n",
    "  .agg(rows=('Price', 'count'))"
   ]
  },
  {
   "cell_type": "markdown",
   "metadata": {},
   "source": [
    "Не много, но чем дальше тем их больше. Какая-то часть действительно похожа на правду, но слишком ранние - вряд ли. Посмотрим что за авто 1910 года."
   ]
  },
  {
   "cell_type": "code",
   "execution_count": 15,
   "metadata": {
    "scrolled": true
   },
   "outputs": [
    {
     "data": {
      "text/html": [
       "<div>\n",
       "<style scoped>\n",
       "    .dataframe tbody tr th:only-of-type {\n",
       "        vertical-align: middle;\n",
       "    }\n",
       "\n",
       "    .dataframe tbody tr th {\n",
       "        vertical-align: top;\n",
       "    }\n",
       "\n",
       "    .dataframe thead th {\n",
       "        text-align: right;\n",
       "    }\n",
       "</style>\n",
       "<table border=\"1\" class=\"dataframe\">\n",
       "  <thead>\n",
       "    <tr style=\"text-align: right;\">\n",
       "      <th></th>\n",
       "      <th>DateCrawled</th>\n",
       "      <th>Price</th>\n",
       "      <th>VehicleType</th>\n",
       "      <th>RegistrationYear</th>\n",
       "      <th>Gearbox</th>\n",
       "      <th>Power</th>\n",
       "      <th>Model</th>\n",
       "      <th>Kilometer</th>\n",
       "      <th>RegistrationMonth</th>\n",
       "      <th>FuelType</th>\n",
       "      <th>Brand</th>\n",
       "      <th>Repaired</th>\n",
       "      <th>DateCreated</th>\n",
       "      <th>NumberOfPictures</th>\n",
       "      <th>PostalCode</th>\n",
       "      <th>LastSeen</th>\n",
       "    </tr>\n",
       "  </thead>\n",
       "  <tbody>\n",
       "    <tr>\n",
       "      <th>15</th>\n",
       "      <td>2016-03-11 21:39:15</td>\n",
       "      <td>450</td>\n",
       "      <td>small</td>\n",
       "      <td>1910</td>\n",
       "      <td>NaN</td>\n",
       "      <td>0</td>\n",
       "      <td>ka</td>\n",
       "      <td>5000</td>\n",
       "      <td>0</td>\n",
       "      <td>petrol</td>\n",
       "      <td>ford</td>\n",
       "      <td>NaN</td>\n",
       "      <td>2016-03-11</td>\n",
       "      <td>0</td>\n",
       "      <td>24148</td>\n",
       "      <td>2016-03-19 08:46:47</td>\n",
       "    </tr>\n",
       "    <tr>\n",
       "      <th>6629</th>\n",
       "      <td>2016-04-02 13:47:16</td>\n",
       "      <td>0</td>\n",
       "      <td>small</td>\n",
       "      <td>1910</td>\n",
       "      <td>NaN</td>\n",
       "      <td>0</td>\n",
       "      <td>NaN</td>\n",
       "      <td>5000</td>\n",
       "      <td>1</td>\n",
       "      <td>other</td>\n",
       "      <td>sonstige_autos</td>\n",
       "      <td>NaN</td>\n",
       "      <td>2016-04-02</td>\n",
       "      <td>0</td>\n",
       "      <td>93105</td>\n",
       "      <td>2016-04-04 11:16:30</td>\n",
       "    </tr>\n",
       "    <tr>\n",
       "      <th>6977</th>\n",
       "      <td>2016-03-24 08:37:22</td>\n",
       "      <td>135</td>\n",
       "      <td>NaN</td>\n",
       "      <td>1910</td>\n",
       "      <td>NaN</td>\n",
       "      <td>0</td>\n",
       "      <td>NaN</td>\n",
       "      <td>5000</td>\n",
       "      <td>0</td>\n",
       "      <td>NaN</td>\n",
       "      <td>opel</td>\n",
       "      <td>NaN</td>\n",
       "      <td>2016-03-24</td>\n",
       "      <td>0</td>\n",
       "      <td>19374</td>\n",
       "      <td>2016-04-06 20:46:08</td>\n",
       "    </tr>\n",
       "    <tr>\n",
       "      <th>10183</th>\n",
       "      <td>2016-03-27 13:59:08</td>\n",
       "      <td>1250</td>\n",
       "      <td>NaN</td>\n",
       "      <td>1910</td>\n",
       "      <td>NaN</td>\n",
       "      <td>0</td>\n",
       "      <td>other</td>\n",
       "      <td>5000</td>\n",
       "      <td>0</td>\n",
       "      <td>NaN</td>\n",
       "      <td>audi</td>\n",
       "      <td>NaN</td>\n",
       "      <td>2016-03-27</td>\n",
       "      <td>0</td>\n",
       "      <td>18445</td>\n",
       "      <td>2016-04-07 10:45:31</td>\n",
       "    </tr>\n",
       "    <tr>\n",
       "      <th>18023</th>\n",
       "      <td>2016-03-24 08:57:13</td>\n",
       "      <td>1</td>\n",
       "      <td>NaN</td>\n",
       "      <td>1910</td>\n",
       "      <td>NaN</td>\n",
       "      <td>0</td>\n",
       "      <td>NaN</td>\n",
       "      <td>5000</td>\n",
       "      <td>0</td>\n",
       "      <td>NaN</td>\n",
       "      <td>volkswagen</td>\n",
       "      <td>NaN</td>\n",
       "      <td>2016-03-24</td>\n",
       "      <td>0</td>\n",
       "      <td>50829</td>\n",
       "      <td>2016-04-06 22:45:09</td>\n",
       "    </tr>\n",
       "    <tr>\n",
       "      <th>...</th>\n",
       "      <td>...</td>\n",
       "      <td>...</td>\n",
       "      <td>...</td>\n",
       "      <td>...</td>\n",
       "      <td>...</td>\n",
       "      <td>...</td>\n",
       "      <td>...</td>\n",
       "      <td>...</td>\n",
       "      <td>...</td>\n",
       "      <td>...</td>\n",
       "      <td>...</td>\n",
       "      <td>...</td>\n",
       "      <td>...</td>\n",
       "      <td>...</td>\n",
       "      <td>...</td>\n",
       "      <td>...</td>\n",
       "    </tr>\n",
       "    <tr>\n",
       "      <th>331072</th>\n",
       "      <td>2016-03-26 03:29:46</td>\n",
       "      <td>0</td>\n",
       "      <td>NaN</td>\n",
       "      <td>1910</td>\n",
       "      <td>NaN</td>\n",
       "      <td>0</td>\n",
       "      <td>NaN</td>\n",
       "      <td>5000</td>\n",
       "      <td>1</td>\n",
       "      <td>NaN</td>\n",
       "      <td>sonstige_autos</td>\n",
       "      <td>NaN</td>\n",
       "      <td>2016-03-25</td>\n",
       "      <td>0</td>\n",
       "      <td>35606</td>\n",
       "      <td>2016-03-29 08:15:17</td>\n",
       "    </tr>\n",
       "    <tr>\n",
       "      <th>333000</th>\n",
       "      <td>2016-03-20 14:57:29</td>\n",
       "      <td>0</td>\n",
       "      <td>suv</td>\n",
       "      <td>1910</td>\n",
       "      <td>manual</td>\n",
       "      <td>0</td>\n",
       "      <td>NaN</td>\n",
       "      <td>5000</td>\n",
       "      <td>0</td>\n",
       "      <td>NaN</td>\n",
       "      <td>toyota</td>\n",
       "      <td>NaN</td>\n",
       "      <td>2016-03-20</td>\n",
       "      <td>0</td>\n",
       "      <td>48683</td>\n",
       "      <td>2016-03-20 14:57:29</td>\n",
       "    </tr>\n",
       "    <tr>\n",
       "      <th>334897</th>\n",
       "      <td>2016-03-29 03:36:18</td>\n",
       "      <td>1300</td>\n",
       "      <td>NaN</td>\n",
       "      <td>1910</td>\n",
       "      <td>NaN</td>\n",
       "      <td>0</td>\n",
       "      <td>NaN</td>\n",
       "      <td>5000</td>\n",
       "      <td>9</td>\n",
       "      <td>NaN</td>\n",
       "      <td>audi</td>\n",
       "      <td>NaN</td>\n",
       "      <td>2016-03-29</td>\n",
       "      <td>0</td>\n",
       "      <td>82256</td>\n",
       "      <td>2016-04-05 17:25:59</td>\n",
       "    </tr>\n",
       "    <tr>\n",
       "      <th>343079</th>\n",
       "      <td>2016-04-01 08:51:08</td>\n",
       "      <td>1</td>\n",
       "      <td>other</td>\n",
       "      <td>1910</td>\n",
       "      <td>NaN</td>\n",
       "      <td>0</td>\n",
       "      <td>NaN</td>\n",
       "      <td>5000</td>\n",
       "      <td>1</td>\n",
       "      <td>other</td>\n",
       "      <td>volkswagen</td>\n",
       "      <td>NaN</td>\n",
       "      <td>2016-04-01</td>\n",
       "      <td>0</td>\n",
       "      <td>18273</td>\n",
       "      <td>2016-04-07 05:44:39</td>\n",
       "    </tr>\n",
       "    <tr>\n",
       "      <th>353957</th>\n",
       "      <td>2016-03-17 13:54:22</td>\n",
       "      <td>200</td>\n",
       "      <td>NaN</td>\n",
       "      <td>1910</td>\n",
       "      <td>NaN</td>\n",
       "      <td>0</td>\n",
       "      <td>NaN</td>\n",
       "      <td>5000</td>\n",
       "      <td>0</td>\n",
       "      <td>petrol</td>\n",
       "      <td>sonstige_autos</td>\n",
       "      <td>NaN</td>\n",
       "      <td>2016-03-17</td>\n",
       "      <td>0</td>\n",
       "      <td>42289</td>\n",
       "      <td>2016-03-31 22:46:47</td>\n",
       "    </tr>\n",
       "  </tbody>\n",
       "</table>\n",
       "<p>101 rows × 16 columns</p>\n",
       "</div>"
      ],
      "text/plain": [
       "               DateCrawled  Price VehicleType  RegistrationYear Gearbox  \\\n",
       "15     2016-03-11 21:39:15    450       small              1910     NaN   \n",
       "6629   2016-04-02 13:47:16      0       small              1910     NaN   \n",
       "6977   2016-03-24 08:37:22    135         NaN              1910     NaN   \n",
       "10183  2016-03-27 13:59:08   1250         NaN              1910     NaN   \n",
       "18023  2016-03-24 08:57:13      1         NaN              1910     NaN   \n",
       "...                    ...    ...         ...               ...     ...   \n",
       "331072 2016-03-26 03:29:46      0         NaN              1910     NaN   \n",
       "333000 2016-03-20 14:57:29      0         suv              1910  manual   \n",
       "334897 2016-03-29 03:36:18   1300         NaN              1910     NaN   \n",
       "343079 2016-04-01 08:51:08      1       other              1910     NaN   \n",
       "353957 2016-03-17 13:54:22    200         NaN              1910     NaN   \n",
       "\n",
       "        Power  Model  Kilometer  RegistrationMonth FuelType           Brand  \\\n",
       "15          0     ka       5000                  0   petrol            ford   \n",
       "6629        0    NaN       5000                  1    other  sonstige_autos   \n",
       "6977        0    NaN       5000                  0      NaN            opel   \n",
       "10183       0  other       5000                  0      NaN            audi   \n",
       "18023       0    NaN       5000                  0      NaN      volkswagen   \n",
       "...       ...    ...        ...                ...      ...             ...   \n",
       "331072      0    NaN       5000                  1      NaN  sonstige_autos   \n",
       "333000      0    NaN       5000                  0      NaN          toyota   \n",
       "334897      0    NaN       5000                  9      NaN            audi   \n",
       "343079      0    NaN       5000                  1    other      volkswagen   \n",
       "353957      0    NaN       5000                  0   petrol  sonstige_autos   \n",
       "\n",
       "       Repaired DateCreated  NumberOfPictures  PostalCode            LastSeen  \n",
       "15          NaN  2016-03-11                 0       24148 2016-03-19 08:46:47  \n",
       "6629        NaN  2016-04-02                 0       93105 2016-04-04 11:16:30  \n",
       "6977        NaN  2016-03-24                 0       19374 2016-04-06 20:46:08  \n",
       "10183       NaN  2016-03-27                 0       18445 2016-04-07 10:45:31  \n",
       "18023       NaN  2016-03-24                 0       50829 2016-04-06 22:45:09  \n",
       "...         ...         ...               ...         ...                 ...  \n",
       "331072      NaN  2016-03-25                 0       35606 2016-03-29 08:15:17  \n",
       "333000      NaN  2016-03-20                 0       48683 2016-03-20 14:57:29  \n",
       "334897      NaN  2016-03-29                 0       82256 2016-04-05 17:25:59  \n",
       "343079      NaN  2016-04-01                 0       18273 2016-04-07 05:44:39  \n",
       "353957      NaN  2016-03-17                 0       42289 2016-03-31 22:46:47  \n",
       "\n",
       "[101 rows x 16 columns]"
      ]
     },
     "execution_count": 15,
     "metadata": {},
     "output_type": "execute_result"
    }
   ],
   "source": [
    "df.query('RegistrationYear == 1910')"
   ]
  },
  {
   "cell_type": "markdown",
   "metadata": {},
   "source": [
    "По многим данные отсутствуют. Для наглядности посмотрим на распределение."
   ]
  },
  {
   "cell_type": "code",
   "execution_count": 16,
   "metadata": {},
   "outputs": [
    {
     "data": {
      "image/png": "[encoded data removed]",
      "text/plain": [
       "<Figure size 1200x800 with 1 Axes>"
      ]
     },
     "metadata": {},
     "output_type": "display_data"
    }
   ],
   "source": [
    "plt.figure(figsize=(12, 8))\n",
    "plt.hist(df.query('1980 > RegistrationYear >= 1910')[['RegistrationYear']], bins=50)\n",
    "plt.grid(True)\n",
    "plt.title('Распределение количествоа автомобилей по году регистрации', fontsize=16)\n",
    "plt.show()"
   ]
  },
  {
   "cell_type": "markdown",
   "metadata": {},
   "source": [
    "После 60-го года их становится больше, и это больше похоже не правду.  \n",
    "Избавимся от тех немногих что были ранее, и от 2066 года."
   ]
  },
  {
   "cell_type": "code",
   "execution_count": 17,
   "metadata": {},
   "outputs": [],
   "source": [
    "df = df.query('1959 < RegistrationYear < 2017')"
   ]
  },
  {
   "cell_type": "markdown",
   "metadata": {},
   "source": [
    "Отнимем от года создания анкеты год регистрации авто, чтобы примерно воссоздать его возраст."
   ]
  },
  {
   "cell_type": "code",
   "execution_count": 18,
   "metadata": {},
   "outputs": [
    {
     "name": "stdout",
     "output_type": "stream",
     "text": [
      "0         23\n",
      "1          5\n",
      "2         12\n",
      "3         15\n",
      "4          8\n",
      "          ..\n",
      "354360    11\n",
      "354361    11\n",
      "354362    16\n",
      "354363    20\n",
      "354364    14\n",
      "Name: YearsFromReg, Length: 339413, dtype: int64\n"
     ]
    }
   ],
   "source": [
    "df.loc[:, 'YearsFromReg'] = (df['DateCreated'].dt.year).astype('int64') - df['RegistrationYear']\n",
    "print(df['YearsFromReg'])"
   ]
  },
  {
   "cell_type": "markdown",
   "metadata": {},
   "source": [
    "Есть ли автомобили которые выставили на продажу за несколько лет до постановки на учет? Если да, то вероятно это ошибка в данных."
   ]
  },
  {
   "cell_type": "code",
   "execution_count": 19,
   "metadata": {},
   "outputs": [
    {
     "data": {
      "text/html": [
       "<div>\n",
       "<style scoped>\n",
       "    .dataframe tbody tr th:only-of-type {\n",
       "        vertical-align: middle;\n",
       "    }\n",
       "\n",
       "    .dataframe tbody tr th {\n",
       "        vertical-align: top;\n",
       "    }\n",
       "\n",
       "    .dataframe thead th {\n",
       "        text-align: right;\n",
       "    }\n",
       "</style>\n",
       "<table border=\"1\" class=\"dataframe\">\n",
       "  <thead>\n",
       "    <tr style=\"text-align: right;\">\n",
       "      <th></th>\n",
       "      <th>RegistrationYear</th>\n",
       "      <th>DateCreated</th>\n",
       "      <th>YearsFromReg</th>\n",
       "    </tr>\n",
       "  </thead>\n",
       "  <tbody>\n",
       "  </tbody>\n",
       "</table>\n",
       "</div>"
      ],
      "text/plain": [
       "Empty DataFrame\n",
       "Columns: [RegistrationYear, DateCreated, YearsFromReg]\n",
       "Index: []"
      ]
     },
     "execution_count": 19,
     "metadata": {},
     "output_type": "execute_result"
    }
   ],
   "source": [
    "df.query('YearsFromReg < 0')[['RegistrationYear', 'DateCreated', 'YearsFromReg']]"
   ]
  },
  {
   "cell_type": "markdown",
   "metadata": {},
   "source": [
    "Успешно.  \n",
    "Что же с пробегом?"
   ]
  },
  {
   "cell_type": "code",
   "execution_count": 22,
   "metadata": {},
   "outputs": [
    {
     "data": {
      "text/plain": [
       "150000    227546\n",
       "125000     35037\n",
       "100000     14375\n",
       "90000      11184\n",
       "80000       9747\n",
       "70000       8351\n",
       "60000       7272\n",
       "50000       6051\n",
       "5000        5809\n",
       "40000       4811\n",
       "30000       4308\n",
       "20000       3801\n",
       "10000       1121\n",
       "Name: Kilometer, dtype: int64"
      ]
     },
     "execution_count": 22,
     "metadata": {},
     "output_type": "execute_result"
    }
   ],
   "source": [
    "df['Kilometer'].value_counts()"
   ]
  },
  {
   "cell_type": "markdown",
   "metadata": {},
   "source": [
    "Тут все довольно правдоподобно.  \n",
    "Мощность?"
   ]
  },
  {
   "cell_type": "code",
   "execution_count": 23,
   "metadata": {},
   "outputs": [
    {
     "data": {
      "text/plain": [
       "count    339413.000000\n",
       "mean        111.074809\n",
       "std         186.926210\n",
       "min           0.000000\n",
       "1%            0.000000\n",
       "5%            0.000000\n",
       "10%           0.000000\n",
       "11%          34.000000\n",
       "12%          45.000000\n",
       "50%         105.000000\n",
       "90%         180.000000\n",
       "95%         218.000000\n",
       "99%         300.000000\n",
       "99.5%       334.000000\n",
       "max       20000.000000\n",
       "Name: Power, dtype: float64"
      ]
     },
     "execution_count": 23,
     "metadata": {},
     "output_type": "execute_result"
    }
   ],
   "source": [
    "df['Power'].describe(percentiles=[.01, .05, .1, .11, .12, .9, .95, .99, .995])"
   ]
  },
  {
   "cell_type": "markdown",
   "metadata": {},
   "source": [
    "11% нулевых значений и до 20000 лошадиных сил... Любопытно. Посмотрим у кого более 400 л.с."
   ]
  },
  {
   "cell_type": "code",
   "execution_count": 24,
   "metadata": {},
   "outputs": [
    {
     "data": {
      "text/html": [
       "<div>\n",
       "<style scoped>\n",
       "    .dataframe tbody tr th:only-of-type {\n",
       "        vertical-align: middle;\n",
       "    }\n",
       "\n",
       "    .dataframe tbody tr th {\n",
       "        vertical-align: top;\n",
       "    }\n",
       "\n",
       "    .dataframe thead th {\n",
       "        text-align: right;\n",
       "    }\n",
       "</style>\n",
       "<table border=\"1\" class=\"dataframe\">\n",
       "  <thead>\n",
       "    <tr style=\"text-align: right;\">\n",
       "      <th></th>\n",
       "      <th>Power</th>\n",
       "      <th>Kilometer</th>\n",
       "      <th>Price</th>\n",
       "      <th>Model</th>\n",
       "      <th>Brand</th>\n",
       "      <th>RegistrationYear</th>\n",
       "    </tr>\n",
       "  </thead>\n",
       "  <tbody>\n",
       "    <tr>\n",
       "      <th>1816</th>\n",
       "      <td>1398</td>\n",
       "      <td>5000</td>\n",
       "      <td>3200</td>\n",
       "      <td>corolla</td>\n",
       "      <td>toyota</td>\n",
       "      <td>2004</td>\n",
       "    </tr>\n",
       "    <tr>\n",
       "      <th>2102</th>\n",
       "      <td>1799</td>\n",
       "      <td>150000</td>\n",
       "      <td>0</td>\n",
       "      <td>vectra</td>\n",
       "      <td>opel</td>\n",
       "      <td>1999</td>\n",
       "    </tr>\n",
       "    <tr>\n",
       "      <th>2781</th>\n",
       "      <td>450</td>\n",
       "      <td>125000</td>\n",
       "      <td>19500</td>\n",
       "      <td>cayenne</td>\n",
       "      <td>porsche</td>\n",
       "      <td>2004</td>\n",
       "    </tr>\n",
       "    <tr>\n",
       "      <th>3289</th>\n",
       "      <td>476</td>\n",
       "      <td>150000</td>\n",
       "      <td>16899</td>\n",
       "      <td>e_klasse</td>\n",
       "      <td>mercedes_benz</td>\n",
       "      <td>2003</td>\n",
       "    </tr>\n",
       "    <tr>\n",
       "      <th>4060</th>\n",
       "      <td>953</td>\n",
       "      <td>150000</td>\n",
       "      <td>3100</td>\n",
       "      <td>colt</td>\n",
       "      <td>mitsubishi</td>\n",
       "      <td>2005</td>\n",
       "    </tr>\n",
       "    <tr>\n",
       "      <th>...</th>\n",
       "      <td>...</td>\n",
       "      <td>...</td>\n",
       "      <td>...</td>\n",
       "      <td>...</td>\n",
       "      <td>...</td>\n",
       "      <td>...</td>\n",
       "    </tr>\n",
       "    <tr>\n",
       "      <th>352318</th>\n",
       "      <td>435</td>\n",
       "      <td>150000</td>\n",
       "      <td>15999</td>\n",
       "      <td>other</td>\n",
       "      <td>audi</td>\n",
       "      <td>2007</td>\n",
       "    </tr>\n",
       "    <tr>\n",
       "      <th>353629</th>\n",
       "      <td>650</td>\n",
       "      <td>150000</td>\n",
       "      <td>2400</td>\n",
       "      <td>c2</td>\n",
       "      <td>citroen</td>\n",
       "      <td>2007</td>\n",
       "    </tr>\n",
       "    <tr>\n",
       "      <th>354041</th>\n",
       "      <td>476</td>\n",
       "      <td>125000</td>\n",
       "      <td>20000</td>\n",
       "      <td>other</td>\n",
       "      <td>mercedes_benz</td>\n",
       "      <td>2006</td>\n",
       "    </tr>\n",
       "    <tr>\n",
       "      <th>354256</th>\n",
       "      <td>1103</td>\n",
       "      <td>150000</td>\n",
       "      <td>399</td>\n",
       "      <td>3er</td>\n",
       "      <td>bmw</td>\n",
       "      <td>1994</td>\n",
       "    </tr>\n",
       "    <tr>\n",
       "      <th>354333</th>\n",
       "      <td>445</td>\n",
       "      <td>125000</td>\n",
       "      <td>11500</td>\n",
       "      <td>7er</td>\n",
       "      <td>bmw</td>\n",
       "      <td>2004</td>\n",
       "    </tr>\n",
       "  </tbody>\n",
       "</table>\n",
       "<p>689 rows × 6 columns</p>\n",
       "</div>"
      ],
      "text/plain": [
       "        Power  Kilometer  Price     Model          Brand  RegistrationYear\n",
       "1816     1398       5000   3200   corolla         toyota              2004\n",
       "2102     1799     150000      0    vectra           opel              1999\n",
       "2781      450     125000  19500   cayenne        porsche              2004\n",
       "3289      476     150000  16899  e_klasse  mercedes_benz              2003\n",
       "4060      953     150000   3100      colt     mitsubishi              2005\n",
       "...       ...        ...    ...       ...            ...               ...\n",
       "352318    435     150000  15999     other           audi              2007\n",
       "353629    650     150000   2400        c2        citroen              2007\n",
       "354041    476     125000  20000     other  mercedes_benz              2006\n",
       "354256   1103     150000    399       3er            bmw              1994\n",
       "354333    445     125000  11500       7er            bmw              2004\n",
       "\n",
       "[689 rows x 6 columns]"
      ]
     },
     "execution_count": 24,
     "metadata": {},
     "output_type": "execute_result"
    }
   ],
   "source": [
    "df.query('Power > 400')[['Power', 'Kilometer', 'Price', 'Model', 'Brand', 'RegistrationYear']]"
   ]
  },
  {
   "cell_type": "markdown",
   "metadata": {},
   "source": [
    "Тойота королла с 1398 л.с. за 3200 евро. Впечатляет. В то время как более 400 л.с. у дорогих Мерседесов или БМВ - похоже не правду. Избавимся от слишком больших значений."
   ]
  },
  {
   "cell_type": "code",
   "execution_count": 25,
   "metadata": {},
   "outputs": [],
   "source": [
    "df = df.query('Power < 500')"
   ]
  },
  {
   "cell_type": "markdown",
   "metadata": {},
   "source": [
    "А нулевые заполним средними значениями для данной модели и бренда."
   ]
  },
  {
   "cell_type": "code",
   "execution_count": 26,
   "metadata": {},
   "outputs": [],
   "source": [
    "df = df.merge(df.groupby(['Brand', 'Model'], as_index=False)\\\n",
    "                .agg(avg_power=('Power', 'mean'))\\\n",
    "                .astype({'avg_power': 'int64'}), \n",
    "              on=['Brand', 'Model'], \n",
    "              how='left')\n",
    "\n",
    "df['Power'] = df.apply(lambda x: x['Power'] if x['Power'] > 0 else x['avg_power'], axis=1)\n",
    "df = df.drop(columns=['avg_power'])"
   ]
  },
  {
   "cell_type": "markdown",
   "metadata": {},
   "source": [
    "Что получилось?"
   ]
  },
  {
   "cell_type": "code",
   "execution_count": 27,
   "metadata": {},
   "outputs": [
    {
     "data": {
      "text/plain": [
       "count    333499.000000\n",
       "mean        118.475834\n",
       "std          52.614309\n",
       "min           0.000000\n",
       "1%           45.000000\n",
       "5%           54.000000\n",
       "10%          60.000000\n",
       "11%          60.000000\n",
       "12%          60.000000\n",
       "50%         110.000000\n",
       "90%         184.000000\n",
       "95%         218.000000\n",
       "99%         298.000000\n",
       "99.5%       326.000000\n",
       "max         490.000000\n",
       "Name: Power, dtype: float64"
      ]
     },
     "execution_count": 27,
     "metadata": {},
     "output_type": "execute_result"
    }
   ],
   "source": [
    "df['Power'].describe(percentiles=[.01, .05, .1, .11, .12, .9, .95, .99, .995])"
   ]
  },
  {
   "cell_type": "markdown",
   "metadata": {},
   "source": [
    "Несколько нулевых значений всё-таки осталось. Уберем их из датафрейма."
   ]
  },
  {
   "cell_type": "code",
   "execution_count": 28,
   "metadata": {},
   "outputs": [],
   "source": [
    "df = df.query('Power > 0')"
   ]
  },
  {
   "cell_type": "markdown",
   "metadata": {},
   "source": [
    "А что с целевым признаком?"
   ]
  },
  {
   "cell_type": "code",
   "execution_count": 29,
   "metadata": {},
   "outputs": [
    {
     "data": {
      "text/plain": [
       "count    333497.000000\n",
       "mean       4514.373868\n",
       "std        4549.110905\n",
       "min           0.000000\n",
       "1%            0.000000\n",
       "2%            0.000000\n",
       "3%           35.000000\n",
       "4%          150.000000\n",
       "5%          220.000000\n",
       "10%         500.000000\n",
       "50%        2800.000000\n",
       "max       20000.000000\n",
       "Name: Price, dtype: float64"
      ]
     },
     "execution_count": 29,
     "metadata": {},
     "output_type": "execute_result"
    }
   ],
   "source": [
    "df['Price'].describe(percentiles=[.01, .02, .03, .04, .05, .1])"
   ]
  },
  {
   "cell_type": "markdown",
   "metadata": {},
   "source": [
    "Есть нули, и даже единицы. Что за авто за 1 евро?"
   ]
  },
  {
   "cell_type": "code",
   "execution_count": 30,
   "metadata": {
    "scrolled": true
   },
   "outputs": [
    {
     "data": {
      "text/html": [
       "<div>\n",
       "<style scoped>\n",
       "    .dataframe tbody tr th:only-of-type {\n",
       "        vertical-align: middle;\n",
       "    }\n",
       "\n",
       "    .dataframe tbody tr th {\n",
       "        vertical-align: top;\n",
       "    }\n",
       "\n",
       "    .dataframe thead th {\n",
       "        text-align: right;\n",
       "    }\n",
       "</style>\n",
       "<table border=\"1\" class=\"dataframe\">\n",
       "  <thead>\n",
       "    <tr style=\"text-align: right;\">\n",
       "      <th></th>\n",
       "      <th>DateCrawled</th>\n",
       "      <th>Price</th>\n",
       "      <th>VehicleType</th>\n",
       "      <th>RegistrationYear</th>\n",
       "      <th>Gearbox</th>\n",
       "      <th>Power</th>\n",
       "      <th>Model</th>\n",
       "      <th>Kilometer</th>\n",
       "      <th>RegistrationMonth</th>\n",
       "      <th>FuelType</th>\n",
       "      <th>Brand</th>\n",
       "      <th>Repaired</th>\n",
       "      <th>DateCreated</th>\n",
       "      <th>NumberOfPictures</th>\n",
       "      <th>PostalCode</th>\n",
       "      <th>LastSeen</th>\n",
       "      <th>YearsFromReg</th>\n",
       "    </tr>\n",
       "  </thead>\n",
       "  <tbody>\n",
       "    <tr>\n",
       "      <th>261396</th>\n",
       "      <td>2016-03-19 09:54:53</td>\n",
       "      <td>49</td>\n",
       "      <td>small</td>\n",
       "      <td>1999</td>\n",
       "      <td>NaN</td>\n",
       "      <td>58.0</td>\n",
       "      <td>polo</td>\n",
       "      <td>100000</td>\n",
       "      <td>0</td>\n",
       "      <td>NaN</td>\n",
       "      <td>volkswagen</td>\n",
       "      <td>NaN</td>\n",
       "      <td>2016-03-19</td>\n",
       "      <td>0</td>\n",
       "      <td>6528</td>\n",
       "      <td>2016-04-06 10:15:49</td>\n",
       "      <td>17</td>\n",
       "    </tr>\n",
       "    <tr>\n",
       "      <th>299464</th>\n",
       "      <td>2016-03-16 17:38:47</td>\n",
       "      <td>49</td>\n",
       "      <td>small</td>\n",
       "      <td>1995</td>\n",
       "      <td>manual</td>\n",
       "      <td>70.0</td>\n",
       "      <td>polo</td>\n",
       "      <td>150000</td>\n",
       "      <td>6</td>\n",
       "      <td>petrol</td>\n",
       "      <td>volkswagen</td>\n",
       "      <td>NaN</td>\n",
       "      <td>2016-03-16</td>\n",
       "      <td>0</td>\n",
       "      <td>83139</td>\n",
       "      <td>2016-04-06 23:16:50</td>\n",
       "      <td>21</td>\n",
       "    </tr>\n",
       "    <tr>\n",
       "      <th>6982</th>\n",
       "      <td>2016-03-11 12:48:57</td>\n",
       "      <td>49</td>\n",
       "      <td>NaN</td>\n",
       "      <td>1995</td>\n",
       "      <td>NaN</td>\n",
       "      <td>120.0</td>\n",
       "      <td>passat</td>\n",
       "      <td>150000</td>\n",
       "      <td>0</td>\n",
       "      <td>NaN</td>\n",
       "      <td>volkswagen</td>\n",
       "      <td>NaN</td>\n",
       "      <td>2016-03-11</td>\n",
       "      <td>0</td>\n",
       "      <td>45665</td>\n",
       "      <td>2016-04-07 06:45:12</td>\n",
       "      <td>21</td>\n",
       "    </tr>\n",
       "    <tr>\n",
       "      <th>271885</th>\n",
       "      <td>2016-03-28 23:51:55</td>\n",
       "      <td>49</td>\n",
       "      <td>coupe</td>\n",
       "      <td>2015</td>\n",
       "      <td>auto</td>\n",
       "      <td>430.0</td>\n",
       "      <td>m_reihe</td>\n",
       "      <td>5000</td>\n",
       "      <td>1</td>\n",
       "      <td>petrol</td>\n",
       "      <td>bmw</td>\n",
       "      <td>NaN</td>\n",
       "      <td>2016-03-28</td>\n",
       "      <td>0</td>\n",
       "      <td>63457</td>\n",
       "      <td>2016-03-29 07:42:18</td>\n",
       "      <td>1</td>\n",
       "    </tr>\n",
       "    <tr>\n",
       "      <th>123984</th>\n",
       "      <td>2016-03-14 15:37:39</td>\n",
       "      <td>49</td>\n",
       "      <td>NaN</td>\n",
       "      <td>1980</td>\n",
       "      <td>NaN</td>\n",
       "      <td>95.0</td>\n",
       "      <td>transporter</td>\n",
       "      <td>10000</td>\n",
       "      <td>0</td>\n",
       "      <td>NaN</td>\n",
       "      <td>volkswagen</td>\n",
       "      <td>NaN</td>\n",
       "      <td>2016-03-14</td>\n",
       "      <td>0</td>\n",
       "      <td>22885</td>\n",
       "      <td>2016-03-23 15:47:53</td>\n",
       "      <td>36</td>\n",
       "    </tr>\n",
       "    <tr>\n",
       "      <th>...</th>\n",
       "      <td>...</td>\n",
       "      <td>...</td>\n",
       "      <td>...</td>\n",
       "      <td>...</td>\n",
       "      <td>...</td>\n",
       "      <td>...</td>\n",
       "      <td>...</td>\n",
       "      <td>...</td>\n",
       "      <td>...</td>\n",
       "      <td>...</td>\n",
       "      <td>...</td>\n",
       "      <td>...</td>\n",
       "      <td>...</td>\n",
       "      <td>...</td>\n",
       "      <td>...</td>\n",
       "      <td>...</td>\n",
       "      <td>...</td>\n",
       "    </tr>\n",
       "    <tr>\n",
       "      <th>139997</th>\n",
       "      <td>2016-03-22 10:52:12</td>\n",
       "      <td>1</td>\n",
       "      <td>small</td>\n",
       "      <td>1999</td>\n",
       "      <td>NaN</td>\n",
       "      <td>44.0</td>\n",
       "      <td>cuore</td>\n",
       "      <td>100000</td>\n",
       "      <td>5</td>\n",
       "      <td>petrol</td>\n",
       "      <td>daihatsu</td>\n",
       "      <td>NaN</td>\n",
       "      <td>2016-03-22</td>\n",
       "      <td>0</td>\n",
       "      <td>58640</td>\n",
       "      <td>2016-04-05 23:17:20</td>\n",
       "      <td>17</td>\n",
       "    </tr>\n",
       "    <tr>\n",
       "      <th>140777</th>\n",
       "      <td>2016-03-24 02:36:18</td>\n",
       "      <td>1</td>\n",
       "      <td>NaN</td>\n",
       "      <td>1995</td>\n",
       "      <td>manual</td>\n",
       "      <td>109.0</td>\n",
       "      <td>vectra</td>\n",
       "      <td>5000</td>\n",
       "      <td>0</td>\n",
       "      <td>NaN</td>\n",
       "      <td>opel</td>\n",
       "      <td>NaN</td>\n",
       "      <td>2016-03-24</td>\n",
       "      <td>0</td>\n",
       "      <td>47055</td>\n",
       "      <td>2016-03-30 07:44:54</td>\n",
       "      <td>21</td>\n",
       "    </tr>\n",
       "    <tr>\n",
       "      <th>140820</th>\n",
       "      <td>2016-03-14 20:39:33</td>\n",
       "      <td>1</td>\n",
       "      <td>small</td>\n",
       "      <td>2005</td>\n",
       "      <td>manual</td>\n",
       "      <td>68.0</td>\n",
       "      <td>c2</td>\n",
       "      <td>150000</td>\n",
       "      <td>12</td>\n",
       "      <td>gasoline</td>\n",
       "      <td>citroen</td>\n",
       "      <td>yes</td>\n",
       "      <td>2016-03-14</td>\n",
       "      <td>0</td>\n",
       "      <td>45475</td>\n",
       "      <td>2016-04-06 07:44:30</td>\n",
       "      <td>11</td>\n",
       "    </tr>\n",
       "    <tr>\n",
       "      <th>140901</th>\n",
       "      <td>2016-03-30 10:37:14</td>\n",
       "      <td>1</td>\n",
       "      <td>NaN</td>\n",
       "      <td>2000</td>\n",
       "      <td>auto</td>\n",
       "      <td>231.0</td>\n",
       "      <td>5er</td>\n",
       "      <td>150000</td>\n",
       "      <td>0</td>\n",
       "      <td>NaN</td>\n",
       "      <td>bmw</td>\n",
       "      <td>NaN</td>\n",
       "      <td>2016-03-30</td>\n",
       "      <td>0</td>\n",
       "      <td>55131</td>\n",
       "      <td>2016-04-06 20:18:15</td>\n",
       "      <td>16</td>\n",
       "    </tr>\n",
       "    <tr>\n",
       "      <th>338715</th>\n",
       "      <td>2016-03-28 14:38:14</td>\n",
       "      <td>1</td>\n",
       "      <td>wagon</td>\n",
       "      <td>1993</td>\n",
       "      <td>auto</td>\n",
       "      <td>217.0</td>\n",
       "      <td>5er</td>\n",
       "      <td>150000</td>\n",
       "      <td>12</td>\n",
       "      <td>petrol</td>\n",
       "      <td>bmw</td>\n",
       "      <td>NaN</td>\n",
       "      <td>2016-03-28</td>\n",
       "      <td>0</td>\n",
       "      <td>22941</td>\n",
       "      <td>2016-04-06 18:19:15</td>\n",
       "      <td>23</td>\n",
       "    </tr>\n",
       "  </tbody>\n",
       "</table>\n",
       "<p>1299 rows × 17 columns</p>\n",
       "</div>"
      ],
      "text/plain": [
       "               DateCrawled  Price VehicleType  RegistrationYear Gearbox  \\\n",
       "261396 2016-03-19 09:54:53     49       small              1999     NaN   \n",
       "299464 2016-03-16 17:38:47     49       small              1995  manual   \n",
       "6982   2016-03-11 12:48:57     49         NaN              1995     NaN   \n",
       "271885 2016-03-28 23:51:55     49       coupe              2015    auto   \n",
       "123984 2016-03-14 15:37:39     49         NaN              1980     NaN   \n",
       "...                    ...    ...         ...               ...     ...   \n",
       "139997 2016-03-22 10:52:12      1       small              1999     NaN   \n",
       "140777 2016-03-24 02:36:18      1         NaN              1995  manual   \n",
       "140820 2016-03-14 20:39:33      1       small              2005  manual   \n",
       "140901 2016-03-30 10:37:14      1         NaN              2000    auto   \n",
       "338715 2016-03-28 14:38:14      1       wagon              1993    auto   \n",
       "\n",
       "        Power        Model  Kilometer  RegistrationMonth  FuelType  \\\n",
       "261396   58.0         polo     100000                  0       NaN   \n",
       "299464   70.0         polo     150000                  6    petrol   \n",
       "6982    120.0       passat     150000                  0       NaN   \n",
       "271885  430.0      m_reihe       5000                  1    petrol   \n",
       "123984   95.0  transporter      10000                  0       NaN   \n",
       "...       ...          ...        ...                ...       ...   \n",
       "139997   44.0        cuore     100000                  5    petrol   \n",
       "140777  109.0       vectra       5000                  0       NaN   \n",
       "140820   68.0           c2     150000                 12  gasoline   \n",
       "140901  231.0          5er     150000                  0       NaN   \n",
       "338715  217.0          5er     150000                 12    petrol   \n",
       "\n",
       "             Brand Repaired DateCreated  NumberOfPictures  PostalCode  \\\n",
       "261396  volkswagen      NaN  2016-03-19                 0        6528   \n",
       "299464  volkswagen      NaN  2016-03-16                 0       83139   \n",
       "6982    volkswagen      NaN  2016-03-11                 0       45665   \n",
       "271885         bmw      NaN  2016-03-28                 0       63457   \n",
       "123984  volkswagen      NaN  2016-03-14                 0       22885   \n",
       "...            ...      ...         ...               ...         ...   \n",
       "139997    daihatsu      NaN  2016-03-22                 0       58640   \n",
       "140777        opel      NaN  2016-03-24                 0       47055   \n",
       "140820     citroen      yes  2016-03-14                 0       45475   \n",
       "140901         bmw      NaN  2016-03-30                 0       55131   \n",
       "338715         bmw      NaN  2016-03-28                 0       22941   \n",
       "\n",
       "                  LastSeen  YearsFromReg  \n",
       "261396 2016-04-06 10:15:49            17  \n",
       "299464 2016-04-06 23:16:50            21  \n",
       "6982   2016-04-07 06:45:12            21  \n",
       "271885 2016-03-29 07:42:18             1  \n",
       "123984 2016-03-23 15:47:53            36  \n",
       "...                    ...           ...  \n",
       "139997 2016-04-05 23:17:20            17  \n",
       "140777 2016-03-30 07:44:54            21  \n",
       "140820 2016-04-06 07:44:30            11  \n",
       "140901 2016-04-06 20:18:15            16  \n",
       "338715 2016-04-06 18:19:15            23  \n",
       "\n",
       "[1299 rows x 17 columns]"
      ]
     },
     "execution_count": 30,
     "metadata": {},
     "output_type": "execute_result"
    }
   ],
   "source": [
    "df.query('0 < Price < 50').sort_values('Price', ascending=False)"
   ]
  },
  {
   "cell_type": "markdown",
   "metadata": {},
   "source": [
    "BMW 5 серии 2016 года за 1 евро. Я бы купил.  \n",
    "Посмотрим на распределение признака."
   ]
  },
  {
   "cell_type": "code",
   "execution_count": 31,
   "metadata": {},
   "outputs": [
    {
     "data": {
      "image/png": "[encoded data removed]",
      "text/plain": [
       "<Figure size 1200x800 with 1 Axes>"
      ]
     },
     "metadata": {},
     "output_type": "display_data"
    }
   ],
   "source": [
    "plt.figure(figsize=(12, 8))\n",
    "plt.hist(df[df['Price'] < 500]['Price'], bins=50)\n",
    "plt.xlim(0, 500)\n",
    "plt.xticks([i for i in range(0, 500, 50)])\n",
    "plt.title('Распределение цены на автомобили до 500 евро', fontsize=16)\n",
    "plt.grid(True)\n",
    "plt.show()"
   ]
  },
  {
   "cell_type": "markdown",
   "metadata": {},
   "source": [
    "Поскольку Price это целевая переменная, которую мы хотим прогнозировать, заполнять нули условным средним будет не очень рационально. Уберем низкие значения цены как некорректные"
   ]
  },
  {
   "cell_type": "code",
   "execution_count": 32,
   "metadata": {},
   "outputs": [],
   "source": [
    "df = df.query('Price > 100')"
   ]
  },
  {
   "cell_type": "markdown",
   "metadata": {},
   "source": [
    "Отберем другие категориальные признаки, которые нам могут быть важны, и посмотрим как много значений в них содержится."
   ]
  },
  {
   "cell_type": "code",
   "execution_count": 33,
   "metadata": {},
   "outputs": [
    {
     "name": "stdout",
     "output_type": "stream",
     "text": [
      "VehicleType 8\n",
      "Gearbox 2\n",
      "Model 249\n",
      "FuelType 7\n",
      "Brand 40\n",
      "Repaired 2\n"
     ]
    }
   ],
   "source": [
    "list_cat = ['VehicleType', 'Gearbox', 'Model', 'FuelType', 'Brand', 'Repaired']\n",
    "\n",
    "for column in list_cat:\n",
    "\n",
    "    print(column, df[column].nunique())"
   ]
  },
  {
   "cell_type": "markdown",
   "metadata": {},
   "source": [
    "Сначала посмотрим какие значения у тех у кого их немного. "
   ]
  },
  {
   "cell_type": "code",
   "execution_count": 34,
   "metadata": {},
   "outputs": [
    {
     "name": "stdout",
     "output_type": "stream",
     "text": [
      "VehicleType = [nan 'coupe' 'suv' 'small' 'sedan' 'convertible' 'bus' 'wagon' 'other']\n",
      "Gearbox = ['manual' 'auto' nan]\n",
      "FuelType = ['petrol' 'gasoline' nan 'lpg' 'other' 'hybrid' 'cng' 'electric']\n",
      "Repaired = [nan 'yes' 'no']\n"
     ]
    }
   ],
   "source": [
    "list_cat = ['VehicleType', 'Gearbox', 'FuelType', 'Repaired']\n",
    "\n",
    "for column in list_cat:\n",
    "\n",
    "    print(column, '=', df[column].unique())"
   ]
  },
  {
   "cell_type": "markdown",
   "metadata": {},
   "source": [
    "Vehicle и Fuel - непоняно чем заполнять nan и что должно значить 'other'. По опыту - на стоимость авто гораздо сильнее влияет год выпуска и пробег, чем то седан это или купе.  \n",
    "\n",
    "Посмотрим Brand."
   ]
  },
  {
   "cell_type": "code",
   "execution_count": 35,
   "metadata": {},
   "outputs": [
    {
     "data": {
      "text/plain": [
       "array(['volkswagen', 'audi', 'jeep', 'skoda', 'bmw', 'peugeot', 'ford',\n",
       "       'mazda', 'nissan', 'renault', 'mercedes_benz', 'seat', 'honda',\n",
       "       'fiat', 'opel', 'mini', 'smart', 'hyundai', 'alfa_romeo', 'subaru',\n",
       "       'volvo', 'mitsubishi', 'kia', 'suzuki', 'lancia', 'citroen',\n",
       "       'toyota', 'chevrolet', 'dacia', 'sonstige_autos', 'daihatsu',\n",
       "       'chrysler', 'jaguar', 'daewoo', 'rover', 'porsche', 'saab',\n",
       "       'trabant', 'land_rover', 'lada'], dtype=object)"
      ]
     },
     "execution_count": 35,
     "metadata": {},
     "output_type": "execute_result"
    }
   ],
   "source": [
    "df['Brand'].unique()"
   ]
  },
  {
   "cell_type": "markdown",
   "metadata": {},
   "source": [
    "И Model."
   ]
  },
  {
   "cell_type": "code",
   "execution_count": 36,
   "metadata": {
    "scrolled": true
   },
   "outputs": [
    {
     "data": {
      "text/plain": [
       "array(['golf', nan, 'grand', 'fabia', '3er', '2_reihe', 'c_max',\n",
       "       '3_reihe', 'passat', 'navara', 'polo', 'twingo', 'a_klasse',\n",
       "       'scirocco', '5er', 'arosa', 'other', 'civic', 'transporter',\n",
       "       'punto', 'e_klasse', 'clio', 'kadett', 'kangoo', 'one', 'fortwo',\n",
       "       '1er', 'b_klasse', 'signum', 'astra', 'a8', 'jetta', 'fiesta',\n",
       "       'c_klasse', 'micra', 'vito', 'sprinter', '156', 'escort',\n",
       "       'forester', 'xc_reihe', 'scenic', 'a4', 'ka', 'a1', 'insignia',\n",
       "       'combo', 'focus', 'tt', 'corsa', 'a6', 'jazz', 'omega', 'slk',\n",
       "       '7er', '80', '147', '100', 'z_reihe', 'sorento', 'v40', 'ibiza',\n",
       "       'mustang', 'eos', 'touran', 'getz', 'a3', 'almera', 'megane',\n",
       "       'lupo', 'r19', 'caddy', 'mondeo', 'cordoba', 'colt', 'impreza',\n",
       "       'vectra', 'berlingo', 'tiguan', 'sharan', '6_reihe', 'c4', 'panda',\n",
       "       'up', 'i_reihe', 'ceed', '5_reihe', 'yeti', 'octavia', 'zafira',\n",
       "       'mii', 'rx_reihe', '6er', 'modus', 'fox', 'matiz', 'beetle', 'c1',\n",
       "       'rio', 'touareg', 'logan', 'spider', 'cuore', 's_max', 'a2',\n",
       "       'galaxy', 'c3', 'viano', 's_klasse', '1_reihe', 'avensis',\n",
       "       'roomster', 'sl', 'kaefer', 'santa', 'cooper', 'leon', '4_reihe',\n",
       "       'a5', 'sportage', 'laguna', 'ptcruiser', 'clk', 'primera',\n",
       "       'espace', 'x_reihe', 'exeo', '159', 'transit', 'juke', 'qashqai',\n",
       "       'carisma', 'accord', 'corolla', 'lanos', 'phaeton', 'verso',\n",
       "       'swift', 'rav', 'picanto', 'boxster', 'kalos', 'superb', 'stilo',\n",
       "       'alhambra', 'roadster', 'ypsilon', 'cayenne', 'galant', 'justy',\n",
       "       '90', 'sirion', 'crossfire', 'agila', 'duster', 'v50', 'mx_reihe',\n",
       "       '500', 'meriva', 'c_reihe', 'v_klasse', 'm_klasse', 'yaris', 'c5',\n",
       "       'aygo', 'seicento', 'cc', 'carnival', 'fusion', '911', 'bora',\n",
       "       'forfour', 'cl', 'tigra', '300c', 'cr_reihe', 'spark', 'v70',\n",
       "       'kuga', 'x_type', 'ducato', 's_type', 'x_trail', 'toledo', 'altea',\n",
       "       'voyager', 'calibra', 'bravo', 'antara', 'tucson', 'citigo',\n",
       "       'jimny', 'wrangler', 'lybra', 'q7', 'lancer', 'captiva',\n",
       "       'discovery', 'freelander', 'sandero', 'note', '900', 'cherokee',\n",
       "       'clubman', 'samara', 'defender', 'cx_reihe', 'legacy', 'pajero',\n",
       "       'auris', 'c2', 'niva', 's60', 'm_reihe', 'nubira', 'vivaro',\n",
       "       'g_klasse', 'lodgy', '850', 'range_rover', '601', 'q3', 'serie_2',\n",
       "       'glk', 'charade', 'croma', 'outlander', 'doblo', 'musa', 'move',\n",
       "       '9000', 'v60', '200', '145', 'b_max', 'range_rover_sport', 'aveo',\n",
       "       'terios', 'rangerover', 'q5', 'range_rover_evoque', 'materia',\n",
       "       'delta', 'gl', 'kalina', 'elefantino', 'i3', 'amarok', 'kappa',\n",
       "       'serie_3'], dtype=object)"
      ]
     },
     "execution_count": 36,
     "metadata": {},
     "output_type": "execute_result"
    }
   ],
   "source": [
    "df['Model'].unique()"
   ]
  },
  {
   "cell_type": "markdown",
   "metadata": {},
   "source": [
    "Model и Brand отпадают, т.к. их слишком много, и непонятно чем заполнять пропуски в Model, а так же что значит 'other' а только лишь Brand не достаточно для влияния на цену. Попробуем ими пожертвовать."
   ]
  },
  {
   "cell_type": "markdown",
   "metadata": {},
   "source": [
    "Соберем те признаки, которые можно использовать в новый датафрейм."
   ]
  },
  {
   "cell_type": "code",
   "execution_count": 37,
   "metadata": {},
   "outputs": [],
   "source": [
    "df_new = df.loc[:, ['YearsFromReg', 'Gearbox', 'Power', 'Kilometer', 'Repaired', 'Price']].reset_index(drop=True)"
   ]
  },
  {
   "cell_type": "markdown",
   "metadata": {},
   "source": [
    "Посмотрим сколько данных удалось сохранить от их изначального количества."
   ]
  },
  {
   "cell_type": "code",
   "execution_count": 38,
   "metadata": {},
   "outputs": [
    {
     "name": "stdout",
     "output_type": "stream",
     "text": [
      "Потеряно данных = 9.2%\n"
     ]
    }
   ],
   "source": [
    "print('Потеряно данных = {:.1%}'.format(1 - (df_new.shape[0] / 354369)))"
   ]
  },
  {
   "cell_type": "markdown",
   "metadata": {},
   "source": [
    "Не критично, но хотелось бы меньше.  \n",
    "Теперь проверим признаки на корреляцию."
   ]
  },
  {
   "cell_type": "code",
   "execution_count": 39,
   "metadata": {},
   "outputs": [
    {
     "data": {
      "image/png": "[encoded data removed]",
      "text/plain": [
       "<Figure size 640x480 with 2 Axes>"
      ]
     },
     "metadata": {},
     "output_type": "display_data"
    }
   ],
   "source": [
    "sns.heatmap(df_new.loc[:, ['YearsFromReg', 'Power', 'Kilometer', 'Price']].corr(), annot=True, vmax=1, vmin=-1)\n",
    "plt.title('Матрица корреляций количественных признаков', pad=20, fontsize=14)\n",
    "plt.show()"
   ]
  },
  {
   "cell_type": "markdown",
   "metadata": {},
   "source": [
    "Всё в пределах нормы. Перейдем к обучению моделей."
   ]
  },
  {
   "cell_type": "markdown",
   "metadata": {},
   "source": [
    "### 2. Обучение модели\n",
    "\n",
    "#### 2.1. Подготовка признаков"
   ]
  },
  {
   "cell_type": "markdown",
   "metadata": {},
   "source": [
    "Создадим столбец целевых значений и матрицу признаков, а так же разобьём на тестовую, валидационную и обучающую выборки."
   ]
  },
  {
   "cell_type": "code",
   "execution_count": 42,
   "metadata": {},
   "outputs": [
    {
     "name": "stdout",
     "output_type": "stream",
     "text": [
      "(193026, 5) (64342, 5) (64342, 5)\n"
     ]
    }
   ],
   "source": [
    "features = df_new.drop(columns=['Price'])\n",
    "target = df_new['Price']\n",
    "\n",
    "features_train, features_test_valid, target_train, target_test_valid = train_test_split(features, \n",
    "                                                                                        target, \n",
    "                                                                                        test_size=0.4, \n",
    "                                                                                        random_state=123)\n",
    "\n",
    "features_valid, features_test, target_valid, target_test = train_test_split(features_test_valid, \n",
    "                                                                            target_test_valid, \n",
    "                                                                            test_size=0.5, \n",
    "                                                                            random_state=123)\n",
    "\n",
    "print(features_train.shape, features_valid.shape, features_test.shape)"
   ]
  },
  {
   "cell_type": "markdown",
   "metadata": {},
   "source": [
    "Преобразуем категориальные значения в количественные, создадим дамми-признаки."
   ]
  },
  {
   "cell_type": "code",
   "execution_count": 43,
   "metadata": {},
   "outputs": [],
   "source": [
    "features_train = features_train.reset_index(drop=True)\n",
    "features_valid = features_valid.reset_index(drop=True)\n",
    "features_test = features_test.reset_index(drop=True)\n",
    "\n",
    "ohe_gearbox = OneHotEncoder(handle_unknown='ignore')\n",
    "ohe_repair = OneHotEncoder(handle_unknown='ignore')\n",
    "\n",
    "dummy_gearbox_train = pd.DataFrame(ohe_gearbox.fit_transform(features_train[['Gearbox']]).toarray())\\\n",
    "                      .rename(columns={0: 'Gearbox_auto', 1: 'Gearbox_manual', 2: 'unknown'})\\\n",
    "                      .drop(columns=['unknown']).astype('int64')\n",
    "\n",
    "dummy_repair_train = pd.DataFrame(ohe_repair.fit_transform(features_train[['Repaired']]).toarray())\\\n",
    "                .rename(columns={0: 'Repaired_no', 1: 'Repaired_yes', 2: 'unknown'})\\\n",
    "                .drop(columns=['unknown']).astype('int64')\n",
    "\n",
    "\n",
    "dummy_gearbox_valid = pd.DataFrame(ohe_gearbox.transform(features_valid[['Gearbox']]).toarray())\\\n",
    "                      .rename(columns={0: 'Gearbox_auto', 1: 'Gearbox_manual', 2: 'unknown'})\\\n",
    "                      .drop(columns=['unknown']).astype('int64')\n",
    "\n",
    "dummy_repair_valid = pd.DataFrame(ohe_repair.transform(features_valid[['Repaired']]).toarray())\\\n",
    "                .rename(columns={0: 'Repaired_no', 1: 'Repaired_yes', 2: 'unknown'})\\\n",
    "                .drop(columns=['unknown']).astype('int64')\n",
    "\n",
    "\n",
    "dummy_gearbox_test = pd.DataFrame(ohe_gearbox.transform(features_test[['Gearbox']]).toarray())\\\n",
    "                      .rename(columns={0: 'Gearbox_auto', 1: 'Gearbox_manual', 2: 'unknown'})\\\n",
    "                      .drop(columns=['unknown']).astype('int64')\n",
    "\n",
    "dummy_repair_test = pd.DataFrame(ohe_repair.transform(features_test[['Repaired']]).toarray())\\\n",
    "                .rename(columns={0: 'Repaired_no', 1: 'Repaired_yes', 2: 'unknown'})\\\n",
    "                .drop(columns=['unknown']).astype('int64')\n",
    "\n",
    "\n",
    "features_train = features_train.join(dummy_gearbox_train)\n",
    "features_train = features_train.join(dummy_repair_train)\n",
    "features_train = features_train.drop(columns=['Gearbox', 'Repaired'])\n",
    "\n",
    "features_valid = features_valid.join(dummy_gearbox_valid)\n",
    "features_valid = features_valid.join(dummy_repair_valid)\n",
    "features_valid = features_valid.drop(columns=['Gearbox', 'Repaired'])\n",
    "\n",
    "features_test = features_test.join(dummy_gearbox_test)\n",
    "features_test = features_test.join(dummy_repair_test)\n",
    "features_test = features_test.drop(columns=['Gearbox', 'Repaired'])"
   ]
  },
  {
   "cell_type": "markdown",
   "metadata": {},
   "source": [
    "Так же создадим объединенный датафрейм обучающей и валидационной выборки для лучшего обучения подходящей модели."
   ]
  },
  {
   "cell_type": "code",
   "execution_count": 44,
   "metadata": {},
   "outputs": [],
   "source": [
    "features_union = pd.concat([features_train, features_valid])\n",
    "target_union = pd.concat([target_train, target_valid])"
   ]
  },
  {
   "cell_type": "markdown",
   "metadata": {},
   "source": [
    "#### 2.2. Поиск оптимальной модели линейной регрессии"
   ]
  },
  {
   "cell_type": "markdown",
   "metadata": {},
   "source": [
    "Подберем оптимальные параметры решающего дерева."
   ]
  },
  {
   "cell_type": "code",
   "execution_count": 45,
   "metadata": {},
   "outputs": [
    {
     "name": "stdout",
     "output_type": "stream",
     "text": [
      "RMSE DecisionTree = 2053.8359471101867\n",
      "CPU times: user 2.08 s, sys: 54.7 ms, total: 2.14 s\n",
      "Wall time: 2.16 s\n"
     ]
    }
   ],
   "source": [
    "%%time\n",
    "best_depth_dt = None\n",
    "best_rmse_dt = 1000000\n",
    "\n",
    "for depth in range(1, 16):\n",
    "\n",
    "    model_dt = DecisionTreeRegressor(max_depth=depth, random_state=123)\n",
    "    model_dt.fit(features_train, target_train)\n",
    "    dt_rmse = mean_squared_error(y_pred=model_dt.predict(features_valid), y_true=target_valid, squared=False)\n",
    "\n",
    "    if dt_rmse < best_rmse_dt:\n",
    "        best_rmse_dt = dt_rmse\n",
    "        best_depth_dt = depth\n",
    "\n",
    "print('RMSE DecisionTree =', best_rmse_dt)"
   ]
  },
  {
   "cell_type": "markdown",
   "metadata": {},
   "source": [
    "Теперь обучим его на них."
   ]
  },
  {
   "cell_type": "code",
   "execution_count": 46,
   "metadata": {},
   "outputs": [
    {
     "name": "stdout",
     "output_type": "stream",
     "text": [
      "Complete\n",
      "CPU times: user 186 ms, sys: 4.32 ms, total: 191 ms\n",
      "Wall time: 190 ms\n"
     ]
    }
   ],
   "source": [
    "%%time \n",
    "model_dt = DecisionTreeRegressor(max_depth=best_depth_dt, random_state=123)\n",
    "model_dt.fit(features_train, target_train)\n",
    "print('Complete')"
   ]
  },
  {
   "cell_type": "markdown",
   "metadata": {},
   "source": [
    "Подберем оптимальные гиперпараметры для градиентного бустинга модели XGBoost, уменьшим learning_rate с 0.3 до 0.1, для большей точности."
   ]
  },
  {
   "cell_type": "code",
   "execution_count": 47,
   "metadata": {},
   "outputs": [
    {
     "name": "stdout",
     "output_type": "stream",
     "text": [
      "RMSE XGBoost = 1930\n",
      "CPU times: user 37min 47s, sys: 7min 34s, total: 45min 22s\n",
      "Wall time: 8min\n"
     ]
    }
   ],
   "source": [
    "%%time \n",
    "best_ests = None \n",
    "best_depth_xgb = None\n",
    "best_rmse_xgb = 1000000\n",
    "\n",
    "for est in range(10, 101, 10):\n",
    "\n",
    "    for depth in range(2, 16):\n",
    "\n",
    "        model_xgb = XGBRegressor(n_estimators=est, max_depth=depth, learning_rate=0.1, n_jobs=-1)\n",
    "        model_xgb.fit(features_train, target_train)\n",
    "        rmse_xgb = mean_squared_error(y_pred=model_xgb.predict(features_valid), y_true=target_valid, squared=False)\n",
    "\n",
    "        if rmse_xgb < best_rmse_xgb:\n",
    "            best_rmse_xgb = rmse_xgb\n",
    "            best_ests = est \n",
    "            best_depth_xgb = depth\n",
    "\n",
    "print('RMSE XGBoost = {:.0f}'.format(best_rmse_xgb))"
   ]
  },
  {
   "cell_type": "code",
   "execution_count": 48,
   "metadata": {},
   "outputs": [
    {
     "name": "stdout",
     "output_type": "stream",
     "text": [
      "Характеристики лучшей модели XGBoost: n_estimators = 100, max_depth = 10\n"
     ]
    }
   ],
   "source": [
    "print(f'Характеристики лучшей модели XGBoost: n_estimators = {best_ests}, max_depth = {best_depth_xgb}')"
   ]
  },
  {
   "cell_type": "markdown",
   "metadata": {},
   "source": [
    "Обучим градиентный бустинг с этими параметрами."
   ]
  },
  {
   "cell_type": "code",
   "execution_count": 49,
   "metadata": {},
   "outputs": [
    {
     "name": "stdout",
     "output_type": "stream",
     "text": [
      "Complete\n",
      "CPU times: user 36.2 s, sys: 6.39 s, total: 42.6 s\n",
      "Wall time: 6.51 s\n"
     ]
    }
   ],
   "source": [
    "%%time\n",
    "model_xgb = XGBRegressor(n_estimators=best_ests, learning_rate=0.1, max_depth=best_depth_xgb, n_jobs=-1)\n",
    "model_xgb.fit(features_train, target_train)\n",
    "print('Complete')"
   ]
  },
  {
   "cell_type": "code",
   "execution_count": 50,
   "metadata": {},
   "outputs": [
    {
     "name": "stdout",
     "output_type": "stream",
     "text": [
      "Complete\n",
      "CPU times: user 35.3 s, sys: 6.28 s, total: 41.6 s\n",
      "Wall time: 6.92 s\n"
     ]
    }
   ],
   "source": [
    "%%time\n",
    "model_xgb = XGBRegressor(n_estimators=100, learning_rate=0.1, max_depth=10, n_jobs=-1)\n",
    "model_xgb.fit(features_train, target_train)\n",
    "print('Complete')"
   ]
  },
  {
   "cell_type": "markdown",
   "metadata": {},
   "source": [
    "Обе модели уложились в поставленные условия метрики качества. У меня модель градиентного бустинга обучается 5.5 секунд против 200 миллисекунд решающего дерева. Метрика качества RMSE показывает меньшую ошибку, примерно на 130 евро. поскольку 5 секунд хоть и больше 200 миллисекунд, но все равно очень мало, я выбираю бустинг."
   ]
  },
  {
   "cell_type": "markdown",
   "metadata": {},
   "source": [
    "Для сравнения проверим результат на константной модели со средними значениями."
   ]
  },
  {
   "cell_type": "code",
   "execution_count": 51,
   "metadata": {},
   "outputs": [
    {
     "name": "stdout",
     "output_type": "stream",
     "text": [
      "RMSE DummyRegressor (mean) = 4520.585053366933\n"
     ]
    }
   ],
   "source": [
    "model_dummy = DummyRegressor(strategy='mean')\n",
    "model_dummy.fit(features_train, target_train)\n",
    "print('RMSE DummyRegressor (mean) =', \n",
    "      mean_squared_error(y_pred=model_dummy.predict(features_valid), \n",
    "                         y_true=target_valid, \n",
    "                         squared=False))"
   ]
  },
  {
   "cell_type": "markdown",
   "metadata": {},
   "source": [
    "Константная модель предсказуемо гораздо хуже."
   ]
  },
  {
   "cell_type": "markdown",
   "metadata": {},
   "source": [
    "#### 2.3. Проверка оптимальной модели на тестовых данных"
   ]
  },
  {
   "cell_type": "markdown",
   "metadata": {},
   "source": [
    "Обучим градиентный бустинг на объединенном датафрейме."
   ]
  },
  {
   "cell_type": "code",
   "execution_count": 52,
   "metadata": {},
   "outputs": [
    {
     "name": "stdout",
     "output_type": "stream",
     "text": [
      "Complete\n",
      "CPU times: user 48 s, sys: 8.19 s, total: 56.2 s\n",
      "Wall time: 8.82 s\n"
     ]
    }
   ],
   "source": [
    "%%time\n",
    "model_xgb = XGBRegressor(n_estimators=100, learning_rate=0.1, max_depth=10, n_jobs=-1)\n",
    "model_xgb.fit(features_union, target_union)\n",
    "print('Complete')"
   ]
  },
  {
   "cell_type": "markdown",
   "metadata": {},
   "source": [
    "И проверим на тестовых данных."
   ]
  },
  {
   "cell_type": "code",
   "execution_count": 53,
   "metadata": {},
   "outputs": [
    {
     "name": "stdout",
     "output_type": "stream",
     "text": [
      "RMSE = 1936.3300308385174\n"
     ]
    }
   ],
   "source": [
    "print('RMSE =', mean_squared_error(y_pred=model_xgb.predict(features_test), \n",
    "                                   y_true=target_test, \n",
    "                                   squared=False))"
   ]
  },
  {
   "cell_type": "markdown",
   "metadata": {},
   "source": [
    "### 3. Выводы"
   ]
  },
  {
   "cell_type": "markdown",
   "metadata": {},
   "source": [
    "- Есть множество пропусков, неопределенностей и артефактов в предоставленых данных. Однако несмотря на \"отбрасывание\" большого количества таких признаков, факт того, что метрики качества остались в рамках допустимой нормы, делаю вывод, что ключевые признаки удалось сохранить.  \n",
    "- Модель градиентного бустинга XGBoost показала лучший результат на метрике качества чем решающее дерево для линейной регрессии, хоть и обучалась дольше. Поэтому для тестовых данных решил использовать именно её.  \n",
    "- Поиск оптимальных гиперпараметров модели бустинга занимает существенно больше времени, и целесообразность его использования зависит от имеющихся вычислительных мощностей и объема данных для обучения модели. В данном случае модель имела право на использование, т.к. ее применение не заняло слишком много времени.  \n",
    "- Обе модели - и градиентный бустинг и решающее дерево \"уложились\" в требования задачи по минимальному порогу RMSE. Градиентный бустинг 1930, решающее дерево 2053.  \n",
    "- Обе модели показали результат более чем в 2 раза превосходящий константную модель (4520).  \n",
    "- Модель градиентного бустинга показала значение метрики RMSE 1936 на тестовой выборке."
   ]
  }
 ],
 "metadata": {
  "kernelspec": {
   "display_name": "Python 3 (ipykernel)",
   "language": "python",
   "name": "python3"
  },
  "language_info": {
   "codemirror_mode": {
    "name": "ipython",
    "version": 3
   },
   "file_extension": ".py",
   "mimetype": "text/x-python",
   "name": "python",
   "nbconvert_exporter": "python",
   "pygments_lexer": "ipython3",
   "version": "3.9.5"
  },
  "toc": {
   "base_numbering": 1,
   "nav_menu": {},
   "number_sections": true,
   "sideBar": true,
   "skip_h1_title": true,
   "title_cell": "Table of Contents",
   "title_sidebar": "Contents",
   "toc_cell": false,
   "toc_position": {},
   "toc_section_display": true,
   "toc_window_display": false
  }
 },
 "nbformat": 4,
 "nbformat_minor": 2
}
