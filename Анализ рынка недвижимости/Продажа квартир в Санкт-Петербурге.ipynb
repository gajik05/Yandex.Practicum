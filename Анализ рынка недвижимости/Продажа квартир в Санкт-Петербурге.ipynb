{
 "cells": [
  {
   "cell_type": "markdown",
   "metadata": {},
   "source": [
    "# Начнём\n",
    "\n",
    "# Шаг 1. *Откроем и изучим датафрейм*\n",
    "\n",
    "Импортируем Pandas и прочитаем данные из файла"
   ]
  },
  {
   "cell_type": "code",
   "execution_count": 185,
   "metadata": {},
   "outputs": [
    {
     "name": "stdout",
     "output_type": "stream",
     "text": [
      "<class 'pandas.core.frame.DataFrame'>\n",
      "RangeIndex: 23699 entries, 0 to 23698\n",
      "Data columns (total 22 columns):\n",
      "total_images            23699 non-null int64\n",
      "last_price              23699 non-null float64\n",
      "total_area              23699 non-null float64\n",
      "first_day_exposition    23699 non-null object\n",
      "rooms                   23699 non-null int64\n",
      "ceiling_height          14504 non-null float64\n",
      "floors_total            23613 non-null float64\n",
      "living_area             21796 non-null float64\n",
      "floor                   23699 non-null int64\n",
      "is_apartment            2775 non-null object\n",
      "studio                  23699 non-null bool\n",
      "open_plan               23699 non-null bool\n",
      "kitchen_area            21421 non-null float64\n",
      "balcony                 12180 non-null float64\n",
      "locality_name           23650 non-null object\n",
      "airports_nearest        18157 non-null float64\n",
      "cityCenters_nearest     18180 non-null float64\n",
      "parks_around3000        18181 non-null float64\n",
      "parks_nearest           8079 non-null float64\n",
      "ponds_around3000        18181 non-null float64\n",
      "ponds_nearest           9110 non-null float64\n",
      "days_exposition         20518 non-null float64\n",
      "dtypes: bool(2), float64(14), int64(3), object(3)\n",
      "memory usage: 3.7+ MB\n"
     ]
    }
   ],
   "source": [
    "import pandas as pd\n",
    "\n",
    "df = pd.read_csv('/datasets/real_estate_data.csv', sep='\\t', decimal='.')\n",
    "df.info()"
   ]
  },
  {
   "cell_type": "code",
   "execution_count": 186,
   "metadata": {
    "scrolled": false
   },
   "outputs": [
    {
     "data": {
      "text/html": [
       "<div>\n",
       "<style scoped>\n",
       "    .dataframe tbody tr th:only-of-type {\n",
       "        vertical-align: middle;\n",
       "    }\n",
       "\n",
       "    .dataframe tbody tr th {\n",
       "        vertical-align: top;\n",
       "    }\n",
       "\n",
       "    .dataframe thead th {\n",
       "        text-align: right;\n",
       "    }\n",
       "</style>\n",
       "<table border=\"1\" class=\"dataframe\">\n",
       "  <thead>\n",
       "    <tr style=\"text-align: right;\">\n",
       "      <th></th>\n",
       "      <th>total_images</th>\n",
       "      <th>last_price</th>\n",
       "      <th>total_area</th>\n",
       "      <th>first_day_exposition</th>\n",
       "      <th>rooms</th>\n",
       "      <th>ceiling_height</th>\n",
       "      <th>floors_total</th>\n",
       "      <th>living_area</th>\n",
       "      <th>floor</th>\n",
       "      <th>is_apartment</th>\n",
       "      <th>...</th>\n",
       "      <th>kitchen_area</th>\n",
       "      <th>balcony</th>\n",
       "      <th>locality_name</th>\n",
       "      <th>airports_nearest</th>\n",
       "      <th>cityCenters_nearest</th>\n",
       "      <th>parks_around3000</th>\n",
       "      <th>parks_nearest</th>\n",
       "      <th>ponds_around3000</th>\n",
       "      <th>ponds_nearest</th>\n",
       "      <th>days_exposition</th>\n",
       "    </tr>\n",
       "  </thead>\n",
       "  <tbody>\n",
       "    <tr>\n",
       "      <td>0</td>\n",
       "      <td>20</td>\n",
       "      <td>13000000.0</td>\n",
       "      <td>108.00</td>\n",
       "      <td>2019-03-07T00:00:00</td>\n",
       "      <td>3</td>\n",
       "      <td>2.70</td>\n",
       "      <td>16.0</td>\n",
       "      <td>51.0</td>\n",
       "      <td>8</td>\n",
       "      <td>NaN</td>\n",
       "      <td>...</td>\n",
       "      <td>25.00</td>\n",
       "      <td>NaN</td>\n",
       "      <td>Санкт-Петербург</td>\n",
       "      <td>18863.0</td>\n",
       "      <td>16028.0</td>\n",
       "      <td>1.0</td>\n",
       "      <td>482.0</td>\n",
       "      <td>2.0</td>\n",
       "      <td>755.0</td>\n",
       "      <td>NaN</td>\n",
       "    </tr>\n",
       "    <tr>\n",
       "      <td>1</td>\n",
       "      <td>7</td>\n",
       "      <td>3350000.0</td>\n",
       "      <td>40.40</td>\n",
       "      <td>2018-12-04T00:00:00</td>\n",
       "      <td>1</td>\n",
       "      <td>NaN</td>\n",
       "      <td>11.0</td>\n",
       "      <td>18.6</td>\n",
       "      <td>1</td>\n",
       "      <td>NaN</td>\n",
       "      <td>...</td>\n",
       "      <td>11.00</td>\n",
       "      <td>2.0</td>\n",
       "      <td>посёлок Шушары</td>\n",
       "      <td>12817.0</td>\n",
       "      <td>18603.0</td>\n",
       "      <td>0.0</td>\n",
       "      <td>NaN</td>\n",
       "      <td>0.0</td>\n",
       "      <td>NaN</td>\n",
       "      <td>81.0</td>\n",
       "    </tr>\n",
       "    <tr>\n",
       "      <td>2</td>\n",
       "      <td>10</td>\n",
       "      <td>5196000.0</td>\n",
       "      <td>56.00</td>\n",
       "      <td>2015-08-20T00:00:00</td>\n",
       "      <td>2</td>\n",
       "      <td>NaN</td>\n",
       "      <td>5.0</td>\n",
       "      <td>34.3</td>\n",
       "      <td>4</td>\n",
       "      <td>NaN</td>\n",
       "      <td>...</td>\n",
       "      <td>8.30</td>\n",
       "      <td>0.0</td>\n",
       "      <td>Санкт-Петербург</td>\n",
       "      <td>21741.0</td>\n",
       "      <td>13933.0</td>\n",
       "      <td>1.0</td>\n",
       "      <td>90.0</td>\n",
       "      <td>2.0</td>\n",
       "      <td>574.0</td>\n",
       "      <td>558.0</td>\n",
       "    </tr>\n",
       "    <tr>\n",
       "      <td>3</td>\n",
       "      <td>0</td>\n",
       "      <td>64900000.0</td>\n",
       "      <td>159.00</td>\n",
       "      <td>2015-07-24T00:00:00</td>\n",
       "      <td>3</td>\n",
       "      <td>NaN</td>\n",
       "      <td>14.0</td>\n",
       "      <td>NaN</td>\n",
       "      <td>9</td>\n",
       "      <td>NaN</td>\n",
       "      <td>...</td>\n",
       "      <td>NaN</td>\n",
       "      <td>0.0</td>\n",
       "      <td>Санкт-Петербург</td>\n",
       "      <td>28098.0</td>\n",
       "      <td>6800.0</td>\n",
       "      <td>2.0</td>\n",
       "      <td>84.0</td>\n",
       "      <td>3.0</td>\n",
       "      <td>234.0</td>\n",
       "      <td>424.0</td>\n",
       "    </tr>\n",
       "    <tr>\n",
       "      <td>4</td>\n",
       "      <td>2</td>\n",
       "      <td>10000000.0</td>\n",
       "      <td>100.00</td>\n",
       "      <td>2018-06-19T00:00:00</td>\n",
       "      <td>2</td>\n",
       "      <td>3.03</td>\n",
       "      <td>14.0</td>\n",
       "      <td>32.0</td>\n",
       "      <td>13</td>\n",
       "      <td>NaN</td>\n",
       "      <td>...</td>\n",
       "      <td>41.00</td>\n",
       "      <td>NaN</td>\n",
       "      <td>Санкт-Петербург</td>\n",
       "      <td>31856.0</td>\n",
       "      <td>8098.0</td>\n",
       "      <td>2.0</td>\n",
       "      <td>112.0</td>\n",
       "      <td>1.0</td>\n",
       "      <td>48.0</td>\n",
       "      <td>121.0</td>\n",
       "    </tr>\n",
       "    <tr>\n",
       "      <td>...</td>\n",
       "      <td>...</td>\n",
       "      <td>...</td>\n",
       "      <td>...</td>\n",
       "      <td>...</td>\n",
       "      <td>...</td>\n",
       "      <td>...</td>\n",
       "      <td>...</td>\n",
       "      <td>...</td>\n",
       "      <td>...</td>\n",
       "      <td>...</td>\n",
       "      <td>...</td>\n",
       "      <td>...</td>\n",
       "      <td>...</td>\n",
       "      <td>...</td>\n",
       "      <td>...</td>\n",
       "      <td>...</td>\n",
       "      <td>...</td>\n",
       "      <td>...</td>\n",
       "      <td>...</td>\n",
       "      <td>...</td>\n",
       "      <td>...</td>\n",
       "    </tr>\n",
       "    <tr>\n",
       "      <td>23694</td>\n",
       "      <td>9</td>\n",
       "      <td>9700000.0</td>\n",
       "      <td>133.81</td>\n",
       "      <td>2017-03-21T00:00:00</td>\n",
       "      <td>3</td>\n",
       "      <td>3.70</td>\n",
       "      <td>5.0</td>\n",
       "      <td>73.3</td>\n",
       "      <td>3</td>\n",
       "      <td>NaN</td>\n",
       "      <td>...</td>\n",
       "      <td>13.83</td>\n",
       "      <td>NaN</td>\n",
       "      <td>Санкт-Петербург</td>\n",
       "      <td>24665.0</td>\n",
       "      <td>4232.0</td>\n",
       "      <td>1.0</td>\n",
       "      <td>796.0</td>\n",
       "      <td>3.0</td>\n",
       "      <td>381.0</td>\n",
       "      <td>NaN</td>\n",
       "    </tr>\n",
       "    <tr>\n",
       "      <td>23695</td>\n",
       "      <td>14</td>\n",
       "      <td>3100000.0</td>\n",
       "      <td>59.00</td>\n",
       "      <td>2018-01-15T00:00:00</td>\n",
       "      <td>3</td>\n",
       "      <td>NaN</td>\n",
       "      <td>5.0</td>\n",
       "      <td>38.0</td>\n",
       "      <td>4</td>\n",
       "      <td>NaN</td>\n",
       "      <td>...</td>\n",
       "      <td>8.50</td>\n",
       "      <td>NaN</td>\n",
       "      <td>Тосно</td>\n",
       "      <td>NaN</td>\n",
       "      <td>NaN</td>\n",
       "      <td>NaN</td>\n",
       "      <td>NaN</td>\n",
       "      <td>NaN</td>\n",
       "      <td>NaN</td>\n",
       "      <td>45.0</td>\n",
       "    </tr>\n",
       "    <tr>\n",
       "      <td>23696</td>\n",
       "      <td>18</td>\n",
       "      <td>2500000.0</td>\n",
       "      <td>56.70</td>\n",
       "      <td>2018-02-11T00:00:00</td>\n",
       "      <td>2</td>\n",
       "      <td>NaN</td>\n",
       "      <td>3.0</td>\n",
       "      <td>29.7</td>\n",
       "      <td>1</td>\n",
       "      <td>NaN</td>\n",
       "      <td>...</td>\n",
       "      <td>NaN</td>\n",
       "      <td>NaN</td>\n",
       "      <td>село Рождествено</td>\n",
       "      <td>NaN</td>\n",
       "      <td>NaN</td>\n",
       "      <td>NaN</td>\n",
       "      <td>NaN</td>\n",
       "      <td>NaN</td>\n",
       "      <td>NaN</td>\n",
       "      <td>NaN</td>\n",
       "    </tr>\n",
       "    <tr>\n",
       "      <td>23697</td>\n",
       "      <td>13</td>\n",
       "      <td>11475000.0</td>\n",
       "      <td>76.75</td>\n",
       "      <td>2017-03-28T00:00:00</td>\n",
       "      <td>2</td>\n",
       "      <td>3.00</td>\n",
       "      <td>17.0</td>\n",
       "      <td>NaN</td>\n",
       "      <td>12</td>\n",
       "      <td>NaN</td>\n",
       "      <td>...</td>\n",
       "      <td>23.30</td>\n",
       "      <td>2.0</td>\n",
       "      <td>Санкт-Петербург</td>\n",
       "      <td>39140.0</td>\n",
       "      <td>10364.0</td>\n",
       "      <td>2.0</td>\n",
       "      <td>173.0</td>\n",
       "      <td>3.0</td>\n",
       "      <td>196.0</td>\n",
       "      <td>602.0</td>\n",
       "    </tr>\n",
       "    <tr>\n",
       "      <td>23698</td>\n",
       "      <td>4</td>\n",
       "      <td>1350000.0</td>\n",
       "      <td>32.30</td>\n",
       "      <td>2017-07-21T00:00:00</td>\n",
       "      <td>1</td>\n",
       "      <td>2.50</td>\n",
       "      <td>5.0</td>\n",
       "      <td>12.3</td>\n",
       "      <td>1</td>\n",
       "      <td>NaN</td>\n",
       "      <td>...</td>\n",
       "      <td>9.00</td>\n",
       "      <td>NaN</td>\n",
       "      <td>поселок Новый Учхоз</td>\n",
       "      <td>NaN</td>\n",
       "      <td>NaN</td>\n",
       "      <td>NaN</td>\n",
       "      <td>NaN</td>\n",
       "      <td>NaN</td>\n",
       "      <td>NaN</td>\n",
       "      <td>NaN</td>\n",
       "    </tr>\n",
       "  </tbody>\n",
       "</table>\n",
       "<p>23699 rows × 22 columns</p>\n",
       "</div>"
      ],
      "text/plain": [
       "       total_images  last_price  total_area first_day_exposition  rooms  \\\n",
       "0                20  13000000.0      108.00  2019-03-07T00:00:00      3   \n",
       "1                 7   3350000.0       40.40  2018-12-04T00:00:00      1   \n",
       "2                10   5196000.0       56.00  2015-08-20T00:00:00      2   \n",
       "3                 0  64900000.0      159.00  2015-07-24T00:00:00      3   \n",
       "4                 2  10000000.0      100.00  2018-06-19T00:00:00      2   \n",
       "...             ...         ...         ...                  ...    ...   \n",
       "23694             9   9700000.0      133.81  2017-03-21T00:00:00      3   \n",
       "23695            14   3100000.0       59.00  2018-01-15T00:00:00      3   \n",
       "23696            18   2500000.0       56.70  2018-02-11T00:00:00      2   \n",
       "23697            13  11475000.0       76.75  2017-03-28T00:00:00      2   \n",
       "23698             4   1350000.0       32.30  2017-07-21T00:00:00      1   \n",
       "\n",
       "       ceiling_height  floors_total  living_area  floor is_apartment  ...  \\\n",
       "0                2.70          16.0         51.0      8          NaN  ...   \n",
       "1                 NaN          11.0         18.6      1          NaN  ...   \n",
       "2                 NaN           5.0         34.3      4          NaN  ...   \n",
       "3                 NaN          14.0          NaN      9          NaN  ...   \n",
       "4                3.03          14.0         32.0     13          NaN  ...   \n",
       "...               ...           ...          ...    ...          ...  ...   \n",
       "23694            3.70           5.0         73.3      3          NaN  ...   \n",
       "23695             NaN           5.0         38.0      4          NaN  ...   \n",
       "23696             NaN           3.0         29.7      1          NaN  ...   \n",
       "23697            3.00          17.0          NaN     12          NaN  ...   \n",
       "23698            2.50           5.0         12.3      1          NaN  ...   \n",
       "\n",
       "       kitchen_area  balcony        locality_name  airports_nearest  \\\n",
       "0             25.00      NaN      Санкт-Петербург           18863.0   \n",
       "1             11.00      2.0       посёлок Шушары           12817.0   \n",
       "2              8.30      0.0      Санкт-Петербург           21741.0   \n",
       "3               NaN      0.0      Санкт-Петербург           28098.0   \n",
       "4             41.00      NaN      Санкт-Петербург           31856.0   \n",
       "...             ...      ...                  ...               ...   \n",
       "23694         13.83      NaN      Санкт-Петербург           24665.0   \n",
       "23695          8.50      NaN                Тосно               NaN   \n",
       "23696           NaN      NaN     село Рождествено               NaN   \n",
       "23697         23.30      2.0      Санкт-Петербург           39140.0   \n",
       "23698          9.00      NaN  поселок Новый Учхоз               NaN   \n",
       "\n",
       "      cityCenters_nearest  parks_around3000  parks_nearest  ponds_around3000  \\\n",
       "0                 16028.0               1.0          482.0               2.0   \n",
       "1                 18603.0               0.0            NaN               0.0   \n",
       "2                 13933.0               1.0           90.0               2.0   \n",
       "3                  6800.0               2.0           84.0               3.0   \n",
       "4                  8098.0               2.0          112.0               1.0   \n",
       "...                   ...               ...            ...               ...   \n",
       "23694              4232.0               1.0          796.0               3.0   \n",
       "23695                 NaN               NaN            NaN               NaN   \n",
       "23696                 NaN               NaN            NaN               NaN   \n",
       "23697             10364.0               2.0          173.0               3.0   \n",
       "23698                 NaN               NaN            NaN               NaN   \n",
       "\n",
       "       ponds_nearest  days_exposition  \n",
       "0              755.0              NaN  \n",
       "1                NaN             81.0  \n",
       "2              574.0            558.0  \n",
       "3              234.0            424.0  \n",
       "4               48.0            121.0  \n",
       "...              ...              ...  \n",
       "23694          381.0              NaN  \n",
       "23695            NaN             45.0  \n",
       "23696            NaN              NaN  \n",
       "23697          196.0            602.0  \n",
       "23698            NaN              NaN  \n",
       "\n",
       "[23699 rows x 22 columns]"
      ]
     },
     "metadata": {},
     "output_type": "display_data"
    }
   ],
   "source": [
    "display(df)"
   ]
  },
  {
   "cell_type": "markdown",
   "metadata": {},
   "source": [
    "Всё отлично."
   ]
  },
  {
   "cell_type": "markdown",
   "metadata": {},
   "source": [
    "# Шаг 2. *Предобработка данных*\n",
    "\n",
    "Проверим наличие дубликатов, чтобы сразу от них избавиться."
   ]
  },
  {
   "cell_type": "code",
   "execution_count": 187,
   "metadata": {},
   "outputs": [
    {
     "data": {
      "text/plain": [
       "0"
      ]
     },
     "execution_count": 187,
     "metadata": {},
     "output_type": "execute_result"
    }
   ],
   "source": [
    "df.duplicated().sum()"
   ]
  },
  {
   "cell_type": "markdown",
   "metadata": {},
   "source": [
    "Отлично.\n",
    "\n",
    "Теперь заполним пропуски в колонке **\"Балконы\"** нулями."
   ]
  },
  {
   "cell_type": "code",
   "execution_count": 188,
   "metadata": {},
   "outputs": [
    {
     "name": "stdout",
     "output_type": "stream",
     "text": [
      "<class 'pandas.core.frame.DataFrame'>\n",
      "RangeIndex: 23699 entries, 0 to 23698\n",
      "Data columns (total 22 columns):\n",
      "total_images            23699 non-null int64\n",
      "last_price              23699 non-null float64\n",
      "total_area              23699 non-null float64\n",
      "first_day_exposition    23699 non-null object\n",
      "rooms                   23699 non-null int64\n",
      "ceiling_height          14504 non-null float64\n",
      "floors_total            23613 non-null float64\n",
      "living_area             21796 non-null float64\n",
      "floor                   23699 non-null int64\n",
      "is_apartment            2775 non-null object\n",
      "studio                  23699 non-null bool\n",
      "open_plan               23699 non-null bool\n",
      "kitchen_area            21421 non-null float64\n",
      "balcony                 23699 non-null float64\n",
      "locality_name           23650 non-null object\n",
      "airports_nearest        18157 non-null float64\n",
      "cityCenters_nearest     18180 non-null float64\n",
      "parks_around3000        18181 non-null float64\n",
      "parks_nearest           8079 non-null float64\n",
      "ponds_around3000        18181 non-null float64\n",
      "ponds_nearest           9110 non-null float64\n",
      "days_exposition         20518 non-null float64\n",
      "dtypes: bool(2), float64(14), int64(3), object(3)\n",
      "memory usage: 3.7+ MB\n"
     ]
    }
   ],
   "source": [
    "df['balcony'] = df['balcony'].fillna(0)\n",
    "df.info()"
   ]
  },
  {
   "cell_type": "markdown",
   "metadata": {},
   "source": [
    "Сработало!\n",
    "\n",
    "Рассмотрим высоту потолков и то, какие там есть значения."
   ]
  },
  {
   "cell_type": "code",
   "execution_count": 189,
   "metadata": {},
   "outputs": [
    {
     "data": {
      "text/plain": [
       "count    14504.000000\n",
       "mean         2.771499\n",
       "std          1.261056\n",
       "min          1.000000\n",
       "25%          2.520000\n",
       "50%          2.650000\n",
       "75%          2.800000\n",
       "max        100.000000\n",
       "Name: ceiling_height, dtype: float64"
      ]
     },
     "metadata": {},
     "output_type": "display_data"
    },
    {
     "data": {
      "text/plain": [
       "<matplotlib.axes._subplots.AxesSubplot at 0x28661523d48>"
      ]
     },
     "execution_count": 189,
     "metadata": {},
     "output_type": "execute_result"
    },
    {
     "data": {
      "image/png": "[encoded data removed]",
      "text/plain": [
       "<Figure size 432x288 with 1 Axes>"
      ]
     },
     "metadata": {
      "needs_background": "light"
     },
     "output_type": "display_data"
    }
   ],
   "source": [
    "display(df['ceiling_height'].describe())\n",
    "df['ceiling_height'].hist()"
   ]
  },
  {
   "cell_type": "markdown",
   "metadata": {},
   "source": [
    "Максимальное значение - 100 метров. Тутявно что-то не то...\n",
    "\n",
    "При этом третий квартиль - 2.8 метров, то есть 75% всех данных менее 3-х метров. Но минимальная высота потолков - 1 метр. Посмотрим, сколько значений высоты потолков менее 2-х метров и больше 7 (предположим такой максимум исходя из того, что в самых шикарных квартирах такое возможно)."
   ]
  },
  {
   "cell_type": "code",
   "execution_count": 190,
   "metadata": {},
   "outputs": [
    {
     "name": "stdout",
     "output_type": "stream",
     "text": [
      "3\n",
      "29\n"
     ]
    }
   ],
   "source": [
    "print(df[df['ceiling_height'] < 2]['ceiling_height'].count())\n",
    "print(df[df['ceiling_height'] > 7]['ceiling_height'].count())"
   ]
  },
  {
   "cell_type": "markdown",
   "metadata": {},
   "source": [
    "Теперь рассмотрим гистограмму значений до 10-тиметров."
   ]
  },
  {
   "cell_type": "code",
   "execution_count": 191,
   "metadata": {},
   "outputs": [
    {
     "data": {
      "text/plain": [
       "<matplotlib.axes._subplots.AxesSubplot at 0x2865f020f08>"
      ]
     },
     "execution_count": 191,
     "metadata": {},
     "output_type": "execute_result"
    },
    {
     "data": {
      "image/png": "[encoded data removed]",
      "text/plain": [
       "<Figure size 432x288 with 1 Axes>"
      ]
     },
     "metadata": {
      "needs_background": "light"
     },
     "output_type": "display_data"
    }
   ],
   "source": [
    "df['ceiling_height'].hist(range=(1, 10), bins=10)"
   ]
  },
  {
   "cell_type": "markdown",
   "metadata": {},
   "source": [
    "Всё так. Теперь посмотрим на картину от 10 до 100 метров."
   ]
  },
  {
   "cell_type": "code",
   "execution_count": 192,
   "metadata": {},
   "outputs": [
    {
     "data": {
      "text/plain": [
       "<matplotlib.axes._subplots.AxesSubplot at 0x2865f063548>"
      ]
     },
     "execution_count": 192,
     "metadata": {},
     "output_type": "execute_result"
    },
    {
     "data": {
      "image/png": "[encoded data removed]",
      "text/plain": [
       "<Figure size 432x288 with 1 Axes>"
      ]
     },
     "metadata": {
      "needs_background": "light"
     },
     "output_type": "display_data"
    }
   ],
   "source": [
    "df['ceiling_height'].hist(range=(10, 100), bins=90)"
   ]
  },
  {
   "cell_type": "markdown",
   "metadata": {},
   "source": [
    "Таких значений очень мало."
   ]
  },
  {
   "cell_type": "markdown",
   "metadata": {},
   "source": [
    "Избавимся от некорректных записей, которые меньше 2-х метров и выше 7-ми."
   ]
  },
  {
   "cell_type": "code",
   "execution_count": 193,
   "metadata": {},
   "outputs": [],
   "source": [
    "df = df.query('2 < ceiling_height < 7')"
   ]
  },
  {
   "cell_type": "markdown",
   "metadata": {},
   "source": [
    "В информации о датафрейме, столбец **first_day_exposition** имеет тип даных **object**. Исправим его на **datetime**, так как это явно ошибка, и это е даст нам работать с данными, в т.ч. извлекать из даты месяц и год."
   ]
  },
  {
   "cell_type": "code",
   "execution_count": 194,
   "metadata": {},
   "outputs": [
    {
     "data": {
      "text/plain": [
       "0       2019-03-07\n",
       "4       2018-06-19\n",
       "9       2017-02-26\n",
       "10      2017-11-16\n",
       "13      2017-07-01\n",
       "           ...    \n",
       "23691   2016-10-13\n",
       "23693   2016-08-05\n",
       "23694   2017-03-21\n",
       "23697   2017-03-28\n",
       "23698   2017-07-21\n",
       "Name: first_day_exposition, Length: 14461, dtype: datetime64[ns]"
      ]
     },
     "metadata": {},
     "output_type": "display_data"
    }
   ],
   "source": [
    "df['first_day_exposition'] = pd.to_datetime(df['first_day_exposition'], format='%Y-%m-%dT%H:%M:%S')\n",
    "display(df['first_day_exposition'])"
   ]
  },
  {
   "cell_type": "markdown",
   "metadata": {},
   "source": [
    "Теперь проверим количество комнат в квартирах и рассмотрим гистограмму."
   ]
  },
  {
   "cell_type": "code",
   "execution_count": 195,
   "metadata": {
    "scrolled": false
   },
   "outputs": [
    {
     "data": {
      "text/plain": [
       "count    14461.000000\n",
       "mean         2.138303\n",
       "std          1.099522\n",
       "min          0.000000\n",
       "25%          1.000000\n",
       "50%          2.000000\n",
       "75%          3.000000\n",
       "max         16.000000\n",
       "Name: rooms, dtype: float64"
      ]
     },
     "metadata": {},
     "output_type": "display_data"
    },
    {
     "data": {
      "text/plain": [
       "<matplotlib.axes._subplots.AxesSubplot at 0x2866151f488>"
      ]
     },
     "execution_count": 195,
     "metadata": {},
     "output_type": "execute_result"
    },
    {
     "data": {
      "image/png": "[encoded data removed]",
      "text/plain": [
       "<Figure size 432x288 with 1 Axes>"
      ]
     },
     "metadata": {
      "needs_background": "light"
     },
     "output_type": "display_data"
    }
   ],
   "source": [
    "display(df['rooms'].describe())\n",
    "df['rooms'].hist()"
   ]
  },
  {
   "cell_type": "markdown",
   "metadata": {},
   "source": [
    "Почти все значения умещаются в пределах 5-ти комнат. Но максимум равен 19-ти...\n",
    "\n",
    "Рассмотрим значения до 10-ти. Эта цифра выглядит более реально."
   ]
  },
  {
   "cell_type": "code",
   "execution_count": 196,
   "metadata": {},
   "outputs": [
    {
     "data": {
      "text/plain": [
       "<matplotlib.axes._subplots.AxesSubplot at 0x2865c52ffc8>"
      ]
     },
     "execution_count": 196,
     "metadata": {},
     "output_type": "execute_result"
    },
    {
     "data": {
      "image/png": "[encoded data removed]",
      "text/plain": [
       "<Figure size 432x288 with 1 Axes>"
      ]
     },
     "metadata": {
      "needs_background": "light"
     },
     "output_type": "display_data"
    }
   ],
   "source": [
    "df['rooms'].hist(range=(0, 10))"
   ]
  },
  {
   "cell_type": "markdown",
   "metadata": {},
   "source": [
    "Почти нормальное распределение.\n",
    "\n",
    "Теперь значения от 10 до 20 комнат."
   ]
  },
  {
   "cell_type": "code",
   "execution_count": 197,
   "metadata": {},
   "outputs": [
    {
     "data": {
      "text/plain": [
       "<matplotlib.axes._subplots.AxesSubplot at 0x28657758548>"
      ]
     },
     "execution_count": 197,
     "metadata": {},
     "output_type": "execute_result"
    },
    {
     "data": {
      "image/png": "[encoded data removed]",
      "text/plain": [
       "<Figure size 432x288 with 1 Axes>"
      ]
     },
     "metadata": {
      "needs_background": "light"
     },
     "output_type": "display_data"
    }
   ],
   "source": [
    "df['rooms'].hist(range=(10, 20))"
   ]
  },
  {
   "cell_type": "markdown",
   "metadata": {},
   "source": [
    "Их не много. Возможно, это ошибка. Рассмотрим данные для более 9-ти клмнат отдельно."
   ]
  },
  {
   "cell_type": "code",
   "execution_count": 198,
   "metadata": {},
   "outputs": [
    {
     "data": {
      "text/html": [
       "<div>\n",
       "<style scoped>\n",
       "    .dataframe tbody tr th:only-of-type {\n",
       "        vertical-align: middle;\n",
       "    }\n",
       "\n",
       "    .dataframe tbody tr th {\n",
       "        vertical-align: top;\n",
       "    }\n",
       "\n",
       "    .dataframe thead th {\n",
       "        text-align: right;\n",
       "    }\n",
       "</style>\n",
       "<table border=\"1\" class=\"dataframe\">\n",
       "  <thead>\n",
       "    <tr style=\"text-align: right;\">\n",
       "      <th></th>\n",
       "      <th>total_images</th>\n",
       "      <th>last_price</th>\n",
       "      <th>total_area</th>\n",
       "      <th>first_day_exposition</th>\n",
       "      <th>rooms</th>\n",
       "      <th>ceiling_height</th>\n",
       "      <th>floors_total</th>\n",
       "      <th>living_area</th>\n",
       "      <th>floor</th>\n",
       "      <th>is_apartment</th>\n",
       "      <th>...</th>\n",
       "      <th>kitchen_area</th>\n",
       "      <th>balcony</th>\n",
       "      <th>locality_name</th>\n",
       "      <th>airports_nearest</th>\n",
       "      <th>cityCenters_nearest</th>\n",
       "      <th>parks_around3000</th>\n",
       "      <th>parks_nearest</th>\n",
       "      <th>ponds_around3000</th>\n",
       "      <th>ponds_nearest</th>\n",
       "      <th>days_exposition</th>\n",
       "    </tr>\n",
       "  </thead>\n",
       "  <tbody>\n",
       "    <tr>\n",
       "      <td>648</td>\n",
       "      <td>3</td>\n",
       "      <td>17500000.0</td>\n",
       "      <td>183.7</td>\n",
       "      <td>2018-07-01</td>\n",
       "      <td>11</td>\n",
       "      <td>3.40</td>\n",
       "      <td>7.0</td>\n",
       "      <td>138.8</td>\n",
       "      <td>7</td>\n",
       "      <td>NaN</td>\n",
       "      <td>...</td>\n",
       "      <td>13.3</td>\n",
       "      <td>0.0</td>\n",
       "      <td>Санкт-Петербург</td>\n",
       "      <td>23606.0</td>\n",
       "      <td>3148.0</td>\n",
       "      <td>0.0</td>\n",
       "      <td>NaN</td>\n",
       "      <td>0.0</td>\n",
       "      <td>NaN</td>\n",
       "      <td>NaN</td>\n",
       "    </tr>\n",
       "    <tr>\n",
       "      <td>866</td>\n",
       "      <td>5</td>\n",
       "      <td>25000000.0</td>\n",
       "      <td>363.0</td>\n",
       "      <td>2017-12-23</td>\n",
       "      <td>14</td>\n",
       "      <td>3.16</td>\n",
       "      <td>5.0</td>\n",
       "      <td>222.0</td>\n",
       "      <td>4</td>\n",
       "      <td>NaN</td>\n",
       "      <td>...</td>\n",
       "      <td>16.6</td>\n",
       "      <td>0.0</td>\n",
       "      <td>Санкт-Петербург</td>\n",
       "      <td>38076.0</td>\n",
       "      <td>7950.0</td>\n",
       "      <td>0.0</td>\n",
       "      <td>NaN</td>\n",
       "      <td>2.0</td>\n",
       "      <td>435.0</td>\n",
       "      <td>418.0</td>\n",
       "    </tr>\n",
       "    <tr>\n",
       "      <td>4149</td>\n",
       "      <td>6</td>\n",
       "      <td>23000000.0</td>\n",
       "      <td>272.6</td>\n",
       "      <td>2018-01-11</td>\n",
       "      <td>10</td>\n",
       "      <td>3.14</td>\n",
       "      <td>7.0</td>\n",
       "      <td>145.9</td>\n",
       "      <td>7</td>\n",
       "      <td>NaN</td>\n",
       "      <td>...</td>\n",
       "      <td>18.8</td>\n",
       "      <td>1.0</td>\n",
       "      <td>Санкт-Петербург</td>\n",
       "      <td>10726.0</td>\n",
       "      <td>12169.0</td>\n",
       "      <td>1.0</td>\n",
       "      <td>191.0</td>\n",
       "      <td>1.0</td>\n",
       "      <td>531.0</td>\n",
       "      <td>NaN</td>\n",
       "    </tr>\n",
       "    <tr>\n",
       "      <td>5358</td>\n",
       "      <td>20</td>\n",
       "      <td>65000000.0</td>\n",
       "      <td>590.0</td>\n",
       "      <td>2019-02-14</td>\n",
       "      <td>15</td>\n",
       "      <td>3.50</td>\n",
       "      <td>6.0</td>\n",
       "      <td>409.0</td>\n",
       "      <td>3</td>\n",
       "      <td>NaN</td>\n",
       "      <td>...</td>\n",
       "      <td>100.0</td>\n",
       "      <td>0.0</td>\n",
       "      <td>Санкт-Петербург</td>\n",
       "      <td>24447.0</td>\n",
       "      <td>4666.0</td>\n",
       "      <td>1.0</td>\n",
       "      <td>767.0</td>\n",
       "      <td>0.0</td>\n",
       "      <td>NaN</td>\n",
       "      <td>14.0</td>\n",
       "    </tr>\n",
       "    <tr>\n",
       "      <td>9688</td>\n",
       "      <td>8</td>\n",
       "      <td>33000000.0</td>\n",
       "      <td>194.1</td>\n",
       "      <td>2017-02-07</td>\n",
       "      <td>11</td>\n",
       "      <td>3.43</td>\n",
       "      <td>5.0</td>\n",
       "      <td>129.0</td>\n",
       "      <td>2</td>\n",
       "      <td>NaN</td>\n",
       "      <td>...</td>\n",
       "      <td>11.9</td>\n",
       "      <td>0.0</td>\n",
       "      <td>Санкт-Петербург</td>\n",
       "      <td>21469.0</td>\n",
       "      <td>1015.0</td>\n",
       "      <td>1.0</td>\n",
       "      <td>686.0</td>\n",
       "      <td>2.0</td>\n",
       "      <td>66.0</td>\n",
       "      <td>813.0</td>\n",
       "    </tr>\n",
       "    <tr>\n",
       "      <td>18119</td>\n",
       "      <td>4</td>\n",
       "      <td>15500000.0</td>\n",
       "      <td>216.1</td>\n",
       "      <td>2016-07-04</td>\n",
       "      <td>10</td>\n",
       "      <td>3.15</td>\n",
       "      <td>5.0</td>\n",
       "      <td>161.4</td>\n",
       "      <td>2</td>\n",
       "      <td>NaN</td>\n",
       "      <td>...</td>\n",
       "      <td>19.8</td>\n",
       "      <td>0.0</td>\n",
       "      <td>Санкт-Петербург</td>\n",
       "      <td>24353.0</td>\n",
       "      <td>4921.0</td>\n",
       "      <td>1.0</td>\n",
       "      <td>368.0</td>\n",
       "      <td>0.0</td>\n",
       "      <td>NaN</td>\n",
       "      <td>11.0</td>\n",
       "    </tr>\n",
       "    <tr>\n",
       "      <td>18848</td>\n",
       "      <td>6</td>\n",
       "      <td>28500000.0</td>\n",
       "      <td>270.0</td>\n",
       "      <td>2015-03-02</td>\n",
       "      <td>16</td>\n",
       "      <td>3.00</td>\n",
       "      <td>4.0</td>\n",
       "      <td>180.0</td>\n",
       "      <td>4</td>\n",
       "      <td>NaN</td>\n",
       "      <td>...</td>\n",
       "      <td>13.0</td>\n",
       "      <td>1.0</td>\n",
       "      <td>Санкт-Петербург</td>\n",
       "      <td>23575.0</td>\n",
       "      <td>4142.0</td>\n",
       "      <td>1.0</td>\n",
       "      <td>516.0</td>\n",
       "      <td>0.0</td>\n",
       "      <td>NaN</td>\n",
       "      <td>1365.0</td>\n",
       "    </tr>\n",
       "    <tr>\n",
       "      <td>18891</td>\n",
       "      <td>11</td>\n",
       "      <td>40000000.0</td>\n",
       "      <td>290.0</td>\n",
       "      <td>2016-06-21</td>\n",
       "      <td>10</td>\n",
       "      <td>3.50</td>\n",
       "      <td>6.0</td>\n",
       "      <td>189.4</td>\n",
       "      <td>6</td>\n",
       "      <td>NaN</td>\n",
       "      <td>...</td>\n",
       "      <td>30.0</td>\n",
       "      <td>1.0</td>\n",
       "      <td>Санкт-Петербург</td>\n",
       "      <td>26229.0</td>\n",
       "      <td>4932.0</td>\n",
       "      <td>3.0</td>\n",
       "      <td>316.0</td>\n",
       "      <td>1.0</td>\n",
       "      <td>227.0</td>\n",
       "      <td>77.0</td>\n",
       "    </tr>\n",
       "    <tr>\n",
       "      <td>19540</td>\n",
       "      <td>8</td>\n",
       "      <td>420000000.0</td>\n",
       "      <td>900.0</td>\n",
       "      <td>2017-12-06</td>\n",
       "      <td>12</td>\n",
       "      <td>2.80</td>\n",
       "      <td>25.0</td>\n",
       "      <td>409.7</td>\n",
       "      <td>25</td>\n",
       "      <td>NaN</td>\n",
       "      <td>...</td>\n",
       "      <td>112.0</td>\n",
       "      <td>0.0</td>\n",
       "      <td>Санкт-Петербург</td>\n",
       "      <td>30706.0</td>\n",
       "      <td>7877.0</td>\n",
       "      <td>0.0</td>\n",
       "      <td>NaN</td>\n",
       "      <td>2.0</td>\n",
       "      <td>318.0</td>\n",
       "      <td>106.0</td>\n",
       "    </tr>\n",
       "  </tbody>\n",
       "</table>\n",
       "<p>9 rows × 22 columns</p>\n",
       "</div>"
      ],
      "text/plain": [
       "       total_images   last_price  total_area first_day_exposition  rooms  \\\n",
       "648               3   17500000.0       183.7           2018-07-01     11   \n",
       "866               5   25000000.0       363.0           2017-12-23     14   \n",
       "4149              6   23000000.0       272.6           2018-01-11     10   \n",
       "5358             20   65000000.0       590.0           2019-02-14     15   \n",
       "9688              8   33000000.0       194.1           2017-02-07     11   \n",
       "18119             4   15500000.0       216.1           2016-07-04     10   \n",
       "18848             6   28500000.0       270.0           2015-03-02     16   \n",
       "18891            11   40000000.0       290.0           2016-06-21     10   \n",
       "19540             8  420000000.0       900.0           2017-12-06     12   \n",
       "\n",
       "       ceiling_height  floors_total  living_area  floor is_apartment  ...  \\\n",
       "648              3.40           7.0        138.8      7          NaN  ...   \n",
       "866              3.16           5.0        222.0      4          NaN  ...   \n",
       "4149             3.14           7.0        145.9      7          NaN  ...   \n",
       "5358             3.50           6.0        409.0      3          NaN  ...   \n",
       "9688             3.43           5.0        129.0      2          NaN  ...   \n",
       "18119            3.15           5.0        161.4      2          NaN  ...   \n",
       "18848            3.00           4.0        180.0      4          NaN  ...   \n",
       "18891            3.50           6.0        189.4      6          NaN  ...   \n",
       "19540            2.80          25.0        409.7     25          NaN  ...   \n",
       "\n",
       "       kitchen_area  balcony    locality_name  airports_nearest  \\\n",
       "648            13.3      0.0  Санкт-Петербург           23606.0   \n",
       "866            16.6      0.0  Санкт-Петербург           38076.0   \n",
       "4149           18.8      1.0  Санкт-Петербург           10726.0   \n",
       "5358          100.0      0.0  Санкт-Петербург           24447.0   \n",
       "9688           11.9      0.0  Санкт-Петербург           21469.0   \n",
       "18119          19.8      0.0  Санкт-Петербург           24353.0   \n",
       "18848          13.0      1.0  Санкт-Петербург           23575.0   \n",
       "18891          30.0      1.0  Санкт-Петербург           26229.0   \n",
       "19540         112.0      0.0  Санкт-Петербург           30706.0   \n",
       "\n",
       "      cityCenters_nearest  parks_around3000  parks_nearest  ponds_around3000  \\\n",
       "648                3148.0               0.0            NaN               0.0   \n",
       "866                7950.0               0.0            NaN               2.0   \n",
       "4149              12169.0               1.0          191.0               1.0   \n",
       "5358               4666.0               1.0          767.0               0.0   \n",
       "9688               1015.0               1.0          686.0               2.0   \n",
       "18119              4921.0               1.0          368.0               0.0   \n",
       "18848              4142.0               1.0          516.0               0.0   \n",
       "18891              4932.0               3.0          316.0               1.0   \n",
       "19540              7877.0               0.0            NaN               2.0   \n",
       "\n",
       "       ponds_nearest  days_exposition  \n",
       "648              NaN              NaN  \n",
       "866            435.0            418.0  \n",
       "4149           531.0              NaN  \n",
       "5358             NaN             14.0  \n",
       "9688            66.0            813.0  \n",
       "18119            NaN             11.0  \n",
       "18848            NaN           1365.0  \n",
       "18891          227.0             77.0  \n",
       "19540          318.0            106.0  \n",
       "\n",
       "[9 rows x 22 columns]"
      ]
     },
     "metadata": {},
     "output_type": "display_data"
    }
   ],
   "source": [
    "display(df[df['rooms'] > 9])"
   ]
  },
  {
   "cell_type": "markdown",
   "metadata": {},
   "source": [
    "Площадь квартир соответствует количеству комнат. Сгруппируем данные по количеству комнат и посчитаем чего сколько."
   ]
  },
  {
   "cell_type": "code",
   "execution_count": 199,
   "metadata": {},
   "outputs": [
    {
     "data": {
      "text/html": [
       "<div>\n",
       "<style scoped>\n",
       "    .dataframe tbody tr th:only-of-type {\n",
       "        vertical-align: middle;\n",
       "    }\n",
       "\n",
       "    .dataframe tbody tr th {\n",
       "        vertical-align: top;\n",
       "    }\n",
       "\n",
       "    .dataframe thead th {\n",
       "        text-align: right;\n",
       "    }\n",
       "</style>\n",
       "<table border=\"1\" class=\"dataframe\">\n",
       "  <thead>\n",
       "    <tr style=\"text-align: right;\">\n",
       "      <th></th>\n",
       "      <th>total_images</th>\n",
       "      <th>last_price</th>\n",
       "      <th>total_area</th>\n",
       "      <th>first_day_exposition</th>\n",
       "      <th>ceiling_height</th>\n",
       "      <th>floors_total</th>\n",
       "      <th>living_area</th>\n",
       "      <th>floor</th>\n",
       "      <th>is_apartment</th>\n",
       "      <th>studio</th>\n",
       "      <th>...</th>\n",
       "      <th>kitchen_area</th>\n",
       "      <th>balcony</th>\n",
       "      <th>locality_name</th>\n",
       "      <th>airports_nearest</th>\n",
       "      <th>cityCenters_nearest</th>\n",
       "      <th>parks_around3000</th>\n",
       "      <th>parks_nearest</th>\n",
       "      <th>ponds_around3000</th>\n",
       "      <th>ponds_nearest</th>\n",
       "      <th>days_exposition</th>\n",
       "    </tr>\n",
       "    <tr>\n",
       "      <th>rooms</th>\n",
       "      <th></th>\n",
       "      <th></th>\n",
       "      <th></th>\n",
       "      <th></th>\n",
       "      <th></th>\n",
       "      <th></th>\n",
       "      <th></th>\n",
       "      <th></th>\n",
       "      <th></th>\n",
       "      <th></th>\n",
       "      <th></th>\n",
       "      <th></th>\n",
       "      <th></th>\n",
       "      <th></th>\n",
       "      <th></th>\n",
       "      <th></th>\n",
       "      <th></th>\n",
       "      <th></th>\n",
       "      <th></th>\n",
       "      <th></th>\n",
       "      <th></th>\n",
       "    </tr>\n",
       "  </thead>\n",
       "  <tbody>\n",
       "    <tr>\n",
       "      <td>0</td>\n",
       "      <td>81</td>\n",
       "      <td>81</td>\n",
       "      <td>81</td>\n",
       "      <td>81</td>\n",
       "      <td>81</td>\n",
       "      <td>81</td>\n",
       "      <td>76</td>\n",
       "      <td>81</td>\n",
       "      <td>4</td>\n",
       "      <td>81</td>\n",
       "      <td>...</td>\n",
       "      <td>0</td>\n",
       "      <td>81</td>\n",
       "      <td>81</td>\n",
       "      <td>57</td>\n",
       "      <td>57</td>\n",
       "      <td>57</td>\n",
       "      <td>15</td>\n",
       "      <td>57</td>\n",
       "      <td>30</td>\n",
       "      <td>73</td>\n",
       "    </tr>\n",
       "    <tr>\n",
       "      <td>1</td>\n",
       "      <td>4597</td>\n",
       "      <td>4597</td>\n",
       "      <td>4597</td>\n",
       "      <td>4597</td>\n",
       "      <td>4597</td>\n",
       "      <td>4594</td>\n",
       "      <td>4342</td>\n",
       "      <td>4597</td>\n",
       "      <td>568</td>\n",
       "      <td>4597</td>\n",
       "      <td>...</td>\n",
       "      <td>4283</td>\n",
       "      <td>4597</td>\n",
       "      <td>4595</td>\n",
       "      <td>3515</td>\n",
       "      <td>3518</td>\n",
       "      <td>3518</td>\n",
       "      <td>1393</td>\n",
       "      <td>3518</td>\n",
       "      <td>1682</td>\n",
       "      <td>4034</td>\n",
       "    </tr>\n",
       "    <tr>\n",
       "      <td>2</td>\n",
       "      <td>4833</td>\n",
       "      <td>4833</td>\n",
       "      <td>4833</td>\n",
       "      <td>4833</td>\n",
       "      <td>4833</td>\n",
       "      <td>4830</td>\n",
       "      <td>4570</td>\n",
       "      <td>4833</td>\n",
       "      <td>632</td>\n",
       "      <td>4833</td>\n",
       "      <td>...</td>\n",
       "      <td>4578</td>\n",
       "      <td>4833</td>\n",
       "      <td>4828</td>\n",
       "      <td>3739</td>\n",
       "      <td>3748</td>\n",
       "      <td>3748</td>\n",
       "      <td>1735</td>\n",
       "      <td>3748</td>\n",
       "      <td>1770</td>\n",
       "      <td>4061</td>\n",
       "    </tr>\n",
       "    <tr>\n",
       "      <td>3</td>\n",
       "      <td>3781</td>\n",
       "      <td>3781</td>\n",
       "      <td>3781</td>\n",
       "      <td>3781</td>\n",
       "      <td>3781</td>\n",
       "      <td>3779</td>\n",
       "      <td>3576</td>\n",
       "      <td>3781</td>\n",
       "      <td>496</td>\n",
       "      <td>3781</td>\n",
       "      <td>...</td>\n",
       "      <td>3578</td>\n",
       "      <td>3781</td>\n",
       "      <td>3777</td>\n",
       "      <td>3138</td>\n",
       "      <td>3142</td>\n",
       "      <td>3143</td>\n",
       "      <td>1509</td>\n",
       "      <td>3143</td>\n",
       "      <td>1595</td>\n",
       "      <td>2978</td>\n",
       "    </tr>\n",
       "    <tr>\n",
       "      <td>4</td>\n",
       "      <td>799</td>\n",
       "      <td>799</td>\n",
       "      <td>799</td>\n",
       "      <td>799</td>\n",
       "      <td>799</td>\n",
       "      <td>799</td>\n",
       "      <td>761</td>\n",
       "      <td>799</td>\n",
       "      <td>100</td>\n",
       "      <td>799</td>\n",
       "      <td>...</td>\n",
       "      <td>756</td>\n",
       "      <td>799</td>\n",
       "      <td>796</td>\n",
       "      <td>719</td>\n",
       "      <td>721</td>\n",
       "      <td>721</td>\n",
       "      <td>396</td>\n",
       "      <td>721</td>\n",
       "      <td>423</td>\n",
       "      <td>606</td>\n",
       "    </tr>\n",
       "    <tr>\n",
       "      <td>5</td>\n",
       "      <td>231</td>\n",
       "      <td>231</td>\n",
       "      <td>231</td>\n",
       "      <td>231</td>\n",
       "      <td>231</td>\n",
       "      <td>231</td>\n",
       "      <td>209</td>\n",
       "      <td>231</td>\n",
       "      <td>38</td>\n",
       "      <td>231</td>\n",
       "      <td>...</td>\n",
       "      <td>205</td>\n",
       "      <td>231</td>\n",
       "      <td>231</td>\n",
       "      <td>213</td>\n",
       "      <td>214</td>\n",
       "      <td>214</td>\n",
       "      <td>138</td>\n",
       "      <td>214</td>\n",
       "      <td>133</td>\n",
       "      <td>176</td>\n",
       "    </tr>\n",
       "    <tr>\n",
       "      <td>6</td>\n",
       "      <td>74</td>\n",
       "      <td>74</td>\n",
       "      <td>74</td>\n",
       "      <td>74</td>\n",
       "      <td>74</td>\n",
       "      <td>73</td>\n",
       "      <td>71</td>\n",
       "      <td>74</td>\n",
       "      <td>6</td>\n",
       "      <td>74</td>\n",
       "      <td>...</td>\n",
       "      <td>69</td>\n",
       "      <td>74</td>\n",
       "      <td>74</td>\n",
       "      <td>73</td>\n",
       "      <td>73</td>\n",
       "      <td>73</td>\n",
       "      <td>50</td>\n",
       "      <td>73</td>\n",
       "      <td>49</td>\n",
       "      <td>49</td>\n",
       "    </tr>\n",
       "    <tr>\n",
       "      <td>7</td>\n",
       "      <td>43</td>\n",
       "      <td>43</td>\n",
       "      <td>43</td>\n",
       "      <td>43</td>\n",
       "      <td>43</td>\n",
       "      <td>43</td>\n",
       "      <td>40</td>\n",
       "      <td>43</td>\n",
       "      <td>3</td>\n",
       "      <td>43</td>\n",
       "      <td>...</td>\n",
       "      <td>40</td>\n",
       "      <td>43</td>\n",
       "      <td>43</td>\n",
       "      <td>40</td>\n",
       "      <td>41</td>\n",
       "      <td>41</td>\n",
       "      <td>27</td>\n",
       "      <td>41</td>\n",
       "      <td>26</td>\n",
       "      <td>25</td>\n",
       "    </tr>\n",
       "    <tr>\n",
       "      <td>8</td>\n",
       "      <td>6</td>\n",
       "      <td>6</td>\n",
       "      <td>6</td>\n",
       "      <td>6</td>\n",
       "      <td>6</td>\n",
       "      <td>6</td>\n",
       "      <td>6</td>\n",
       "      <td>6</td>\n",
       "      <td>0</td>\n",
       "      <td>6</td>\n",
       "      <td>...</td>\n",
       "      <td>5</td>\n",
       "      <td>6</td>\n",
       "      <td>6</td>\n",
       "      <td>6</td>\n",
       "      <td>6</td>\n",
       "      <td>6</td>\n",
       "      <td>6</td>\n",
       "      <td>6</td>\n",
       "      <td>4</td>\n",
       "      <td>5</td>\n",
       "    </tr>\n",
       "    <tr>\n",
       "      <td>9</td>\n",
       "      <td>7</td>\n",
       "      <td>7</td>\n",
       "      <td>7</td>\n",
       "      <td>7</td>\n",
       "      <td>7</td>\n",
       "      <td>7</td>\n",
       "      <td>6</td>\n",
       "      <td>7</td>\n",
       "      <td>1</td>\n",
       "      <td>7</td>\n",
       "      <td>...</td>\n",
       "      <td>6</td>\n",
       "      <td>7</td>\n",
       "      <td>7</td>\n",
       "      <td>7</td>\n",
       "      <td>7</td>\n",
       "      <td>7</td>\n",
       "      <td>7</td>\n",
       "      <td>7</td>\n",
       "      <td>2</td>\n",
       "      <td>3</td>\n",
       "    </tr>\n",
       "    <tr>\n",
       "      <td>10</td>\n",
       "      <td>3</td>\n",
       "      <td>3</td>\n",
       "      <td>3</td>\n",
       "      <td>3</td>\n",
       "      <td>3</td>\n",
       "      <td>3</td>\n",
       "      <td>3</td>\n",
       "      <td>3</td>\n",
       "      <td>0</td>\n",
       "      <td>3</td>\n",
       "      <td>...</td>\n",
       "      <td>3</td>\n",
       "      <td>3</td>\n",
       "      <td>3</td>\n",
       "      <td>3</td>\n",
       "      <td>3</td>\n",
       "      <td>3</td>\n",
       "      <td>3</td>\n",
       "      <td>3</td>\n",
       "      <td>2</td>\n",
       "      <td>2</td>\n",
       "    </tr>\n",
       "    <tr>\n",
       "      <td>11</td>\n",
       "      <td>2</td>\n",
       "      <td>2</td>\n",
       "      <td>2</td>\n",
       "      <td>2</td>\n",
       "      <td>2</td>\n",
       "      <td>2</td>\n",
       "      <td>2</td>\n",
       "      <td>2</td>\n",
       "      <td>0</td>\n",
       "      <td>2</td>\n",
       "      <td>...</td>\n",
       "      <td>2</td>\n",
       "      <td>2</td>\n",
       "      <td>2</td>\n",
       "      <td>2</td>\n",
       "      <td>2</td>\n",
       "      <td>2</td>\n",
       "      <td>1</td>\n",
       "      <td>2</td>\n",
       "      <td>1</td>\n",
       "      <td>1</td>\n",
       "    </tr>\n",
       "    <tr>\n",
       "      <td>12</td>\n",
       "      <td>1</td>\n",
       "      <td>1</td>\n",
       "      <td>1</td>\n",
       "      <td>1</td>\n",
       "      <td>1</td>\n",
       "      <td>1</td>\n",
       "      <td>1</td>\n",
       "      <td>1</td>\n",
       "      <td>0</td>\n",
       "      <td>1</td>\n",
       "      <td>...</td>\n",
       "      <td>1</td>\n",
       "      <td>1</td>\n",
       "      <td>1</td>\n",
       "      <td>1</td>\n",
       "      <td>1</td>\n",
       "      <td>1</td>\n",
       "      <td>0</td>\n",
       "      <td>1</td>\n",
       "      <td>1</td>\n",
       "      <td>1</td>\n",
       "    </tr>\n",
       "    <tr>\n",
       "      <td>14</td>\n",
       "      <td>1</td>\n",
       "      <td>1</td>\n",
       "      <td>1</td>\n",
       "      <td>1</td>\n",
       "      <td>1</td>\n",
       "      <td>1</td>\n",
       "      <td>1</td>\n",
       "      <td>1</td>\n",
       "      <td>0</td>\n",
       "      <td>1</td>\n",
       "      <td>...</td>\n",
       "      <td>1</td>\n",
       "      <td>1</td>\n",
       "      <td>1</td>\n",
       "      <td>1</td>\n",
       "      <td>1</td>\n",
       "      <td>1</td>\n",
       "      <td>0</td>\n",
       "      <td>1</td>\n",
       "      <td>1</td>\n",
       "      <td>1</td>\n",
       "    </tr>\n",
       "    <tr>\n",
       "      <td>15</td>\n",
       "      <td>1</td>\n",
       "      <td>1</td>\n",
       "      <td>1</td>\n",
       "      <td>1</td>\n",
       "      <td>1</td>\n",
       "      <td>1</td>\n",
       "      <td>1</td>\n",
       "      <td>1</td>\n",
       "      <td>0</td>\n",
       "      <td>1</td>\n",
       "      <td>...</td>\n",
       "      <td>1</td>\n",
       "      <td>1</td>\n",
       "      <td>1</td>\n",
       "      <td>1</td>\n",
       "      <td>1</td>\n",
       "      <td>1</td>\n",
       "      <td>1</td>\n",
       "      <td>1</td>\n",
       "      <td>0</td>\n",
       "      <td>1</td>\n",
       "    </tr>\n",
       "    <tr>\n",
       "      <td>16</td>\n",
       "      <td>1</td>\n",
       "      <td>1</td>\n",
       "      <td>1</td>\n",
       "      <td>1</td>\n",
       "      <td>1</td>\n",
       "      <td>1</td>\n",
       "      <td>1</td>\n",
       "      <td>1</td>\n",
       "      <td>0</td>\n",
       "      <td>1</td>\n",
       "      <td>...</td>\n",
       "      <td>1</td>\n",
       "      <td>1</td>\n",
       "      <td>1</td>\n",
       "      <td>1</td>\n",
       "      <td>1</td>\n",
       "      <td>1</td>\n",
       "      <td>1</td>\n",
       "      <td>1</td>\n",
       "      <td>0</td>\n",
       "      <td>1</td>\n",
       "    </tr>\n",
       "  </tbody>\n",
       "</table>\n",
       "<p>16 rows × 21 columns</p>\n",
       "</div>"
      ],
      "text/plain": [
       "       total_images  last_price  total_area  first_day_exposition  \\\n",
       "rooms                                                               \n",
       "0                81          81          81                    81   \n",
       "1              4597        4597        4597                  4597   \n",
       "2              4833        4833        4833                  4833   \n",
       "3              3781        3781        3781                  3781   \n",
       "4               799         799         799                   799   \n",
       "5               231         231         231                   231   \n",
       "6                74          74          74                    74   \n",
       "7                43          43          43                    43   \n",
       "8                 6           6           6                     6   \n",
       "9                 7           7           7                     7   \n",
       "10                3           3           3                     3   \n",
       "11                2           2           2                     2   \n",
       "12                1           1           1                     1   \n",
       "14                1           1           1                     1   \n",
       "15                1           1           1                     1   \n",
       "16                1           1           1                     1   \n",
       "\n",
       "       ceiling_height  floors_total  living_area  floor  is_apartment  studio  \\\n",
       "rooms                                                                           \n",
       "0                  81            81           76     81             4      81   \n",
       "1                4597          4594         4342   4597           568    4597   \n",
       "2                4833          4830         4570   4833           632    4833   \n",
       "3                3781          3779         3576   3781           496    3781   \n",
       "4                 799           799          761    799           100     799   \n",
       "5                 231           231          209    231            38     231   \n",
       "6                  74            73           71     74             6      74   \n",
       "7                  43            43           40     43             3      43   \n",
       "8                   6             6            6      6             0       6   \n",
       "9                   7             7            6      7             1       7   \n",
       "10                  3             3            3      3             0       3   \n",
       "11                  2             2            2      2             0       2   \n",
       "12                  1             1            1      1             0       1   \n",
       "14                  1             1            1      1             0       1   \n",
       "15                  1             1            1      1             0       1   \n",
       "16                  1             1            1      1             0       1   \n",
       "\n",
       "       ...  kitchen_area  balcony  locality_name  airports_nearest  \\\n",
       "rooms  ...                                                           \n",
       "0      ...             0       81             81                57   \n",
       "1      ...          4283     4597           4595              3515   \n",
       "2      ...          4578     4833           4828              3739   \n",
       "3      ...          3578     3781           3777              3138   \n",
       "4      ...           756      799            796               719   \n",
       "5      ...           205      231            231               213   \n",
       "6      ...            69       74             74                73   \n",
       "7      ...            40       43             43                40   \n",
       "8      ...             5        6              6                 6   \n",
       "9      ...             6        7              7                 7   \n",
       "10     ...             3        3              3                 3   \n",
       "11     ...             2        2              2                 2   \n",
       "12     ...             1        1              1                 1   \n",
       "14     ...             1        1              1                 1   \n",
       "15     ...             1        1              1                 1   \n",
       "16     ...             1        1              1                 1   \n",
       "\n",
       "       cityCenters_nearest  parks_around3000  parks_nearest  ponds_around3000  \\\n",
       "rooms                                                                           \n",
       "0                       57                57             15                57   \n",
       "1                     3518              3518           1393              3518   \n",
       "2                     3748              3748           1735              3748   \n",
       "3                     3142              3143           1509              3143   \n",
       "4                      721               721            396               721   \n",
       "5                      214               214            138               214   \n",
       "6                       73                73             50                73   \n",
       "7                       41                41             27                41   \n",
       "8                        6                 6              6                 6   \n",
       "9                        7                 7              7                 7   \n",
       "10                       3                 3              3                 3   \n",
       "11                       2                 2              1                 2   \n",
       "12                       1                 1              0                 1   \n",
       "14                       1                 1              0                 1   \n",
       "15                       1                 1              1                 1   \n",
       "16                       1                 1              1                 1   \n",
       "\n",
       "       ponds_nearest  days_exposition  \n",
       "rooms                                  \n",
       "0                 30               73  \n",
       "1               1682             4034  \n",
       "2               1770             4061  \n",
       "3               1595             2978  \n",
       "4                423              606  \n",
       "5                133              176  \n",
       "6                 49               49  \n",
       "7                 26               25  \n",
       "8                  4                5  \n",
       "9                  2                3  \n",
       "10                 2                2  \n",
       "11                 1                1  \n",
       "12                 1                1  \n",
       "14                 1                1  \n",
       "15                 0                1  \n",
       "16                 0                1  \n",
       "\n",
       "[16 rows x 21 columns]"
      ]
     },
     "execution_count": 199,
     "metadata": {},
     "output_type": "execute_result"
    }
   ],
   "source": [
    "df.groupby('rooms').count()"
   ]
  },
  {
   "cell_type": "markdown",
   "metadata": {},
   "source": [
    "196 квартир, в которых 0 комнат. Предполагаю, что это студии или открытая панировка. Проверим это через сводные таблицы."
   ]
  },
  {
   "cell_type": "code",
   "execution_count": 200,
   "metadata": {
    "scrolled": false
   },
   "outputs": [
    {
     "data": {
      "text/html": [
       "<div>\n",
       "<style scoped>\n",
       "    .dataframe tbody tr th:only-of-type {\n",
       "        vertical-align: middle;\n",
       "    }\n",
       "\n",
       "    .dataframe tbody tr th {\n",
       "        vertical-align: top;\n",
       "    }\n",
       "\n",
       "    .dataframe thead th {\n",
       "        text-align: right;\n",
       "    }\n",
       "</style>\n",
       "<table border=\"1\" class=\"dataframe\">\n",
       "  <thead>\n",
       "    <tr style=\"text-align: right;\">\n",
       "      <th></th>\n",
       "      <th>open_plan</th>\n",
       "      <th>studio</th>\n",
       "    </tr>\n",
       "    <tr>\n",
       "      <th>rooms</th>\n",
       "      <th></th>\n",
       "      <th></th>\n",
       "    </tr>\n",
       "  </thead>\n",
       "  <tbody>\n",
       "    <tr>\n",
       "      <td>0</td>\n",
       "      <td>0.111111</td>\n",
       "      <td>0.888889</td>\n",
       "    </tr>\n",
       "    <tr>\n",
       "      <td>1</td>\n",
       "      <td>0.000218</td>\n",
       "      <td>0.001088</td>\n",
       "    </tr>\n",
       "    <tr>\n",
       "      <td>2</td>\n",
       "      <td>0.000207</td>\n",
       "      <td>0.000000</td>\n",
       "    </tr>\n",
       "    <tr>\n",
       "      <td>3</td>\n",
       "      <td>0.000529</td>\n",
       "      <td>0.000000</td>\n",
       "    </tr>\n",
       "    <tr>\n",
       "      <td>4</td>\n",
       "      <td>0.001252</td>\n",
       "      <td>0.000000</td>\n",
       "    </tr>\n",
       "    <tr>\n",
       "      <td>5</td>\n",
       "      <td>0.000000</td>\n",
       "      <td>0.000000</td>\n",
       "    </tr>\n",
       "    <tr>\n",
       "      <td>6</td>\n",
       "      <td>0.000000</td>\n",
       "      <td>0.000000</td>\n",
       "    </tr>\n",
       "    <tr>\n",
       "      <td>7</td>\n",
       "      <td>0.000000</td>\n",
       "      <td>0.000000</td>\n",
       "    </tr>\n",
       "    <tr>\n",
       "      <td>8</td>\n",
       "      <td>0.000000</td>\n",
       "      <td>0.000000</td>\n",
       "    </tr>\n",
       "    <tr>\n",
       "      <td>9</td>\n",
       "      <td>0.000000</td>\n",
       "      <td>0.000000</td>\n",
       "    </tr>\n",
       "    <tr>\n",
       "      <td>10</td>\n",
       "      <td>0.000000</td>\n",
       "      <td>0.000000</td>\n",
       "    </tr>\n",
       "    <tr>\n",
       "      <td>11</td>\n",
       "      <td>0.000000</td>\n",
       "      <td>0.000000</td>\n",
       "    </tr>\n",
       "    <tr>\n",
       "      <td>12</td>\n",
       "      <td>0.000000</td>\n",
       "      <td>0.000000</td>\n",
       "    </tr>\n",
       "    <tr>\n",
       "      <td>14</td>\n",
       "      <td>0.000000</td>\n",
       "      <td>0.000000</td>\n",
       "    </tr>\n",
       "    <tr>\n",
       "      <td>15</td>\n",
       "      <td>0.000000</td>\n",
       "      <td>0.000000</td>\n",
       "    </tr>\n",
       "    <tr>\n",
       "      <td>16</td>\n",
       "      <td>0.000000</td>\n",
       "      <td>0.000000</td>\n",
       "    </tr>\n",
       "  </tbody>\n",
       "</table>\n",
       "</div>"
      ],
      "text/plain": [
       "       open_plan    studio\n",
       "rooms                     \n",
       "0       0.111111  0.888889\n",
       "1       0.000218  0.001088\n",
       "2       0.000207  0.000000\n",
       "3       0.000529  0.000000\n",
       "4       0.001252  0.000000\n",
       "5       0.000000  0.000000\n",
       "6       0.000000  0.000000\n",
       "7       0.000000  0.000000\n",
       "8       0.000000  0.000000\n",
       "9       0.000000  0.000000\n",
       "10      0.000000  0.000000\n",
       "11      0.000000  0.000000\n",
       "12      0.000000  0.000000\n",
       "14      0.000000  0.000000\n",
       "15      0.000000  0.000000\n",
       "16      0.000000  0.000000"
      ]
     },
     "execution_count": 200,
     "metadata": {},
     "output_type": "execute_result"
    }
   ],
   "source": [
    "df.pivot_table(index='rooms', values=['studio', 'open_plan'])"
   ]
  },
  {
   "cell_type": "markdown",
   "metadata": {},
   "source": [
    "Предположение подтвердилось. Проверим среднюю площадь для каждого количества комнат. Жилую и общую."
   ]
  },
  {
   "cell_type": "code",
   "execution_count": 201,
   "metadata": {},
   "outputs": [
    {
     "data": {
      "text/html": [
       "<div>\n",
       "<style scoped>\n",
       "    .dataframe tbody tr th:only-of-type {\n",
       "        vertical-align: middle;\n",
       "    }\n",
       "\n",
       "    .dataframe tbody tr th {\n",
       "        vertical-align: top;\n",
       "    }\n",
       "\n",
       "    .dataframe thead th {\n",
       "        text-align: right;\n",
       "    }\n",
       "</style>\n",
       "<table border=\"1\" class=\"dataframe\">\n",
       "  <thead>\n",
       "    <tr style=\"text-align: right;\">\n",
       "      <th></th>\n",
       "      <th>living_area</th>\n",
       "      <th>total_area</th>\n",
       "    </tr>\n",
       "    <tr>\n",
       "      <th>rooms</th>\n",
       "      <th></th>\n",
       "      <th></th>\n",
       "    </tr>\n",
       "  </thead>\n",
       "  <tbody>\n",
       "    <tr>\n",
       "      <td>0</td>\n",
       "      <td>18.0</td>\n",
       "      <td>27.30</td>\n",
       "    </tr>\n",
       "    <tr>\n",
       "      <td>1</td>\n",
       "      <td>17.8</td>\n",
       "      <td>36.50</td>\n",
       "    </tr>\n",
       "    <tr>\n",
       "      <td>2</td>\n",
       "      <td>30.5</td>\n",
       "      <td>53.00</td>\n",
       "    </tr>\n",
       "    <tr>\n",
       "      <td>3</td>\n",
       "      <td>45.0</td>\n",
       "      <td>72.50</td>\n",
       "    </tr>\n",
       "    <tr>\n",
       "      <td>4</td>\n",
       "      <td>64.0</td>\n",
       "      <td>98.50</td>\n",
       "    </tr>\n",
       "    <tr>\n",
       "      <td>5</td>\n",
       "      <td>94.8</td>\n",
       "      <td>150.00</td>\n",
       "    </tr>\n",
       "    <tr>\n",
       "      <td>6</td>\n",
       "      <td>118.4</td>\n",
       "      <td>180.75</td>\n",
       "    </tr>\n",
       "    <tr>\n",
       "      <td>7</td>\n",
       "      <td>149.3</td>\n",
       "      <td>217.00</td>\n",
       "    </tr>\n",
       "    <tr>\n",
       "      <td>8</td>\n",
       "      <td>149.8</td>\n",
       "      <td>222.65</td>\n",
       "    </tr>\n",
       "    <tr>\n",
       "      <td>9</td>\n",
       "      <td>169.9</td>\n",
       "      <td>292.20</td>\n",
       "    </tr>\n",
       "    <tr>\n",
       "      <td>10</td>\n",
       "      <td>161.4</td>\n",
       "      <td>272.60</td>\n",
       "    </tr>\n",
       "    <tr>\n",
       "      <td>11</td>\n",
       "      <td>133.9</td>\n",
       "      <td>188.90</td>\n",
       "    </tr>\n",
       "    <tr>\n",
       "      <td>12</td>\n",
       "      <td>409.7</td>\n",
       "      <td>900.00</td>\n",
       "    </tr>\n",
       "    <tr>\n",
       "      <td>14</td>\n",
       "      <td>222.0</td>\n",
       "      <td>363.00</td>\n",
       "    </tr>\n",
       "    <tr>\n",
       "      <td>15</td>\n",
       "      <td>409.0</td>\n",
       "      <td>590.00</td>\n",
       "    </tr>\n",
       "    <tr>\n",
       "      <td>16</td>\n",
       "      <td>180.0</td>\n",
       "      <td>270.00</td>\n",
       "    </tr>\n",
       "  </tbody>\n",
       "</table>\n",
       "</div>"
      ],
      "text/plain": [
       "       living_area  total_area\n",
       "rooms                         \n",
       "0             18.0       27.30\n",
       "1             17.8       36.50\n",
       "2             30.5       53.00\n",
       "3             45.0       72.50\n",
       "4             64.0       98.50\n",
       "5             94.8      150.00\n",
       "6            118.4      180.75\n",
       "7            149.3      217.00\n",
       "8            149.8      222.65\n",
       "9            169.9      292.20\n",
       "10           161.4      272.60\n",
       "11           133.9      188.90\n",
       "12           409.7      900.00\n",
       "14           222.0      363.00\n",
       "15           409.0      590.00\n",
       "16           180.0      270.00"
      ]
     },
     "execution_count": 201,
     "metadata": {},
     "output_type": "execute_result"
    }
   ],
   "source": [
    "df.groupby('rooms')[['living_area', 'total_area']].median()"
   ]
  },
  {
   "cell_type": "markdown",
   "metadata": {},
   "source": [
    "Для квартир с 0 комнат площадь адекватная.\n",
    "\n",
    "Но всё-таки, квартра не может быть вообще без комнат, даже если это студия. Заменим 0 на 1. Всё-таки будем считать это комнатой."
   ]
  },
  {
   "cell_type": "code",
   "execution_count": 202,
   "metadata": {},
   "outputs": [],
   "source": [
    "df['rooms'] = df['rooms'].replace(0, 1)"
   ]
  },
  {
   "cell_type": "markdown",
   "metadata": {},
   "source": [
    "Отберём только квартиры, количество комнат в которых не превышает 9.\n",
    "\n",
    "Во-первых, квартиры с бОльшим количеством комнат, всё-таки редкий случай и они будут влиять на средние и медианные значения. В нашем случае, они скорее являются выбросом.\n",
    "\n",
    "Во-вторых, такие квартиры, всё-таки, довольно специфичны, покупателей едва ли ищут на таких массовых площадках как **Яндекс.Недвижимость**. Скорее, в узких кругах. Да и \"светиться\" их владельцам лишний раз, думаю, не хочется. У богачей своя тусовка, и продадут скорее кому-то из своих, или через своих (ИМХО)."
   ]
  },
  {
   "cell_type": "code",
   "execution_count": 203,
   "metadata": {},
   "outputs": [],
   "source": [
    "df = df.query('rooms <= 9')"
   ]
  },
  {
   "cell_type": "markdown",
   "metadata": {},
   "source": [
    "Теперь рассмотрим выборку с пустыми значениями в поле **living_area** для каждого количества комнат. Может есть какая-то ошибка и значения пустые непросто так."
   ]
  },
  {
   "cell_type": "code",
   "execution_count": 204,
   "metadata": {},
   "outputs": [
    {
     "data": {
      "text/html": [
       "<div>\n",
       "<style scoped>\n",
       "    .dataframe tbody tr th:only-of-type {\n",
       "        vertical-align: middle;\n",
       "    }\n",
       "\n",
       "    .dataframe tbody tr th {\n",
       "        vertical-align: top;\n",
       "    }\n",
       "\n",
       "    .dataframe thead th {\n",
       "        text-align: right;\n",
       "    }\n",
       "</style>\n",
       "<table border=\"1\" class=\"dataframe\">\n",
       "  <thead>\n",
       "    <tr style=\"text-align: right;\">\n",
       "      <th></th>\n",
       "      <th>total_images</th>\n",
       "      <th>last_price</th>\n",
       "      <th>total_area</th>\n",
       "      <th>ceiling_height</th>\n",
       "      <th>floors_total</th>\n",
       "      <th>living_area</th>\n",
       "      <th>floor</th>\n",
       "      <th>studio</th>\n",
       "      <th>open_plan</th>\n",
       "      <th>kitchen_area</th>\n",
       "      <th>balcony</th>\n",
       "      <th>airports_nearest</th>\n",
       "      <th>cityCenters_nearest</th>\n",
       "      <th>parks_around3000</th>\n",
       "      <th>parks_nearest</th>\n",
       "      <th>ponds_around3000</th>\n",
       "      <th>ponds_nearest</th>\n",
       "      <th>days_exposition</th>\n",
       "    </tr>\n",
       "    <tr>\n",
       "      <th>rooms</th>\n",
       "      <th></th>\n",
       "      <th></th>\n",
       "      <th></th>\n",
       "      <th></th>\n",
       "      <th></th>\n",
       "      <th></th>\n",
       "      <th></th>\n",
       "      <th></th>\n",
       "      <th></th>\n",
       "      <th></th>\n",
       "      <th></th>\n",
       "      <th></th>\n",
       "      <th></th>\n",
       "      <th></th>\n",
       "      <th></th>\n",
       "      <th></th>\n",
       "      <th></th>\n",
       "      <th></th>\n",
       "    </tr>\n",
       "  </thead>\n",
       "  <tbody>\n",
       "    <tr>\n",
       "      <td>1</td>\n",
       "      <td>7.884615</td>\n",
       "      <td>4.619534e+06</td>\n",
       "      <td>41.279577</td>\n",
       "      <td>2.726692</td>\n",
       "      <td>11.246154</td>\n",
       "      <td>NaN</td>\n",
       "      <td>6.323077</td>\n",
       "      <td>0.011538</td>\n",
       "      <td>0.007692</td>\n",
       "      <td>10.997727</td>\n",
       "      <td>0.476923</td>\n",
       "      <td>29204.224490</td>\n",
       "      <td>14013.459184</td>\n",
       "      <td>0.556122</td>\n",
       "      <td>509.179487</td>\n",
       "      <td>0.724490</td>\n",
       "      <td>553.757576</td>\n",
       "      <td>133.713675</td>\n",
       "    </tr>\n",
       "    <tr>\n",
       "      <td>2</td>\n",
       "      <td>8.403042</td>\n",
       "      <td>6.130694e+06</td>\n",
       "      <td>56.832662</td>\n",
       "      <td>2.697490</td>\n",
       "      <td>9.402299</td>\n",
       "      <td>NaN</td>\n",
       "      <td>5.163498</td>\n",
       "      <td>0.000000</td>\n",
       "      <td>0.000000</td>\n",
       "      <td>12.995909</td>\n",
       "      <td>0.520913</td>\n",
       "      <td>29035.364641</td>\n",
       "      <td>13953.508287</td>\n",
       "      <td>0.679558</td>\n",
       "      <td>519.609195</td>\n",
       "      <td>0.900552</td>\n",
       "      <td>501.322222</td>\n",
       "      <td>165.620087</td>\n",
       "    </tr>\n",
       "    <tr>\n",
       "      <td>3</td>\n",
       "      <td>8.887805</td>\n",
       "      <td>8.341559e+06</td>\n",
       "      <td>79.005951</td>\n",
       "      <td>2.724244</td>\n",
       "      <td>9.014706</td>\n",
       "      <td>NaN</td>\n",
       "      <td>4.834146</td>\n",
       "      <td>0.000000</td>\n",
       "      <td>0.000000</td>\n",
       "      <td>14.131379</td>\n",
       "      <td>0.551220</td>\n",
       "      <td>27351.701987</td>\n",
       "      <td>12804.913907</td>\n",
       "      <td>0.562914</td>\n",
       "      <td>459.352941</td>\n",
       "      <td>0.953642</td>\n",
       "      <td>506.011494</td>\n",
       "      <td>144.176136</td>\n",
       "    </tr>\n",
       "    <tr>\n",
       "      <td>4</td>\n",
       "      <td>10.421053</td>\n",
       "      <td>1.750648e+07</td>\n",
       "      <td>120.962632</td>\n",
       "      <td>2.959211</td>\n",
       "      <td>7.842105</td>\n",
       "      <td>NaN</td>\n",
       "      <td>3.921053</td>\n",
       "      <td>0.000000</td>\n",
       "      <td>0.000000</td>\n",
       "      <td>17.555455</td>\n",
       "      <td>0.631579</td>\n",
       "      <td>29384.344828</td>\n",
       "      <td>9809.900000</td>\n",
       "      <td>1.000000</td>\n",
       "      <td>475.263158</td>\n",
       "      <td>1.066667</td>\n",
       "      <td>354.400000</td>\n",
       "      <td>213.818182</td>\n",
       "    </tr>\n",
       "    <tr>\n",
       "      <td>5</td>\n",
       "      <td>11.681818</td>\n",
       "      <td>3.251801e+07</td>\n",
       "      <td>192.421818</td>\n",
       "      <td>3.164545</td>\n",
       "      <td>7.181818</td>\n",
       "      <td>NaN</td>\n",
       "      <td>5.090909</td>\n",
       "      <td>0.000000</td>\n",
       "      <td>0.000000</td>\n",
       "      <td>18.522000</td>\n",
       "      <td>0.363636</td>\n",
       "      <td>27847.450000</td>\n",
       "      <td>13211.700000</td>\n",
       "      <td>1.000000</td>\n",
       "      <td>375.636364</td>\n",
       "      <td>1.100000</td>\n",
       "      <td>480.846154</td>\n",
       "      <td>383.166667</td>\n",
       "    </tr>\n",
       "    <tr>\n",
       "      <td>6</td>\n",
       "      <td>11.666667</td>\n",
       "      <td>2.066953e+07</td>\n",
       "      <td>195.100000</td>\n",
       "      <td>3.016667</td>\n",
       "      <td>8.666667</td>\n",
       "      <td>NaN</td>\n",
       "      <td>6.666667</td>\n",
       "      <td>0.000000</td>\n",
       "      <td>0.000000</td>\n",
       "      <td>NaN</td>\n",
       "      <td>0.000000</td>\n",
       "      <td>29444.333333</td>\n",
       "      <td>6406.666667</td>\n",
       "      <td>1.000000</td>\n",
       "      <td>531.500000</td>\n",
       "      <td>0.333333</td>\n",
       "      <td>178.000000</td>\n",
       "      <td>177.500000</td>\n",
       "    </tr>\n",
       "    <tr>\n",
       "      <td>7</td>\n",
       "      <td>8.666667</td>\n",
       "      <td>4.529803e+07</td>\n",
       "      <td>376.566667</td>\n",
       "      <td>3.273333</td>\n",
       "      <td>4.333333</td>\n",
       "      <td>NaN</td>\n",
       "      <td>3.000000</td>\n",
       "      <td>0.000000</td>\n",
       "      <td>0.000000</td>\n",
       "      <td>NaN</td>\n",
       "      <td>1.666667</td>\n",
       "      <td>22358.000000</td>\n",
       "      <td>3573.500000</td>\n",
       "      <td>2.000000</td>\n",
       "      <td>324.500000</td>\n",
       "      <td>1.500000</td>\n",
       "      <td>58.000000</td>\n",
       "      <td>NaN</td>\n",
       "    </tr>\n",
       "    <tr>\n",
       "      <td>9</td>\n",
       "      <td>12.000000</td>\n",
       "      <td>1.700000e+07</td>\n",
       "      <td>235.000000</td>\n",
       "      <td>3.000000</td>\n",
       "      <td>6.000000</td>\n",
       "      <td>NaN</td>\n",
       "      <td>3.000000</td>\n",
       "      <td>0.000000</td>\n",
       "      <td>0.000000</td>\n",
       "      <td>NaN</td>\n",
       "      <td>0.000000</td>\n",
       "      <td>24466.000000</td>\n",
       "      <td>5034.000000</td>\n",
       "      <td>1.000000</td>\n",
       "      <td>346.000000</td>\n",
       "      <td>0.000000</td>\n",
       "      <td>NaN</td>\n",
       "      <td>90.000000</td>\n",
       "    </tr>\n",
       "  </tbody>\n",
       "</table>\n",
       "</div>"
      ],
      "text/plain": [
       "       total_images    last_price  total_area  ceiling_height  floors_total  \\\n",
       "rooms                                                                         \n",
       "1          7.884615  4.619534e+06   41.279577        2.726692     11.246154   \n",
       "2          8.403042  6.130694e+06   56.832662        2.697490      9.402299   \n",
       "3          8.887805  8.341559e+06   79.005951        2.724244      9.014706   \n",
       "4         10.421053  1.750648e+07  120.962632        2.959211      7.842105   \n",
       "5         11.681818  3.251801e+07  192.421818        3.164545      7.181818   \n",
       "6         11.666667  2.066953e+07  195.100000        3.016667      8.666667   \n",
       "7          8.666667  4.529803e+07  376.566667        3.273333      4.333333   \n",
       "9         12.000000  1.700000e+07  235.000000        3.000000      6.000000   \n",
       "\n",
       "       living_area     floor    studio  open_plan  kitchen_area   balcony  \\\n",
       "rooms                                                                       \n",
       "1              NaN  6.323077  0.011538   0.007692     10.997727  0.476923   \n",
       "2              NaN  5.163498  0.000000   0.000000     12.995909  0.520913   \n",
       "3              NaN  4.834146  0.000000   0.000000     14.131379  0.551220   \n",
       "4              NaN  3.921053  0.000000   0.000000     17.555455  0.631579   \n",
       "5              NaN  5.090909  0.000000   0.000000     18.522000  0.363636   \n",
       "6              NaN  6.666667  0.000000   0.000000           NaN  0.000000   \n",
       "7              NaN  3.000000  0.000000   0.000000           NaN  1.666667   \n",
       "9              NaN  3.000000  0.000000   0.000000           NaN  0.000000   \n",
       "\n",
       "       airports_nearest  cityCenters_nearest  parks_around3000  parks_nearest  \\\n",
       "rooms                                                                           \n",
       "1          29204.224490         14013.459184          0.556122     509.179487   \n",
       "2          29035.364641         13953.508287          0.679558     519.609195   \n",
       "3          27351.701987         12804.913907          0.562914     459.352941   \n",
       "4          29384.344828          9809.900000          1.000000     475.263158   \n",
       "5          27847.450000         13211.700000          1.000000     375.636364   \n",
       "6          29444.333333          6406.666667          1.000000     531.500000   \n",
       "7          22358.000000          3573.500000          2.000000     324.500000   \n",
       "9          24466.000000          5034.000000          1.000000     346.000000   \n",
       "\n",
       "       ponds_around3000  ponds_nearest  days_exposition  \n",
       "rooms                                                    \n",
       "1              0.724490     553.757576       133.713675  \n",
       "2              0.900552     501.322222       165.620087  \n",
       "3              0.953642     506.011494       144.176136  \n",
       "4              1.066667     354.400000       213.818182  \n",
       "5              1.100000     480.846154       383.166667  \n",
       "6              0.333333     178.000000       177.500000  \n",
       "7              1.500000      58.000000              NaN  \n",
       "9              0.000000            NaN        90.000000  "
      ]
     },
     "execution_count": 204,
     "metadata": {},
     "output_type": "execute_result"
    }
   ],
   "source": [
    "df[df['living_area'].isnull()].groupby('rooms').mean()"
   ]
  },
  {
   "cell_type": "markdown",
   "metadata": {},
   "source": [
    "Вроде всё в порядке. Напишем функцию, которая делит жилую площадь на количество комнат, чтобы узнать примерную площадь для 1 комнаты. С её помощью создадим столбец **room_area** и запросим его описание."
   ]
  },
  {
   "cell_type": "code",
   "execution_count": 205,
   "metadata": {},
   "outputs": [
    {
     "data": {
      "text/plain": [
       "count    13657.000000\n",
       "mean        16.788585\n",
       "std          3.962168\n",
       "min          1.000000\n",
       "25%         14.466667\n",
       "50%         16.050000\n",
       "75%         18.100000\n",
       "max         68.000000\n",
       "Name: room_area, dtype: float64"
      ]
     },
     "execution_count": 205,
     "metadata": {},
     "output_type": "execute_result"
    }
   ],
   "source": [
    "def room_count(row):\n",
    "    a = row['living_area']/row['rooms']\n",
    "    return a\n",
    "\n",
    "\n",
    "df['room_area'] = df.apply(room_count, axis=1)\n",
    "df['room_area'].describe()"
   ]
  },
  {
   "cell_type": "markdown",
   "metadata": {},
   "source": [
    "Отклонение небольшое, медиана примерно совпадает со средним, межквартильный размах также очень мал.\n",
    "\n",
    "Теперь заполним пропуски в столбце **living_area** , умножив количество комнат на рассчитанное нами медианное значение площади одной комнаты."
   ]
  },
  {
   "cell_type": "code",
   "execution_count": 206,
   "metadata": {},
   "outputs": [
    {
     "data": {
      "text/plain": [
       "0"
      ]
     },
     "execution_count": 206,
     "metadata": {},
     "output_type": "execute_result"
    }
   ],
   "source": [
    "df['living_area'] = df['living_area'].fillna(df['rooms'] * (df['room_area'].median()))\n",
    "df['living_area'].isnull().sum()"
   ]
  },
  {
   "cell_type": "markdown",
   "metadata": {},
   "source": [
    "Пустых значений больше не осталось.\n",
    "\n",
    "Теперь, рассмотрим саму жилую площадь. Какие есть минимальные значения в этом столбце."
   ]
  },
  {
   "cell_type": "code",
   "execution_count": 207,
   "metadata": {},
   "outputs": [
    {
     "data": {
      "text/plain": [
       "13915     2.0\n",
       "23574     3.0\n",
       "21943     5.4\n",
       "16431     6.0\n",
       "19251     6.5\n",
       "20994     8.0\n",
       "114       8.3\n",
       "2309      8.4\n",
       "21505     8.5\n",
       "17248     8.9\n",
       "22252     9.0\n",
       "4100      9.0\n",
       "4542      9.0\n",
       "15833     9.0\n",
       "7312      9.0\n",
       "1326      9.0\n",
       "21908     9.8\n",
       "19253    10.0\n",
       "12177    10.0\n",
       "10520    10.0\n",
       "Name: living_area, dtype: float64"
      ]
     },
     "execution_count": 207,
     "metadata": {},
     "output_type": "execute_result"
    }
   ],
   "source": [
    "df['living_area'].sort_values().head(20)"
   ]
  },
  {
   "cell_type": "markdown",
   "metadata": {},
   "source": [
    "2, 3, 5 квадратных метров... Маловато для жилья, но таких записей не много. Рассмотрим другие их параметры. Ориентир возьмём 9. Уж хотя бы 3х3. Помню такую студию у приятеля, было тесновато."
   ]
  },
  {
   "cell_type": "code",
   "execution_count": 208,
   "metadata": {},
   "outputs": [
    {
     "data": {
      "text/html": [
       "<div>\n",
       "<style scoped>\n",
       "    .dataframe tbody tr th:only-of-type {\n",
       "        vertical-align: middle;\n",
       "    }\n",
       "\n",
       "    .dataframe tbody tr th {\n",
       "        vertical-align: top;\n",
       "    }\n",
       "\n",
       "    .dataframe thead th {\n",
       "        text-align: right;\n",
       "    }\n",
       "</style>\n",
       "<table border=\"1\" class=\"dataframe\">\n",
       "  <thead>\n",
       "    <tr style=\"text-align: right;\">\n",
       "      <th></th>\n",
       "      <th>rooms</th>\n",
       "      <th>total_area</th>\n",
       "      <th>living_area</th>\n",
       "      <th>kitchen_area</th>\n",
       "    </tr>\n",
       "  </thead>\n",
       "  <tbody>\n",
       "    <tr>\n",
       "      <td>114</td>\n",
       "      <td>1</td>\n",
       "      <td>21.4</td>\n",
       "      <td>8.3</td>\n",
       "      <td>6.3</td>\n",
       "    </tr>\n",
       "    <tr>\n",
       "      <td>2309</td>\n",
       "      <td>2</td>\n",
       "      <td>62.4</td>\n",
       "      <td>8.4</td>\n",
       "      <td>41.0</td>\n",
       "    </tr>\n",
       "    <tr>\n",
       "      <td>13915</td>\n",
       "      <td>2</td>\n",
       "      <td>52.0</td>\n",
       "      <td>2.0</td>\n",
       "      <td>9.0</td>\n",
       "    </tr>\n",
       "    <tr>\n",
       "      <td>16431</td>\n",
       "      <td>1</td>\n",
       "      <td>31.0</td>\n",
       "      <td>6.0</td>\n",
       "      <td>17.0</td>\n",
       "    </tr>\n",
       "    <tr>\n",
       "      <td>17248</td>\n",
       "      <td>1</td>\n",
       "      <td>33.0</td>\n",
       "      <td>8.9</td>\n",
       "      <td>16.1</td>\n",
       "    </tr>\n",
       "    <tr>\n",
       "      <td>19251</td>\n",
       "      <td>1</td>\n",
       "      <td>33.0</td>\n",
       "      <td>6.5</td>\n",
       "      <td>18.0</td>\n",
       "    </tr>\n",
       "    <tr>\n",
       "      <td>20994</td>\n",
       "      <td>2</td>\n",
       "      <td>50.6</td>\n",
       "      <td>8.0</td>\n",
       "      <td>31.0</td>\n",
       "    </tr>\n",
       "    <tr>\n",
       "      <td>21505</td>\n",
       "      <td>1</td>\n",
       "      <td>35.3</td>\n",
       "      <td>8.5</td>\n",
       "      <td>16.1</td>\n",
       "    </tr>\n",
       "    <tr>\n",
       "      <td>21943</td>\n",
       "      <td>4</td>\n",
       "      <td>77.6</td>\n",
       "      <td>5.4</td>\n",
       "      <td>9.8</td>\n",
       "    </tr>\n",
       "    <tr>\n",
       "      <td>23574</td>\n",
       "      <td>3</td>\n",
       "      <td>139.0</td>\n",
       "      <td>3.0</td>\n",
       "      <td>16.0</td>\n",
       "    </tr>\n",
       "  </tbody>\n",
       "</table>\n",
       "</div>"
      ],
      "text/plain": [
       "       rooms  total_area  living_area  kitchen_area\n",
       "114        1        21.4          8.3           6.3\n",
       "2309       2        62.4          8.4          41.0\n",
       "13915      2        52.0          2.0           9.0\n",
       "16431      1        31.0          6.0          17.0\n",
       "17248      1        33.0          8.9          16.1\n",
       "19251      1        33.0          6.5          18.0\n",
       "20994      2        50.6          8.0          31.0\n",
       "21505      1        35.3          8.5          16.1\n",
       "21943      4        77.6          5.4           9.8\n",
       "23574      3       139.0          3.0          16.0"
      ]
     },
     "execution_count": 208,
     "metadata": {},
     "output_type": "execute_result"
    }
   ],
   "source": [
    "df[df['living_area'] < 9][['rooms', 'total_area', 'living_area', 'kitchen_area']]"
   ]
  },
  {
   "cell_type": "markdown",
   "metadata": {},
   "source": [
    "Совсем странно. Кухня порой в разы больше жилой площади. Возможно, значения перепутаны. Избавимся от записей, жилая площадь в которых меньше 9-ти."
   ]
  },
  {
   "cell_type": "code",
   "execution_count": 209,
   "metadata": {},
   "outputs": [],
   "source": [
    "df = df.query('living_area >= 9')"
   ]
  },
  {
   "cell_type": "markdown",
   "metadata": {},
   "source": [
    "Для пропусков названий городов, проставим **'неизвестно'**."
   ]
  },
  {
   "cell_type": "code",
   "execution_count": 210,
   "metadata": {},
   "outputs": [],
   "source": [
    "df['locality_name'] = df['locality_name'].fillna('неизвестно')"
   ]
  },
  {
   "cell_type": "markdown",
   "metadata": {},
   "source": [
    "В столбце **'is_apartment'** тоже много пропусков, Посмотрим, для каких городов этот параметр равен **True**."
   ]
  },
  {
   "cell_type": "code",
   "execution_count": 211,
   "metadata": {},
   "outputs": [
    {
     "data": {
      "text/html": [
       "<div>\n",
       "<style scoped>\n",
       "    .dataframe tbody tr th:only-of-type {\n",
       "        vertical-align: middle;\n",
       "    }\n",
       "\n",
       "    .dataframe tbody tr th {\n",
       "        vertical-align: top;\n",
       "    }\n",
       "\n",
       "    .dataframe thead th {\n",
       "        text-align: right;\n",
       "    }\n",
       "</style>\n",
       "<table border=\"1\" class=\"dataframe\">\n",
       "  <thead>\n",
       "    <tr style=\"text-align: right;\">\n",
       "      <th></th>\n",
       "      <th>total_images</th>\n",
       "      <th>last_price</th>\n",
       "      <th>total_area</th>\n",
       "      <th>first_day_exposition</th>\n",
       "      <th>rooms</th>\n",
       "      <th>ceiling_height</th>\n",
       "      <th>floors_total</th>\n",
       "      <th>living_area</th>\n",
       "      <th>floor</th>\n",
       "      <th>is_apartment</th>\n",
       "      <th>...</th>\n",
       "      <th>kitchen_area</th>\n",
       "      <th>balcony</th>\n",
       "      <th>airports_nearest</th>\n",
       "      <th>cityCenters_nearest</th>\n",
       "      <th>parks_around3000</th>\n",
       "      <th>parks_nearest</th>\n",
       "      <th>ponds_around3000</th>\n",
       "      <th>ponds_nearest</th>\n",
       "      <th>days_exposition</th>\n",
       "      <th>room_area</th>\n",
       "    </tr>\n",
       "    <tr>\n",
       "      <th>locality_name</th>\n",
       "      <th></th>\n",
       "      <th></th>\n",
       "      <th></th>\n",
       "      <th></th>\n",
       "      <th></th>\n",
       "      <th></th>\n",
       "      <th></th>\n",
       "      <th></th>\n",
       "      <th></th>\n",
       "      <th></th>\n",
       "      <th></th>\n",
       "      <th></th>\n",
       "      <th></th>\n",
       "      <th></th>\n",
       "      <th></th>\n",
       "      <th></th>\n",
       "      <th></th>\n",
       "      <th></th>\n",
       "      <th></th>\n",
       "      <th></th>\n",
       "      <th></th>\n",
       "    </tr>\n",
       "  </thead>\n",
       "  <tbody>\n",
       "    <tr>\n",
       "      <td>Всеволожск</td>\n",
       "      <td>1</td>\n",
       "      <td>1</td>\n",
       "      <td>1</td>\n",
       "      <td>1</td>\n",
       "      <td>1</td>\n",
       "      <td>1</td>\n",
       "      <td>1</td>\n",
       "      <td>1</td>\n",
       "      <td>1</td>\n",
       "      <td>1</td>\n",
       "      <td>...</td>\n",
       "      <td>0</td>\n",
       "      <td>1</td>\n",
       "      <td>0</td>\n",
       "      <td>0</td>\n",
       "      <td>0</td>\n",
       "      <td>0</td>\n",
       "      <td>0</td>\n",
       "      <td>0</td>\n",
       "      <td>1</td>\n",
       "      <td>0</td>\n",
       "    </tr>\n",
       "    <tr>\n",
       "      <td>Выборг</td>\n",
       "      <td>3</td>\n",
       "      <td>3</td>\n",
       "      <td>3</td>\n",
       "      <td>3</td>\n",
       "      <td>3</td>\n",
       "      <td>3</td>\n",
       "      <td>3</td>\n",
       "      <td>3</td>\n",
       "      <td>3</td>\n",
       "      <td>3</td>\n",
       "      <td>...</td>\n",
       "      <td>2</td>\n",
       "      <td>3</td>\n",
       "      <td>0</td>\n",
       "      <td>0</td>\n",
       "      <td>0</td>\n",
       "      <td>0</td>\n",
       "      <td>0</td>\n",
       "      <td>0</td>\n",
       "      <td>2</td>\n",
       "      <td>3</td>\n",
       "    </tr>\n",
       "    <tr>\n",
       "      <td>Зеленогорск</td>\n",
       "      <td>1</td>\n",
       "      <td>1</td>\n",
       "      <td>1</td>\n",
       "      <td>1</td>\n",
       "      <td>1</td>\n",
       "      <td>1</td>\n",
       "      <td>1</td>\n",
       "      <td>1</td>\n",
       "      <td>1</td>\n",
       "      <td>1</td>\n",
       "      <td>...</td>\n",
       "      <td>0</td>\n",
       "      <td>1</td>\n",
       "      <td>1</td>\n",
       "      <td>1</td>\n",
       "      <td>1</td>\n",
       "      <td>1</td>\n",
       "      <td>1</td>\n",
       "      <td>1</td>\n",
       "      <td>1</td>\n",
       "      <td>1</td>\n",
       "    </tr>\n",
       "    <tr>\n",
       "      <td>Колпино</td>\n",
       "      <td>1</td>\n",
       "      <td>1</td>\n",
       "      <td>1</td>\n",
       "      <td>1</td>\n",
       "      <td>1</td>\n",
       "      <td>1</td>\n",
       "      <td>1</td>\n",
       "      <td>1</td>\n",
       "      <td>1</td>\n",
       "      <td>1</td>\n",
       "      <td>...</td>\n",
       "      <td>1</td>\n",
       "      <td>1</td>\n",
       "      <td>1</td>\n",
       "      <td>1</td>\n",
       "      <td>1</td>\n",
       "      <td>1</td>\n",
       "      <td>1</td>\n",
       "      <td>1</td>\n",
       "      <td>1</td>\n",
       "      <td>1</td>\n",
       "    </tr>\n",
       "    <tr>\n",
       "      <td>Красное Село</td>\n",
       "      <td>1</td>\n",
       "      <td>1</td>\n",
       "      <td>1</td>\n",
       "      <td>1</td>\n",
       "      <td>1</td>\n",
       "      <td>1</td>\n",
       "      <td>1</td>\n",
       "      <td>1</td>\n",
       "      <td>1</td>\n",
       "      <td>1</td>\n",
       "      <td>...</td>\n",
       "      <td>1</td>\n",
       "      <td>1</td>\n",
       "      <td>1</td>\n",
       "      <td>1</td>\n",
       "      <td>1</td>\n",
       "      <td>0</td>\n",
       "      <td>1</td>\n",
       "      <td>0</td>\n",
       "      <td>1</td>\n",
       "      <td>0</td>\n",
       "    </tr>\n",
       "    <tr>\n",
       "      <td>Никольское</td>\n",
       "      <td>1</td>\n",
       "      <td>1</td>\n",
       "      <td>1</td>\n",
       "      <td>1</td>\n",
       "      <td>1</td>\n",
       "      <td>1</td>\n",
       "      <td>1</td>\n",
       "      <td>1</td>\n",
       "      <td>1</td>\n",
       "      <td>1</td>\n",
       "      <td>...</td>\n",
       "      <td>1</td>\n",
       "      <td>1</td>\n",
       "      <td>0</td>\n",
       "      <td>0</td>\n",
       "      <td>0</td>\n",
       "      <td>0</td>\n",
       "      <td>0</td>\n",
       "      <td>0</td>\n",
       "      <td>1</td>\n",
       "      <td>1</td>\n",
       "    </tr>\n",
       "    <tr>\n",
       "      <td>Петергоф</td>\n",
       "      <td>1</td>\n",
       "      <td>1</td>\n",
       "      <td>1</td>\n",
       "      <td>1</td>\n",
       "      <td>1</td>\n",
       "      <td>1</td>\n",
       "      <td>1</td>\n",
       "      <td>1</td>\n",
       "      <td>1</td>\n",
       "      <td>1</td>\n",
       "      <td>...</td>\n",
       "      <td>0</td>\n",
       "      <td>1</td>\n",
       "      <td>1</td>\n",
       "      <td>1</td>\n",
       "      <td>1</td>\n",
       "      <td>1</td>\n",
       "      <td>1</td>\n",
       "      <td>1</td>\n",
       "      <td>0</td>\n",
       "      <td>1</td>\n",
       "    </tr>\n",
       "    <tr>\n",
       "      <td>Санкт-Петербург</td>\n",
       "      <td>31</td>\n",
       "      <td>31</td>\n",
       "      <td>31</td>\n",
       "      <td>31</td>\n",
       "      <td>31</td>\n",
       "      <td>31</td>\n",
       "      <td>31</td>\n",
       "      <td>31</td>\n",
       "      <td>31</td>\n",
       "      <td>31</td>\n",
       "      <td>...</td>\n",
       "      <td>22</td>\n",
       "      <td>31</td>\n",
       "      <td>29</td>\n",
       "      <td>31</td>\n",
       "      <td>31</td>\n",
       "      <td>10</td>\n",
       "      <td>31</td>\n",
       "      <td>20</td>\n",
       "      <td>22</td>\n",
       "      <td>27</td>\n",
       "    </tr>\n",
       "    <tr>\n",
       "      <td>посёлок Щеглово</td>\n",
       "      <td>1</td>\n",
       "      <td>1</td>\n",
       "      <td>1</td>\n",
       "      <td>1</td>\n",
       "      <td>1</td>\n",
       "      <td>1</td>\n",
       "      <td>1</td>\n",
       "      <td>1</td>\n",
       "      <td>1</td>\n",
       "      <td>1</td>\n",
       "      <td>...</td>\n",
       "      <td>1</td>\n",
       "      <td>1</td>\n",
       "      <td>0</td>\n",
       "      <td>0</td>\n",
       "      <td>0</td>\n",
       "      <td>0</td>\n",
       "      <td>0</td>\n",
       "      <td>0</td>\n",
       "      <td>1</td>\n",
       "      <td>1</td>\n",
       "    </tr>\n",
       "  </tbody>\n",
       "</table>\n",
       "<p>9 rows × 22 columns</p>\n",
       "</div>"
      ],
      "text/plain": [
       "                 total_images  last_price  total_area  first_day_exposition  \\\n",
       "locality_name                                                                 \n",
       "Всеволожск                  1           1           1                     1   \n",
       "Выборг                      3           3           3                     3   \n",
       "Зеленогорск                 1           1           1                     1   \n",
       "Колпино                     1           1           1                     1   \n",
       "Красное Село                1           1           1                     1   \n",
       "Никольское                  1           1           1                     1   \n",
       "Петергоф                    1           1           1                     1   \n",
       "Санкт-Петербург            31          31          31                    31   \n",
       "посёлок Щеглово             1           1           1                     1   \n",
       "\n",
       "                 rooms  ceiling_height  floors_total  living_area  floor  \\\n",
       "locality_name                                                              \n",
       "Всеволожск           1               1             1            1      1   \n",
       "Выборг               3               3             3            3      3   \n",
       "Зеленогорск          1               1             1            1      1   \n",
       "Колпино              1               1             1            1      1   \n",
       "Красное Село         1               1             1            1      1   \n",
       "Никольское           1               1             1            1      1   \n",
       "Петергоф             1               1             1            1      1   \n",
       "Санкт-Петербург     31              31            31           31     31   \n",
       "посёлок Щеглово      1               1             1            1      1   \n",
       "\n",
       "                 is_apartment  ...  kitchen_area  balcony  airports_nearest  \\\n",
       "locality_name                  ...                                            \n",
       "Всеволожск                  1  ...             0        1                 0   \n",
       "Выборг                      3  ...             2        3                 0   \n",
       "Зеленогорск                 1  ...             0        1                 1   \n",
       "Колпино                     1  ...             1        1                 1   \n",
       "Красное Село                1  ...             1        1                 1   \n",
       "Никольское                  1  ...             1        1                 0   \n",
       "Петергоф                    1  ...             0        1                 1   \n",
       "Санкт-Петербург            31  ...            22       31                29   \n",
       "посёлок Щеглово             1  ...             1        1                 0   \n",
       "\n",
       "                 cityCenters_nearest  parks_around3000  parks_nearest  \\\n",
       "locality_name                                                           \n",
       "Всеволожск                         0                 0              0   \n",
       "Выборг                             0                 0              0   \n",
       "Зеленогорск                        1                 1              1   \n",
       "Колпино                            1                 1              1   \n",
       "Красное Село                       1                 1              0   \n",
       "Никольское                         0                 0              0   \n",
       "Петергоф                           1                 1              1   \n",
       "Санкт-Петербург                   31                31             10   \n",
       "посёлок Щеглово                    0                 0              0   \n",
       "\n",
       "                 ponds_around3000  ponds_nearest  days_exposition  room_area  \n",
       "locality_name                                                                 \n",
       "Всеволожск                      0              0                1          0  \n",
       "Выборг                          0              0                2          3  \n",
       "Зеленогорск                     1              1                1          1  \n",
       "Колпино                         1              1                1          1  \n",
       "Красное Село                    1              0                1          0  \n",
       "Никольское                      0              0                1          1  \n",
       "Петергоф                        1              1                0          1  \n",
       "Санкт-Петербург                31             20               22         27  \n",
       "посёлок Щеглово                 0              0                1          1  \n",
       "\n",
       "[9 rows x 22 columns]"
      ]
     },
     "execution_count": 211,
     "metadata": {},
     "output_type": "execute_result"
    }
   ],
   "source": [
    "df[df['is_apartment'] == True].groupby('locality_name').count()"
   ]
  },
  {
   "cell_type": "markdown",
   "metadata": {},
   "source": [
    "Почти все они для Санкт-Петербурга. Возможно, нам это пригодится. Оставим как есть.\n",
    "\n",
    "Теперь взглянем на количество этажей."
   ]
  },
  {
   "cell_type": "code",
   "execution_count": 212,
   "metadata": {},
   "outputs": [
    {
     "data": {
      "text/plain": [
       "count    14433.000000\n",
       "mean        10.173422\n",
       "std          6.193217\n",
       "min          1.000000\n",
       "25%          5.000000\n",
       "50%          9.000000\n",
       "75%         14.000000\n",
       "max         60.000000\n",
       "Name: floors_total, dtype: float64"
      ]
     },
     "execution_count": 212,
     "metadata": {},
     "output_type": "execute_result"
    }
   ],
   "source": [
    "df['floors_total'].describe()"
   ]
  },
  {
   "cell_type": "markdown",
   "metadata": {},
   "source": [
    "Максимум равен 60-ти. Таких домов, в принципе, не много в стране. Посмотрим какие ещё есть большие значения."
   ]
  },
  {
   "cell_type": "code",
   "execution_count": 213,
   "metadata": {
    "scrolled": true
   },
   "outputs": [
    {
     "data": {
      "text/plain": [
       "2253     60.0\n",
       "16731    52.0\n",
       "11079    36.0\n",
       "5749     35.0\n",
       "9370     35.0\n",
       "1917     35.0\n",
       "9579     35.0\n",
       "12888    35.0\n",
       "12960    35.0\n",
       "9186     35.0\n",
       "Name: floors_total, dtype: float64"
      ]
     },
     "execution_count": 213,
     "metadata": {},
     "output_type": "execute_result"
    }
   ],
   "source": [
    "df['floors_total'].sort_values(ascending=False).head(10)"
   ]
  },
  {
   "cell_type": "markdown",
   "metadata": {},
   "source": [
    "Их оказалось не много. Посмотрим подробнее на те, что имеются."
   ]
  },
  {
   "cell_type": "code",
   "execution_count": 214,
   "metadata": {},
   "outputs": [
    {
     "data": {
      "text/html": [
       "<div>\n",
       "<style scoped>\n",
       "    .dataframe tbody tr th:only-of-type {\n",
       "        vertical-align: middle;\n",
       "    }\n",
       "\n",
       "    .dataframe tbody tr th {\n",
       "        vertical-align: top;\n",
       "    }\n",
       "\n",
       "    .dataframe thead th {\n",
       "        text-align: right;\n",
       "    }\n",
       "</style>\n",
       "<table border=\"1\" class=\"dataframe\">\n",
       "  <thead>\n",
       "    <tr style=\"text-align: right;\">\n",
       "      <th></th>\n",
       "      <th>total_images</th>\n",
       "      <th>last_price</th>\n",
       "      <th>total_area</th>\n",
       "      <th>first_day_exposition</th>\n",
       "      <th>rooms</th>\n",
       "      <th>ceiling_height</th>\n",
       "      <th>floors_total</th>\n",
       "      <th>living_area</th>\n",
       "      <th>floor</th>\n",
       "      <th>is_apartment</th>\n",
       "      <th>...</th>\n",
       "      <th>balcony</th>\n",
       "      <th>locality_name</th>\n",
       "      <th>airports_nearest</th>\n",
       "      <th>cityCenters_nearest</th>\n",
       "      <th>parks_around3000</th>\n",
       "      <th>parks_nearest</th>\n",
       "      <th>ponds_around3000</th>\n",
       "      <th>ponds_nearest</th>\n",
       "      <th>days_exposition</th>\n",
       "      <th>room_area</th>\n",
       "    </tr>\n",
       "  </thead>\n",
       "  <tbody>\n",
       "    <tr>\n",
       "      <td>2253</td>\n",
       "      <td>12</td>\n",
       "      <td>3800000.0</td>\n",
       "      <td>45.5</td>\n",
       "      <td>2018-06-28</td>\n",
       "      <td>2</td>\n",
       "      <td>2.88</td>\n",
       "      <td>60.0</td>\n",
       "      <td>27.4</td>\n",
       "      <td>4</td>\n",
       "      <td>NaN</td>\n",
       "      <td>...</td>\n",
       "      <td>0.0</td>\n",
       "      <td>Кронштадт</td>\n",
       "      <td>67763.0</td>\n",
       "      <td>49488.0</td>\n",
       "      <td>2.0</td>\n",
       "      <td>342.0</td>\n",
       "      <td>3.0</td>\n",
       "      <td>614.0</td>\n",
       "      <td>166.0</td>\n",
       "      <td>13.7</td>\n",
       "    </tr>\n",
       "    <tr>\n",
       "      <td>11079</td>\n",
       "      <td>16</td>\n",
       "      <td>9200000.0</td>\n",
       "      <td>75.0</td>\n",
       "      <td>2019-02-22</td>\n",
       "      <td>2</td>\n",
       "      <td>2.70</td>\n",
       "      <td>36.0</td>\n",
       "      <td>40.0</td>\n",
       "      <td>29</td>\n",
       "      <td>NaN</td>\n",
       "      <td>...</td>\n",
       "      <td>2.0</td>\n",
       "      <td>Санкт-Петербург</td>\n",
       "      <td>18732.0</td>\n",
       "      <td>20444.0</td>\n",
       "      <td>0.0</td>\n",
       "      <td>NaN</td>\n",
       "      <td>3.0</td>\n",
       "      <td>80.0</td>\n",
       "      <td>NaN</td>\n",
       "      <td>20.0</td>\n",
       "    </tr>\n",
       "    <tr>\n",
       "      <td>16731</td>\n",
       "      <td>9</td>\n",
       "      <td>3978000.0</td>\n",
       "      <td>40.0</td>\n",
       "      <td>2018-09-24</td>\n",
       "      <td>1</td>\n",
       "      <td>2.65</td>\n",
       "      <td>52.0</td>\n",
       "      <td>10.5</td>\n",
       "      <td>18</td>\n",
       "      <td>NaN</td>\n",
       "      <td>...</td>\n",
       "      <td>0.0</td>\n",
       "      <td>Санкт-Петербург</td>\n",
       "      <td>20728.0</td>\n",
       "      <td>12978.0</td>\n",
       "      <td>1.0</td>\n",
       "      <td>793.0</td>\n",
       "      <td>0.0</td>\n",
       "      <td>NaN</td>\n",
       "      <td>45.0</td>\n",
       "      <td>10.5</td>\n",
       "    </tr>\n",
       "  </tbody>\n",
       "</table>\n",
       "<p>3 rows × 23 columns</p>\n",
       "</div>"
      ],
      "text/plain": [
       "       total_images  last_price  total_area first_day_exposition  rooms  \\\n",
       "2253             12   3800000.0        45.5           2018-06-28      2   \n",
       "11079            16   9200000.0        75.0           2019-02-22      2   \n",
       "16731             9   3978000.0        40.0           2018-09-24      1   \n",
       "\n",
       "       ceiling_height  floors_total  living_area  floor is_apartment  ...  \\\n",
       "2253             2.88          60.0         27.4      4          NaN  ...   \n",
       "11079            2.70          36.0         40.0     29          NaN  ...   \n",
       "16731            2.65          52.0         10.5     18          NaN  ...   \n",
       "\n",
       "       balcony    locality_name  airports_nearest  cityCenters_nearest  \\\n",
       "2253       0.0        Кронштадт           67763.0              49488.0   \n",
       "11079      2.0  Санкт-Петербург           18732.0              20444.0   \n",
       "16731      0.0  Санкт-Петербург           20728.0              12978.0   \n",
       "\n",
       "      parks_around3000  parks_nearest  ponds_around3000  ponds_nearest  \\\n",
       "2253               2.0          342.0               3.0          614.0   \n",
       "11079              0.0            NaN               3.0           80.0   \n",
       "16731              1.0          793.0               0.0            NaN   \n",
       "\n",
       "       days_exposition  room_area  \n",
       "2253             166.0       13.7  \n",
       "11079              NaN       20.0  \n",
       "16731             45.0       10.5  \n",
       "\n",
       "[3 rows x 23 columns]"
      ]
     },
     "metadata": {},
     "output_type": "display_data"
    }
   ],
   "source": [
    "display(df[df['floors_total'] > 35])"
   ]
  },
  {
   "cell_type": "markdown",
   "metadata": {},
   "source": [
    "60-ти этажных домов в Кронштадте нет. 52-х этажных домов в Санкт-Петербурге тоже нет. Есть 88-этажный Лахта-центр, но на дату размещения объявления он ещё не был сдан. Да и потолок для такого строения слишком низкий. Удалим эти 2 записи, чтобы они не влияли на последующие значения, и перезапишем индексы."
   ]
  },
  {
   "cell_type": "code",
   "execution_count": 215,
   "metadata": {},
   "outputs": [
    {
     "name": "stdout",
     "output_type": "stream",
     "text": [
      "<class 'pandas.core.frame.DataFrame'>\n",
      "Int64Index: 14431 entries, 0 to 23698\n",
      "Data columns (total 23 columns):\n",
      "total_images            14431 non-null int64\n",
      "last_price              14431 non-null float64\n",
      "total_area              14431 non-null float64\n",
      "first_day_exposition    14431 non-null datetime64[ns]\n",
      "rooms                   14431 non-null int64\n",
      "ceiling_height          14431 non-null float64\n",
      "floors_total            14431 non-null float64\n",
      "living_area             14431 non-null float64\n",
      "floor                   14431 non-null int64\n",
      "is_apartment            1848 non-null object\n",
      "studio                  14431 non-null bool\n",
      "open_plan               14431 non-null bool\n",
      "kitchen_area            13503 non-null float64\n",
      "balcony                 14431 non-null float64\n",
      "locality_name           14431 non-null object\n",
      "airports_nearest        11487 non-null float64\n",
      "cityCenters_nearest     11507 non-null float64\n",
      "parks_around3000        11508 non-null float64\n",
      "parks_nearest           5266 non-null float64\n",
      "ponds_around3000        11508 non-null float64\n",
      "ponds_nearest           5703 non-null float64\n",
      "days_exposition         11994 non-null float64\n",
      "room_area               13639 non-null float64\n",
      "dtypes: bool(2), datetime64[ns](1), float64(15), int64(3), object(2)\n",
      "memory usage: 2.4+ MB\n"
     ]
    }
   ],
   "source": [
    "df.drop(index=[2253, 16731], inplace=True)\n",
    "df.dropna(subset=['floors_total'], inplace=True)\n",
    "df.reset_index(drop=True)\n",
    "df.info()"
   ]
  },
  {
   "cell_type": "markdown",
   "metadata": {},
   "source": [
    "Удалим также столбец **room_area**, так как он нам больше не нужен."
   ]
  },
  {
   "cell_type": "code",
   "execution_count": 216,
   "metadata": {},
   "outputs": [],
   "source": [
    "df.drop(columns=['room_area'], inplace=True)"
   ]
  },
  {
   "cell_type": "markdown",
   "metadata": {},
   "source": [
    "# Шаг 3. *Посчитаем и добавим новые столбцы в таблицу*"
   ]
  },
  {
   "cell_type": "markdown",
   "metadata": {},
   "source": [
    "Рассчитаем соотношение жилой площади к общей, добавим дополнительный столбец **living_to_total**."
   ]
  },
  {
   "cell_type": "code",
   "execution_count": 217,
   "metadata": {},
   "outputs": [
    {
     "name": "stdout",
     "output_type": "stream",
     "text": [
      "<class 'pandas.core.frame.DataFrame'>\n",
      "Int64Index: 14431 entries, 0 to 23698\n",
      "Data columns (total 23 columns):\n",
      "total_images            14431 non-null int64\n",
      "last_price              14431 non-null float64\n",
      "total_area              14431 non-null float64\n",
      "first_day_exposition    14431 non-null datetime64[ns]\n",
      "rooms                   14431 non-null int64\n",
      "ceiling_height          14431 non-null float64\n",
      "floors_total            14431 non-null float64\n",
      "living_area             14431 non-null float64\n",
      "floor                   14431 non-null int64\n",
      "is_apartment            1848 non-null object\n",
      "studio                  14431 non-null bool\n",
      "open_plan               14431 non-null bool\n",
      "kitchen_area            13503 non-null float64\n",
      "balcony                 14431 non-null float64\n",
      "locality_name           14431 non-null object\n",
      "airports_nearest        11487 non-null float64\n",
      "cityCenters_nearest     11507 non-null float64\n",
      "parks_around3000        11508 non-null float64\n",
      "parks_nearest           5266 non-null float64\n",
      "ponds_around3000        11508 non-null float64\n",
      "ponds_nearest           5703 non-null float64\n",
      "days_exposition         11994 non-null float64\n",
      "living_to_total         14431 non-null float64\n",
      "dtypes: bool(2), datetime64[ns](1), float64(15), int64(3), object(2)\n",
      "memory usage: 2.4+ MB\n"
     ]
    }
   ],
   "source": [
    "df['living_to_total'] = df['living_area']/df['total_area']\n",
    "df.info()"
   ]
  },
  {
   "cell_type": "markdown",
   "metadata": {},
   "source": [
    "Столбец добавлен.\n",
    "\n",
    "Теперь рассмотрим площадь кухонь."
   ]
  },
  {
   "cell_type": "code",
   "execution_count": 218,
   "metadata": {},
   "outputs": [
    {
     "data": {
      "text/plain": [
       "count    13503.000000\n",
       "mean        10.546926\n",
       "std          5.932402\n",
       "min          1.300000\n",
       "25%          7.000000\n",
       "50%          9.000000\n",
       "75%         12.000000\n",
       "max         93.200000\n",
       "Name: kitchen_area, dtype: float64"
      ]
     },
     "execution_count": 218,
     "metadata": {},
     "output_type": "execute_result"
    }
   ],
   "source": [
    "df['kitchen_area'].describe()"
   ]
  },
  {
   "cell_type": "markdown",
   "metadata": {},
   "source": [
    "Минимальная площадь  1.3 квадратных метра. В очень маленьких квартирах возможно и такое. Посмотрим описание для кухонь площадью более 40 квадратов, так как 5х8 уже многовато. Запросим для таких кухонь основные характеристики - площадь и количество комнат. Нет ли ошибки?"
   ]
  },
  {
   "cell_type": "code",
   "execution_count": 219,
   "metadata": {},
   "outputs": [
    {
     "data": {
      "text/html": [
       "<div>\n",
       "<style scoped>\n",
       "    .dataframe tbody tr th:only-of-type {\n",
       "        vertical-align: middle;\n",
       "    }\n",
       "\n",
       "    .dataframe tbody tr th {\n",
       "        vertical-align: top;\n",
       "    }\n",
       "\n",
       "    .dataframe thead th {\n",
       "        text-align: right;\n",
       "    }\n",
       "</style>\n",
       "<table border=\"1\" class=\"dataframe\">\n",
       "  <thead>\n",
       "    <tr style=\"text-align: right;\">\n",
       "      <th></th>\n",
       "      <th>total_area</th>\n",
       "      <th>kitchen_area</th>\n",
       "      <th>living_area</th>\n",
       "      <th>rooms</th>\n",
       "    </tr>\n",
       "  </thead>\n",
       "  <tbody>\n",
       "    <tr>\n",
       "      <td>count</td>\n",
       "      <td>90.000000</td>\n",
       "      <td>90.000000</td>\n",
       "      <td>90.000000</td>\n",
       "      <td>90.00000</td>\n",
       "    </tr>\n",
       "    <tr>\n",
       "      <td>mean</td>\n",
       "      <td>183.883333</td>\n",
       "      <td>50.828889</td>\n",
       "      <td>87.847444</td>\n",
       "      <td>3.60000</td>\n",
       "    </tr>\n",
       "    <tr>\n",
       "      <td>std</td>\n",
       "      <td>108.968420</td>\n",
       "      <td>10.036218</td>\n",
       "      <td>72.090815</td>\n",
       "      <td>1.52728</td>\n",
       "    </tr>\n",
       "    <tr>\n",
       "      <td>min</td>\n",
       "      <td>60.400000</td>\n",
       "      <td>40.100000</td>\n",
       "      <td>23.500000</td>\n",
       "      <td>1.00000</td>\n",
       "    </tr>\n",
       "    <tr>\n",
       "      <td>25%</td>\n",
       "      <td>117.550000</td>\n",
       "      <td>44.000000</td>\n",
       "      <td>40.525000</td>\n",
       "      <td>3.00000</td>\n",
       "    </tr>\n",
       "    <tr>\n",
       "      <td>50%</td>\n",
       "      <td>150.000000</td>\n",
       "      <td>48.000000</td>\n",
       "      <td>58.100000</td>\n",
       "      <td>3.00000</td>\n",
       "    </tr>\n",
       "    <tr>\n",
       "      <td>75%</td>\n",
       "      <td>200.725000</td>\n",
       "      <td>55.200000</td>\n",
       "      <td>99.775000</td>\n",
       "      <td>4.00000</td>\n",
       "    </tr>\n",
       "    <tr>\n",
       "      <td>max</td>\n",
       "      <td>618.000000</td>\n",
       "      <td>93.200000</td>\n",
       "      <td>301.500000</td>\n",
       "      <td>9.00000</td>\n",
       "    </tr>\n",
       "  </tbody>\n",
       "</table>\n",
       "</div>"
      ],
      "text/plain": [
       "       total_area  kitchen_area  living_area     rooms\n",
       "count   90.000000     90.000000    90.000000  90.00000\n",
       "mean   183.883333     50.828889    87.847444   3.60000\n",
       "std    108.968420     10.036218    72.090815   1.52728\n",
       "min     60.400000     40.100000    23.500000   1.00000\n",
       "25%    117.550000     44.000000    40.525000   3.00000\n",
       "50%    150.000000     48.000000    58.100000   3.00000\n",
       "75%    200.725000     55.200000    99.775000   4.00000\n",
       "max    618.000000     93.200000   301.500000   9.00000"
      ]
     },
     "metadata": {},
     "output_type": "display_data"
    }
   ],
   "source": [
    "display(df[df['kitchen_area'] > 40][['total_area', 'kitchen_area', 'living_area', 'rooms']].describe())"
   ]
  },
  {
   "cell_type": "markdown",
   "metadata": {},
   "source": [
    "В принципе всё укладывается в картину. Большая кухня, большая площадь.\n",
    "\n",
    "Теперь, разделим площадь кухни на общую площадь квартиры и сохраним эти значения в новый столбец **kitchen_to_total**, запросим его описание и построим гистограмму."
   ]
  },
  {
   "cell_type": "code",
   "execution_count": 220,
   "metadata": {},
   "outputs": [
    {
     "data": {
      "text/plain": [
       "count    13503.000000\n",
       "mean         0.183119\n",
       "std          0.071554\n",
       "min          0.025381\n",
       "25%          0.130952\n",
       "50%          0.167582\n",
       "75%          0.224938\n",
       "max          0.723270\n",
       "Name: kitchen_to_total, dtype: float64"
      ]
     },
     "execution_count": 220,
     "metadata": {},
     "output_type": "execute_result"
    },
    {
     "data": {
      "image/png": "[encoded data removed]",
      "text/plain": [
       "<Figure size 432x288 with 1 Axes>"
      ]
     },
     "metadata": {
      "needs_background": "light"
     },
     "output_type": "display_data"
    }
   ],
   "source": [
    "df['kitchen_to_total'] = df['kitchen_area']/df['total_area']\n",
    "df['kitchen_to_total'].hist(bins=20)\n",
    "df['kitchen_to_total'].describe()"
   ]
  },
  {
   "cell_type": "markdown",
   "metadata": {},
   "source": [
    "Межквартильный размах небольшой, распределение нормальное.\n",
    "\n",
    "Заполним пропуски в столбце **kitchen_area**, умножив медиану **kitchen_to_total** на общую площадь квартиры.\n",
    "Затем, дозаполним столбец **kitchen_to_total** по вновь появившимся значениям."
   ]
  },
  {
   "cell_type": "code",
   "execution_count": 221,
   "metadata": {},
   "outputs": [
    {
     "name": "stdout",
     "output_type": "stream",
     "text": [
      "<class 'pandas.core.frame.DataFrame'>\n",
      "Int64Index: 14431 entries, 0 to 23698\n",
      "Data columns (total 24 columns):\n",
      "total_images            14431 non-null int64\n",
      "last_price              14431 non-null float64\n",
      "total_area              14431 non-null float64\n",
      "first_day_exposition    14431 non-null datetime64[ns]\n",
      "rooms                   14431 non-null int64\n",
      "ceiling_height          14431 non-null float64\n",
      "floors_total            14431 non-null float64\n",
      "living_area             14431 non-null float64\n",
      "floor                   14431 non-null int64\n",
      "is_apartment            1848 non-null object\n",
      "studio                  14431 non-null bool\n",
      "open_plan               14431 non-null bool\n",
      "kitchen_area            14431 non-null float64\n",
      "balcony                 14431 non-null float64\n",
      "locality_name           14431 non-null object\n",
      "airports_nearest        11487 non-null float64\n",
      "cityCenters_nearest     11507 non-null float64\n",
      "parks_around3000        11508 non-null float64\n",
      "parks_nearest           5266 non-null float64\n",
      "ponds_around3000        11508 non-null float64\n",
      "ponds_nearest           5703 non-null float64\n",
      "days_exposition         11994 non-null float64\n",
      "living_to_total         14431 non-null float64\n",
      "kitchen_to_total        14431 non-null float64\n",
      "dtypes: bool(2), datetime64[ns](1), float64(16), int64(3), object(2)\n",
      "memory usage: 2.6+ MB\n"
     ]
    }
   ],
   "source": [
    "df['kitchen_area'] = df['kitchen_area'].fillna(df['total_area'] * df['kitchen_to_total'].median())\n",
    "df['kitchen_to_total'] = df['kitchen_to_total'].fillna(df['kitchen_area']/df['total_area'])\n",
    "df.info()"
   ]
  },
  {
   "cell_type": "markdown",
   "metadata": {},
   "source": [
    "Данные заполнены.\n",
    "\n",
    "Теперь добавим новый столбец **floor_type**, где запишем данные об этаже: **первый**, **последний** или **другой**. Для этого создадим функцию одной строки. В ней так же учтём те случаи, когда квартира продавалась в одноэтажном доме. Он ведь и не первый и не последний. Он **другой**."
   ]
  },
  {
   "cell_type": "code",
   "execution_count": 222,
   "metadata": {
    "scrolled": false
   },
   "outputs": [
    {
     "name": "stdout",
     "output_type": "stream",
     "text": [
      "<class 'pandas.core.frame.DataFrame'>\n",
      "Int64Index: 14431 entries, 0 to 23698\n",
      "Data columns (total 25 columns):\n",
      "total_images            14431 non-null int64\n",
      "last_price              14431 non-null float64\n",
      "total_area              14431 non-null float64\n",
      "first_day_exposition    14431 non-null datetime64[ns]\n",
      "rooms                   14431 non-null int64\n",
      "ceiling_height          14431 non-null float64\n",
      "floors_total            14431 non-null float64\n",
      "living_area             14431 non-null float64\n",
      "floor                   14431 non-null int64\n",
      "is_apartment            1848 non-null object\n",
      "studio                  14431 non-null bool\n",
      "open_plan               14431 non-null bool\n",
      "kitchen_area            14431 non-null float64\n",
      "balcony                 14431 non-null float64\n",
      "locality_name           14431 non-null object\n",
      "airports_nearest        11487 non-null float64\n",
      "cityCenters_nearest     11507 non-null float64\n",
      "parks_around3000        11508 non-null float64\n",
      "parks_nearest           5266 non-null float64\n",
      "ponds_around3000        11508 non-null float64\n",
      "ponds_nearest           5703 non-null float64\n",
      "days_exposition         11994 non-null float64\n",
      "living_to_total         14431 non-null float64\n",
      "kitchen_to_total        14431 non-null float64\n",
      "floor_type              14431 non-null object\n",
      "dtypes: bool(2), datetime64[ns](1), float64(16), int64(3), object(3)\n",
      "memory usage: 2.7+ MB\n"
     ]
    }
   ],
   "source": [
    "def floor_categor(row):\n",
    "    if row['floor'] == 1 and row['floors_total'] > 1:\n",
    "        return 'первый'\n",
    "    elif row['floors_total'] > 1 and row['floor'] == row['floors_total']:\n",
    "        return 'последний'\n",
    "    else:\n",
    "        return 'другой'\n",
    "\n",
    "\n",
    "df['floor_type'] = df.apply(floor_categor, axis=1)\n",
    "df.info()"
   ]
  },
  {
   "cell_type": "markdown",
   "metadata": {},
   "source": [
    "Добавлен успешно.\n",
    "\n",
    "Теперь добавим столбец со стоимостью одного квадратного метра, днем недели, месяцем и годом объявления. \n",
    "\n",
    "Добавляю номера дня и месяца, чтобы можно было строить гистограмму и искать зависимость."
   ]
  },
  {
   "cell_type": "code",
   "execution_count": 223,
   "metadata": {
    "scrolled": false
   },
   "outputs": [
    {
     "name": "stdout",
     "output_type": "stream",
     "text": [
      "<class 'pandas.core.frame.DataFrame'>\n",
      "Int64Index: 14431 entries, 0 to 23698\n",
      "Data columns (total 29 columns):\n",
      "total_images            14431 non-null int64\n",
      "last_price              14431 non-null float64\n",
      "total_area              14431 non-null float64\n",
      "first_day_exposition    14431 non-null datetime64[ns]\n",
      "rooms                   14431 non-null int64\n",
      "ceiling_height          14431 non-null float64\n",
      "floors_total            14431 non-null float64\n",
      "living_area             14431 non-null float64\n",
      "floor                   14431 non-null int64\n",
      "is_apartment            1848 non-null object\n",
      "studio                  14431 non-null bool\n",
      "open_plan               14431 non-null bool\n",
      "kitchen_area            14431 non-null float64\n",
      "balcony                 14431 non-null float64\n",
      "locality_name           14431 non-null object\n",
      "airports_nearest        11487 non-null float64\n",
      "cityCenters_nearest     11507 non-null float64\n",
      "parks_around3000        11508 non-null float64\n",
      "parks_nearest           5266 non-null float64\n",
      "ponds_around3000        11508 non-null float64\n",
      "ponds_nearest           5703 non-null float64\n",
      "days_exposition         11994 non-null float64\n",
      "living_to_total         14431 non-null float64\n",
      "kitchen_to_total        14431 non-null float64\n",
      "floor_type              14431 non-null object\n",
      "price_per_meter         14431 non-null float64\n",
      "week_day                14431 non-null int64\n",
      "month                   14431 non-null int64\n",
      "year                    14431 non-null int64\n",
      "dtypes: bool(2), datetime64[ns](1), float64(17), int64(6), object(3)\n",
      "memory usage: 3.1+ MB\n"
     ]
    }
   ],
   "source": [
    "df['price_per_meter'] = df['last_price']/df['total_area']\n",
    "df['week_day'] = df['first_day_exposition'].dt.weekday\n",
    "df['month'] = df['first_day_exposition'].dt.month\n",
    "df['year'] = df['first_day_exposition'].dt.year\n",
    "df.info()"
   ]
  },
  {
   "cell_type": "markdown",
   "metadata": {},
   "source": [
    "# Шаг 4. *Исследовательский анализ данных*"
   ]
  },
  {
   "cell_type": "markdown",
   "metadata": {},
   "source": [
    "Теперь взглянем на описание и гистограмму цены квартир."
   ]
  },
  {
   "cell_type": "code",
   "execution_count": 224,
   "metadata": {},
   "outputs": [],
   "source": [
    "def print_hists(column, rang, bins):\n",
    "    print('Описание столбца', column)\n",
    "    print()\n",
    "    print(df[column].describe())\n",
    "    print()\n",
    "    print('Гистограмма частот')\n",
    "    df[column].hist(range=rang, bins=bins)\n",
    "    plt.show()"
   ]
  },
  {
   "cell_type": "code",
   "execution_count": 225,
   "metadata": {
    "scrolled": false
   },
   "outputs": [
    {
     "name": "stdout",
     "output_type": "stream",
     "text": [
      "Описание столбца last_price\n",
      "\n",
      "count    1.443100e+04\n",
      "mean     6.796639e+06\n",
      "std      9.571922e+06\n",
      "min      1.219000e+04\n",
      "25%      3.570000e+06\n",
      "50%      4.850000e+06\n",
      "75%      7.000000e+06\n",
      "max      3.300000e+08\n",
      "Name: last_price, dtype: float64\n",
      "\n",
      "Гистограмма частот\n"
     ]
    },
    {
     "data": {
      "image/png": "[encoded data removed]",
      "text/plain": [
       "<Figure size 432x288 with 1 Axes>"
      ]
     },
     "metadata": {
      "needs_background": "light"
     },
     "output_type": "display_data"
    }
   ],
   "source": [
    "print_hists('last_price', (0, 330000000), 10)"
   ]
  },
  {
   "cell_type": "markdown",
   "metadata": {},
   "source": [
    "Минимум и максимум сильно отличаются. Составим гистограмму для стоимости жилья до 10 млн. руб."
   ]
  },
  {
   "cell_type": "code",
   "execution_count": 226,
   "metadata": {},
   "outputs": [
    {
     "name": "stdout",
     "output_type": "stream",
     "text": [
      "Описание столбца last_price\n",
      "\n",
      "count    1.443100e+04\n",
      "mean     6.796639e+06\n",
      "std      9.571922e+06\n",
      "min      1.219000e+04\n",
      "25%      3.570000e+06\n",
      "50%      4.850000e+06\n",
      "75%      7.000000e+06\n",
      "max      3.300000e+08\n",
      "Name: last_price, dtype: float64\n",
      "\n",
      "Гистограмма частот\n"
     ]
    },
    {
     "data": {
      "image/png": "[encoded data removed]",
      "text/plain": [
       "<Figure size 432x288 with 1 Axes>"
      ]
     },
     "metadata": {
      "needs_background": "light"
     },
     "output_type": "display_data"
    }
   ],
   "source": [
    "print_hists('last_price', (0, 10000000), 10)"
   ]
  },
  {
   "cell_type": "markdown",
   "metadata": {},
   "source": [
    "Так-то лучше. Тут распределение нормальное.\n",
    "\n",
    "Теперь взглянем на квартиры подороже. От 10 до 100 млн."
   ]
  },
  {
   "cell_type": "code",
   "execution_count": 227,
   "metadata": {
    "scrolled": false
   },
   "outputs": [
    {
     "name": "stdout",
     "output_type": "stream",
     "text": [
      "Описание столбца last_price\n",
      "\n",
      "count    1.443100e+04\n",
      "mean     6.796639e+06\n",
      "std      9.571922e+06\n",
      "min      1.219000e+04\n",
      "25%      3.570000e+06\n",
      "50%      4.850000e+06\n",
      "75%      7.000000e+06\n",
      "max      3.300000e+08\n",
      "Name: last_price, dtype: float64\n",
      "\n",
      "Гистограмма частот\n"
     ]
    },
    {
     "data": {
      "image/png": "[encoded data removed]",
      "text/plain": [
       "<Figure size 432x288 with 1 Axes>"
      ]
     },
     "metadata": {
      "needs_background": "light"
     },
     "output_type": "display_data"
    }
   ],
   "source": [
    "print_hists('last_price', (10000000, 100000000), 90)"
   ]
  },
  {
   "cell_type": "markdown",
   "metadata": {},
   "source": [
    "Напоминает распределение Пуассона. Если набрать больше данных о квартирах в таком ценовом сегменте, скорее всего, распределение будет стремиться к нормальному."
   ]
  },
  {
   "cell_type": "code",
   "execution_count": 228,
   "metadata": {},
   "outputs": [
    {
     "name": "stdout",
     "output_type": "stream",
     "text": [
      "Описание столбца last_price\n",
      "\n",
      "count    1.443100e+04\n",
      "mean     6.796639e+06\n",
      "std      9.571922e+06\n",
      "min      1.219000e+04\n",
      "25%      3.570000e+06\n",
      "50%      4.850000e+06\n",
      "75%      7.000000e+06\n",
      "max      3.300000e+08\n",
      "Name: last_price, dtype: float64\n",
      "\n",
      "Гистограмма частот\n"
     ]
    },
    {
     "data": {
      "image/png": "[encoded data removed]",
      "text/plain": [
       "<Figure size 432x288 with 1 Axes>"
      ]
     },
     "metadata": {
      "needs_background": "light"
     },
     "output_type": "display_data"
    }
   ],
   "source": [
    "print_hists('last_price', (100000000, 800000000), 70)"
   ]
  },
  {
   "cell_type": "markdown",
   "metadata": {},
   "source": [
    "Тут самые дорогие квартиры от 100 до 800 млн. Скорее всего это выбросы или ошибки в данных, хотя, мы знаем, что бывает и такое жильё.\n",
    "\n",
    "Аналогичным образом взглянем на общую площадь."
   ]
  },
  {
   "cell_type": "code",
   "execution_count": 229,
   "metadata": {
    "scrolled": false
   },
   "outputs": [
    {
     "name": "stdout",
     "output_type": "stream",
     "text": [
      "Описание столбца total_area\n",
      "\n",
      "count    14431.00000\n",
      "mean        61.74017\n",
      "std         35.83971\n",
      "min         12.00000\n",
      "25%         41.00000\n",
      "50%         53.40000\n",
      "75%         71.30000\n",
      "max        631.20000\n",
      "Name: total_area, dtype: float64\n",
      "\n",
      "Гистограмма частот\n"
     ]
    },
    {
     "data": {
      "image/png": "[encoded data removed]",
      "text/plain": [
       "<Figure size 432x288 with 1 Axes>"
      ]
     },
     "metadata": {
      "needs_background": "light"
     },
     "output_type": "display_data"
    }
   ],
   "source": [
    "print_hists('total_area', (0, 635), 10)"
   ]
  },
  {
   "cell_type": "markdown",
   "metadata": {},
   "source": [
    "Межквартильный размах 40 - 70 кв.м. Большая часть объявлений в пределах 200 кв. м.\n",
    "\n",
    "Рассмотрим такую выборку, ограничив диапазон через параметр **range**."
   ]
  },
  {
   "cell_type": "code",
   "execution_count": 230,
   "metadata": {
    "scrolled": false
   },
   "outputs": [
    {
     "name": "stdout",
     "output_type": "stream",
     "text": [
      "Описание столбца total_area\n",
      "\n",
      "count    14431.00000\n",
      "mean        61.74017\n",
      "std         35.83971\n",
      "min         12.00000\n",
      "25%         41.00000\n",
      "50%         53.40000\n",
      "75%         71.30000\n",
      "max        631.20000\n",
      "Name: total_area, dtype: float64\n",
      "\n",
      "Гистограмма частот\n"
     ]
    },
    {
     "data": {
      "image/png": "[encoded data removed]",
      "text/plain": [
       "<Figure size 432x288 with 1 Axes>"
      ]
     },
     "metadata": {
      "needs_background": "light"
     },
     "output_type": "display_data"
    }
   ],
   "source": [
    "print_hists('total_area', (10, 200), 19)"
   ]
  },
  {
   "cell_type": "markdown",
   "metadata": {},
   "source": [
    "Распределение ближе к нормальному. Однако, большая часть продаваемых квартир типична и их площадь лежит в довольно узком диапазоне.\n",
    "\n",
    "Отдельно рассмотрим гистограмму для квартир площадью от 200 до 700 квадратных метров."
   ]
  },
  {
   "cell_type": "code",
   "execution_count": 231,
   "metadata": {},
   "outputs": [
    {
     "name": "stdout",
     "output_type": "stream",
     "text": [
      "Описание столбца total_area\n",
      "\n",
      "count    14431.00000\n",
      "mean        61.74017\n",
      "std         35.83971\n",
      "min         12.00000\n",
      "25%         41.00000\n",
      "50%         53.40000\n",
      "75%         71.30000\n",
      "max        631.20000\n",
      "Name: total_area, dtype: float64\n",
      "\n",
      "Гистограмма частот\n"
     ]
    },
    {
     "data": {
      "image/png": "[encoded data removed]",
      "text/plain": [
       "<Figure size 432x288 with 1 Axes>"
      ]
     },
     "metadata": {
      "needs_background": "light"
     },
     "output_type": "display_data"
    }
   ],
   "source": [
    "print_hists('total_area', (200, 700), 50)"
   ]
  },
  {
   "cell_type": "markdown",
   "metadata": {},
   "source": [
    "Логично, что цена квартиры зависит от её площади. Мы увидели и огромные площади и очень дорогие квартиры, но число и тех и других было очень мало. Предполагаю, что эти огромные апартаменты которые нам попадались, и есть причина таких больших цен. В обоих случаях, 75% данных, согласно описанию к столбцу (а я думаю, ещё больше), укладываются во вполне адекватные цифры."
   ]
  },
  {
   "cell_type": "markdown",
   "metadata": {},
   "source": [
    "Большая часть лежит в диапазоне от 200 до 300 метров, другие варианты - изыск на своего клиента.\n",
    "\n",
    "Посмотрим сколько дней требуется для продажи квартиры. Запросим описание и гистограмму."
   ]
  },
  {
   "cell_type": "code",
   "execution_count": 232,
   "metadata": {},
   "outputs": [
    {
     "data": {
      "text/plain": [
       "count    11994.000000\n",
       "mean       190.391779\n",
       "std        228.481966\n",
       "min          1.000000\n",
       "25%         45.000000\n",
       "50%        103.000000\n",
       "75%        247.750000\n",
       "max       1580.000000\n",
       "Name: days_exposition, dtype: float64"
      ]
     },
     "metadata": {},
     "output_type": "display_data"
    },
    {
     "data": {
      "image/png": "[encoded data removed]",
      "text/plain": [
       "<Figure size 432x288 with 1 Axes>"
      ]
     },
     "metadata": {
      "needs_background": "light"
     },
     "output_type": "display_data"
    }
   ],
   "source": [
    "display(df['days_exposition'].describe())\n",
    "df['days_exposition'].hist()\n",
    "plt.show()"
   ]
  },
  {
   "cell_type": "markdown",
   "metadata": {},
   "source": [
    "1580 дней для продажи... Слишком долго. Но раз уж такие значения есть, разобьём на 2 гистограммы 1 - до года, 2 - остальные.\n",
    "\n",
    "Импортируем библиотеку **matplotlib** и выведем их вместе."
   ]
  },
  {
   "cell_type": "code",
   "execution_count": 233,
   "metadata": {},
   "outputs": [
    {
     "name": "stdout",
     "output_type": "stream",
     "text": [
      "Объявления размещённые в течение года\n"
     ]
    },
    {
     "data": {
      "image/png": "[encoded data removed]",
      "text/plain": [
       "<Figure size 432x288 with 1 Axes>"
      ]
     },
     "metadata": {
      "needs_background": "light"
     },
     "output_type": "display_data"
    },
    {
     "name": "stdout",
     "output_type": "stream",
     "text": [
      "Объявления размещённые более года\n"
     ]
    },
    {
     "data": {
      "image/png": "[encoded data removed]",
      "text/plain": [
       "<Figure size 432x288 with 1 Axes>"
      ]
     },
     "metadata": {
      "needs_background": "light"
     },
     "output_type": "display_data"
    }
   ],
   "source": [
    "import matplotlib.pyplot as plt\n",
    "print('Объявления размещённые в течение года')\n",
    "df['days_exposition'].hist(range=(0, 365))\n",
    "plt.show()\n",
    "print('Объявления размещённые более года')\n",
    "df['days_exposition'].hist(range=(365, 1600))\n",
    "plt.show()"
   ]
  },
  {
   "cell_type": "markdown",
   "metadata": {},
   "source": [
    "Судя по всему, быстрой можно назвать продажу в течение полутора-двух месяцев. Среднее время продажи квартиры - 3 месяца. Необычно долгой, можно считать продажу, которая длится более года. Хотя в наших данных не мало случаев продажи квартиры более 2-х лет. Возможна ошибка.\n",
    "\n",
    "Далее, для обнаружения графиков зависимости создадим список и цикл который будет подставлять его значения в команду, так как везде нас интересует влияние разных факторов на одну и ту же величину - стоимость жилья. Так же запросим коэффициент корреляции между величинами."
   ]
  },
  {
   "cell_type": "code",
   "execution_count": 234,
   "metadata": {
    "scrolled": false
   },
   "outputs": [
    {
     "name": "stdout",
     "output_type": "stream",
     "text": [
      "\n",
      "Влияние показателя total_area на стоимость жилья:\n",
      "\n",
      "Коэффициент корреляции 0.29198692023984374\n"
     ]
    },
    {
     "data": {
      "image/png": "[encoded data removed]",
      "text/plain": [
       "<Figure size 432x288 with 1 Axes>"
      ]
     },
     "metadata": {
      "needs_background": "light"
     },
     "output_type": "display_data"
    },
    {
     "name": "stdout",
     "output_type": "stream",
     "text": [
      "\n",
      "Влияние показателя rooms на стоимость жилья:\n",
      "\n",
      "Коэффициент корреляции 0.050175174840184286\n"
     ]
    },
    {
     "data": {
      "image/png": "[encoded data removed]",
      "text/plain": [
       "<Figure size 432x288 with 1 Axes>"
      ]
     },
     "metadata": {
      "needs_background": "light"
     },
     "output_type": "display_data"
    },
    {
     "name": "stdout",
     "output_type": "stream",
     "text": [
      "\n",
      "Влияние показателя cityCenters_nearest на стоимость жилья:\n",
      "\n",
      "Коэффициент корреляции -0.3138665866653606\n"
     ]
    },
    {
     "data": {
      "image/png": "[encoded data removed]",
      "text/plain": [
       "<Figure size 432x288 with 1 Axes>"
      ]
     },
     "metadata": {
      "needs_background": "light"
     },
     "output_type": "display_data"
    },
    {
     "name": "stdout",
     "output_type": "stream",
     "text": [
      "\n",
      "Влияние показателя week_day на стоимость жилья:\n",
      "\n",
      "Коэффициент корреляции -0.016982372934059263\n"
     ]
    },
    {
     "data": {
      "image/png": "[encoded data removed]",
      "text/plain": [
       "<Figure size 432x288 with 1 Axes>"
      ]
     },
     "metadata": {
      "needs_background": "light"
     },
     "output_type": "display_data"
    },
    {
     "name": "stdout",
     "output_type": "stream",
     "text": [
      "\n",
      "Влияние показателя month на стоимость жилья:\n",
      "\n",
      "Коэффициент корреляции -0.009493472905399607\n"
     ]
    },
    {
     "data": {
      "image/png": "[encoded data removed]",
      "text/plain": [
       "<Figure size 432x288 with 1 Axes>"
      ]
     },
     "metadata": {
      "needs_background": "light"
     },
     "output_type": "display_data"
    },
    {
     "name": "stdout",
     "output_type": "stream",
     "text": [
      "\n",
      "Влияние показателя year на стоимость жилья:\n",
      "\n",
      "Коэффициент корреляции 0.02006446268996942\n"
     ]
    },
    {
     "data": {
      "image/png": "[encoded data removed]",
      "text/plain": [
       "<Figure size 432x288 with 1 Axes>"
      ]
     },
     "metadata": {
      "needs_background": "light"
     },
     "output_type": "display_data"
    }
   ],
   "source": [
    "values = ['total_area', 'rooms', 'cityCenters_nearest', 'week_day', 'month', 'year']\n",
    "for value in values:\n",
    "    print()\n",
    "    print('Влияние показателя', value, 'на стоимость жилья:')\n",
    "    print()\n",
    "    print('Коэффициент корреляции', df[value].corr(df['price_per_meter']))\n",
    "    df.plot(x=value, y='price_per_meter', style='o', legend=True, grid=True)\n",
    "    plt.show()"
   ]
  },
  {
   "cell_type": "markdown",
   "metadata": {},
   "source": [
    "Обнаружились небольшие взаимосвязи между обще площадью жилья и ег стоимостью (прямая) и расстоянием до центра города (обратная). В остальных случаях зависимости нет. Можно отметить, что объявления о продаже более дорого жилья размещали по четвергам, и в 2017 году (может жильё тогда в целом было дороже).\n",
    "\n",
    "Так же построим график для этажей и их влияния на стоимость.Тип данных **object**, поэтому корреляцию не расчитать."
   ]
  },
  {
   "cell_type": "code",
   "execution_count": 235,
   "metadata": {},
   "outputs": [
    {
     "data": {
      "text/plain": [
       "<matplotlib.axes._subplots.AxesSubplot at 0x2865f2a9e48>"
      ]
     },
     "execution_count": 235,
     "metadata": {},
     "output_type": "execute_result"
    },
    {
     "data": {
      "image/png": "[encoded data removed]",
      "text/plain": [
       "<Figure size 864x360 with 1 Axes>"
      ]
     },
     "metadata": {
      "needs_background": "light"
     },
     "output_type": "display_data"
    }
   ],
   "source": [
    "df.plot(x='floor_type', y='price_per_meter', style='o', figsize=(12, 5), grid=True)"
   ]
  },
  {
   "cell_type": "markdown",
   "metadata": {},
   "source": [
    "График получился страный... Сгруппируем данные по типу этажей и узнаем медиану для каждого."
   ]
  },
  {
   "cell_type": "code",
   "execution_count": 236,
   "metadata": {},
   "outputs": [
    {
     "data": {
      "text/plain": [
       "floor_type\n",
       "другой       100000.000000\n",
       "первый        83599.492660\n",
       "последний     89789.276258\n",
       "Name: price_per_meter, dtype: float64"
      ]
     },
     "execution_count": 236,
     "metadata": {},
     "output_type": "execute_result"
    }
   ],
   "source": [
    "df.groupby('floor_type')['price_per_meter'].median()"
   ]
  },
  {
   "cell_type": "markdown",
   "metadata": {},
   "source": [
    "Последний этаж получился дороже первого. Но **другие** дороже всего. Наверное потому, что в этом диапазоне больше самих объявлений и, соответственно, значений."
   ]
  },
  {
   "cell_type": "markdown",
   "metadata": {},
   "source": [
    "Проверим зависимость на номерах этажей."
   ]
  },
  {
   "cell_type": "code",
   "execution_count": 237,
   "metadata": {},
   "outputs": [
    {
     "name": "stdout",
     "output_type": "stream",
     "text": [
      "Влияние этажа на стоимость жилья:\n",
      "\n",
      "Коэффициент корреляции 0.12746358531593757\n"
     ]
    },
    {
     "data": {
      "image/png": "[encoded data removed]",
      "text/plain": [
       "<Figure size 432x288 with 1 Axes>"
      ]
     },
     "metadata": {
      "needs_background": "light"
     },
     "output_type": "display_data"
    }
   ],
   "source": [
    "print('Влияние этажа на стоимость жилья:')\n",
    "print()\n",
    "print('Коэффициент корреляции', df['floor'].corr(df['price_per_meter']))\n",
    "df.plot(x='floor', y='price_per_meter', style='o', grid=True)\n",
    "plt.show()"
   ]
  },
  {
   "cell_type": "markdown",
   "metadata": {},
   "source": [
    "Зависимость очень слабая. И то для первых 9-ти этажей.\n",
    "\n",
    "Теперь, создадим сводную таблицу для городов где больше всего объявлений. Возьмём значение **rooms** для подсчёта количества объявлений, и **price_per_meter** для расчёта медиан в каждом городе. Отсортируем поубыванию и выберем первые 10 строк и присвоим в новую таблицу **most_popular_cities**."
   ]
  },
  {
   "cell_type": "code",
   "execution_count": 238,
   "metadata": {},
   "outputs": [
    {
     "data": {
      "text/html": [
       "<div>\n",
       "<style scoped>\n",
       "    .dataframe tbody tr th:only-of-type {\n",
       "        vertical-align: middle;\n",
       "    }\n",
       "\n",
       "    .dataframe tbody tr th {\n",
       "        vertical-align: top;\n",
       "    }\n",
       "\n",
       "    .dataframe thead th {\n",
       "        text-align: right;\n",
       "    }\n",
       "</style>\n",
       "<table border=\"1\" class=\"dataframe\">\n",
       "  <thead>\n",
       "    <tr style=\"text-align: right;\">\n",
       "      <th></th>\n",
       "      <th>price_per_meter</th>\n",
       "      <th>rooms</th>\n",
       "    </tr>\n",
       "    <tr>\n",
       "      <th>locality_name</th>\n",
       "      <th></th>\n",
       "      <th></th>\n",
       "    </tr>\n",
       "  </thead>\n",
       "  <tbody>\n",
       "    <tr>\n",
       "      <td>Санкт-Петербург</td>\n",
       "      <td>105714.285714</td>\n",
       "      <td>10056</td>\n",
       "    </tr>\n",
       "    <tr>\n",
       "      <td>Всеволожск</td>\n",
       "      <td>65789.473684</td>\n",
       "      <td>271</td>\n",
       "    </tr>\n",
       "    <tr>\n",
       "      <td>Пушкин</td>\n",
       "      <td>100000.000000</td>\n",
       "      <td>234</td>\n",
       "    </tr>\n",
       "    <tr>\n",
       "      <td>посёлок Шушары</td>\n",
       "      <td>77735.849057</td>\n",
       "      <td>215</td>\n",
       "    </tr>\n",
       "    <tr>\n",
       "      <td>Колпино</td>\n",
       "      <td>74725.274725</td>\n",
       "      <td>203</td>\n",
       "    </tr>\n",
       "    <tr>\n",
       "      <td>посёлок Мурино</td>\n",
       "      <td>86157.557209</td>\n",
       "      <td>198</td>\n",
       "    </tr>\n",
       "    <tr>\n",
       "      <td>Гатчина</td>\n",
       "      <td>68979.744936</td>\n",
       "      <td>148</td>\n",
       "    </tr>\n",
       "    <tr>\n",
       "      <td>Петергоф</td>\n",
       "      <td>82142.857143</td>\n",
       "      <td>145</td>\n",
       "    </tr>\n",
       "    <tr>\n",
       "      <td>посёлок Парголово</td>\n",
       "      <td>91040.462428</td>\n",
       "      <td>137</td>\n",
       "    </tr>\n",
       "    <tr>\n",
       "      <td>Сестрорецк</td>\n",
       "      <td>101286.173633</td>\n",
       "      <td>129</td>\n",
       "    </tr>\n",
       "  </tbody>\n",
       "</table>\n",
       "</div>"
      ],
      "text/plain": [
       "                   price_per_meter  rooms\n",
       "locality_name                            \n",
       "Санкт-Петербург      105714.285714  10056\n",
       "Всеволожск            65789.473684    271\n",
       "Пушкин               100000.000000    234\n",
       "посёлок Шушары        77735.849057    215\n",
       "Колпино               74725.274725    203\n",
       "посёлок Мурино        86157.557209    198\n",
       "Гатчина               68979.744936    148\n",
       "Петергоф              82142.857143    145\n",
       "посёлок Парголово     91040.462428    137\n",
       "Сестрорецк           101286.173633    129"
      ]
     },
     "metadata": {},
     "output_type": "display_data"
    }
   ],
   "source": [
    "most_popular_cities = df.pivot_table(index='locality_name', values=['rooms', 'price_per_meter'], aggfunc={'rooms':'count', 'price_per_meter':'median'}).sort_values('rooms', ascending=False).head(10)\n",
    "display(most_popular_cities)"
   ]
  },
  {
   "cell_type": "markdown",
   "metadata": {},
   "source": [
    "Больше всего объявлений в Питере, это и понятно. Распечатаем ответ на вопрос о самой дорогой и самой дешёвой недвижимости в самых популярных городах."
   ]
  },
  {
   "cell_type": "code",
   "execution_count": 239,
   "metadata": {},
   "outputs": [
    {
     "name": "stdout",
     "output_type": "stream",
     "text": [
      "Самые высокие цены на недвижимость - Санкт-Петербург\n",
      "Самые низкие цены на недвижимость - Всеволожск\n"
     ]
    }
   ],
   "source": [
    "print('Самые высокие цены на недвижимость -', most_popular_cities[most_popular_cities['price_per_meter'] == most_popular_cities['price_per_meter'].max()].index[0])\n",
    "print('Самые низкие цены на недвижимость -', most_popular_cities[most_popular_cities['price_per_meter'] == most_popular_cities['price_per_meter'].min()].index[0])"
   ]
  },
  {
   "cell_type": "markdown",
   "metadata": {},
   "source": [
    "Теперь, выберем из таблицы только данные по Санкт-Петербургу, добавим столбец с расстоянием до центра города в километрах, затем округлим эти значения."
   ]
  },
  {
   "cell_type": "code",
   "execution_count": 240,
   "metadata": {},
   "outputs": [],
   "source": [
    "spb_only = df[df['locality_name'] == 'Санкт-Петербург']\n",
    "spb_only.loc[:,'to_center_km'] = (spb_only.loc[:,'cityCenters_nearest']/1000).round()"
   ]
  },
  {
   "cell_type": "markdown",
   "metadata": {},
   "source": [
    "Теперь создадимсводную таблицу, рассчитаем среднюю стоимость квадратного метра на каждом километре расстояния и построим график зависимости между расстоянием и ценой. Через **figsize** передадим больший размер."
   ]
  },
  {
   "cell_type": "code",
   "execution_count": 241,
   "metadata": {
    "scrolled": false
   },
   "outputs": [
    {
     "data": {
      "text/plain": [
       "<matplotlib.axes._subplots.AxesSubplot at 0x2865f878688>"
      ]
     },
     "execution_count": 241,
     "metadata": {},
     "output_type": "execute_result"
    },
    {
     "data": {
      "image/png": "[encoded data removed]",
      "text/plain": [
       "<Figure size 720x360 with 1 Axes>"
      ]
     },
     "metadata": {
      "needs_background": "light"
     },
     "output_type": "display_data"
    }
   ],
   "source": [
    "spb_only.pivot_table(index='to_center_km', values='price_per_meter').plot(title='Зависимость стоимости квадратного метра жилья от расстояния до центра', style='o-', figsize=(10, 5), grid=True)"
   ]
  },
  {
   "cell_type": "markdown",
   "metadata": {},
   "source": [
    "Судя по графику, ситуация сильно менется при приближении к центру ближе 8 километров, потом она, почему-то, немного снижается (может это старые ветхие дома), затем опять идёт строго вверх. Итого, границу центра города определяем в 8 километров."
   ]
  },
  {
   "cell_type": "markdown",
   "metadata": {},
   "source": [
    "## Теперь рассмотрим цетр Санкт-Петербурга"
   ]
  },
  {
   "cell_type": "markdown",
   "metadata": {},
   "source": [
    "Отберём те записи, в которых расстояние до центра меньше или равно 7-ми километрам."
   ]
  },
  {
   "cell_type": "code",
   "execution_count": 242,
   "metadata": {},
   "outputs": [],
   "source": [
    "spb_only_center = spb_only[spb_only['to_center_km'] <= 8]"
   ]
  },
  {
   "cell_type": "markdown",
   "metadata": {},
   "source": [
    "Рассмотрим гистограммы для некоторых параметров. И сравним с общей картиной по всем имеющимся данным. Сначала опишем функцию, в которую будем передавать столбец."
   ]
  },
  {
   "cell_type": "code",
   "execution_count": 243,
   "metadata": {},
   "outputs": [],
   "source": [
    "def spb_count(column):\n",
    "    spb_only_center['total_area'].hist()\n",
    "    print()\n",
    "    print('Описание значений в столбце', column)\n",
    "    print()\n",
    "    print(spb_only_center['total_area'].describe())\n",
    "    print()\n",
    "    print('Гистограмма частот по столбцу', column)"
   ]
  },
  {
   "cell_type": "markdown",
   "metadata": {},
   "source": [
    "Начнём с общей площади."
   ]
  },
  {
   "cell_type": "code",
   "execution_count": 244,
   "metadata": {},
   "outputs": [
    {
     "name": "stdout",
     "output_type": "stream",
     "text": [
      "\n",
      "Описание значений в столбце total_area\n",
      "\n",
      "count    2666.000000\n",
      "mean       91.582202\n",
      "std        57.080774\n",
      "min        12.000000\n",
      "25%        56.000000\n",
      "50%        77.000000\n",
      "75%       109.075000\n",
      "max       631.200000\n",
      "Name: total_area, dtype: float64\n",
      "\n",
      "Гистограмма частот по столбцу total_area\n"
     ]
    },
    {
     "data": {
      "image/png": "[encoded data removed]",
      "text/plain": [
       "<Figure size 432x288 with 1 Axes>"
      ]
     },
     "metadata": {
      "needs_background": "light"
     },
     "output_type": "display_data"
    }
   ],
   "source": [
    "spb_count('total_area')"
   ]
  },
  {
   "cell_type": "markdown",
   "metadata": {},
   "source": [
    "Площадь квартир увеличилась. Теперь медиана 78 вместо 52."
   ]
  },
  {
   "cell_type": "code",
   "execution_count": 245,
   "metadata": {},
   "outputs": [
    {
     "name": "stdout",
     "output_type": "stream",
     "text": [
      "\n",
      "Описание значений в столбце last_price\n",
      "\n",
      "count    2666.000000\n",
      "mean       91.582202\n",
      "std        57.080774\n",
      "min        12.000000\n",
      "25%        56.000000\n",
      "50%        77.000000\n",
      "75%       109.075000\n",
      "max       631.200000\n",
      "Name: total_area, dtype: float64\n",
      "\n",
      "Гистограмма частот по столбцу last_price\n"
     ]
    },
    {
     "data": {
      "image/png": "[encoded data removed]",
      "text/plain": [
       "<Figure size 432x288 with 1 Axes>"
      ]
     },
     "metadata": {
      "needs_background": "light"
     },
     "output_type": "display_data"
    }
   ],
   "source": [
    "spb_count('last_price')"
   ]
  },
  {
   "cell_type": "markdown",
   "metadata": {},
   "source": [
    "Стоимость квартир сильно выше (ещё бы, центр Питера)."
   ]
  },
  {
   "cell_type": "code",
   "execution_count": 246,
   "metadata": {},
   "outputs": [
    {
     "name": "stdout",
     "output_type": "stream",
     "text": [
      "\n",
      "Описание значений в столбце rooms\n",
      "\n",
      "count    2666.000000\n",
      "mean       91.582202\n",
      "std        57.080774\n",
      "min        12.000000\n",
      "25%        56.000000\n",
      "50%        77.000000\n",
      "75%       109.075000\n",
      "max       631.200000\n",
      "Name: total_area, dtype: float64\n",
      "\n",
      "Гистограмма частот по столбцу rooms\n"
     ]
    },
    {
     "data": {
      "image/png": "[encoded data removed]",
      "text/plain": [
       "<Figure size 432x288 with 1 Axes>"
      ]
     },
     "metadata": {
      "needs_background": "light"
     },
     "output_type": "display_data"
    }
   ],
   "source": [
    "spb_count('rooms')"
   ]
  },
  {
   "cell_type": "markdown",
   "metadata": {},
   "source": [
    "Комнат так же больше. В среднем 3, а было 2."
   ]
  },
  {
   "cell_type": "code",
   "execution_count": 247,
   "metadata": {},
   "outputs": [
    {
     "name": "stdout",
     "output_type": "stream",
     "text": [
      "\n",
      "Описание значений в столбце ceiling_height\n",
      "\n",
      "count    2666.000000\n",
      "mean       91.582202\n",
      "std        57.080774\n",
      "min        12.000000\n",
      "25%        56.000000\n",
      "50%        77.000000\n",
      "75%       109.075000\n",
      "max       631.200000\n",
      "Name: total_area, dtype: float64\n",
      "\n",
      "Гистограмма частот по столбцу ceiling_height\n"
     ]
    },
    {
     "data": {
      "image/png": "[encoded data removed]",
      "text/plain": [
       "<Figure size 432x288 with 1 Axes>"
      ]
     },
     "metadata": {
      "needs_background": "light"
     },
     "output_type": "display_data"
    }
   ],
   "source": [
    "spb_count('ceiling_height')"
   ]
  },
  {
   "cell_type": "markdown",
   "metadata": {},
   "source": [
    "Высота потолков в Питере так же выше - 2,8 против 2,65.\n",
    "\n",
    "Так же проверим зависимость стоимости жилья от этажа квартиры."
   ]
  },
  {
   "cell_type": "code",
   "execution_count": 248,
   "metadata": {},
   "outputs": [
    {
     "name": "stdout",
     "output_type": "stream",
     "text": [
      "Влияние этажа на стоимость жилья:\n",
      "\n",
      "Коэффициент корреляции 0.09276628211091806\n"
     ]
    },
    {
     "data": {
      "image/png": "[encoded data removed]",
      "text/plain": [
       "<Figure size 432x288 with 1 Axes>"
      ]
     },
     "metadata": {
      "needs_background": "light"
     },
     "output_type": "display_data"
    }
   ],
   "source": [
    "print('Влияние этажа на стоимость жилья:')\n",
    "print()\n",
    "print('Коэффициент корреляции', spb_only_center['floor'].corr(spb_only_center['price_per_meter']))\n",
    "spb_only_center.plot(x='floor', y='price_per_meter', style='o', grid=True)\n",
    "plt.show()"
   ]
  },
  {
   "cell_type": "markdown",
   "metadata": {},
   "source": [
    "Коэффициент практически не изменился. На графике видно, что прямая зависимость существует, примерно, до 8 этажа. Далее не ощущается.\n",
    "\n",
    "Теперь, аналогично, через цикл отследим зависимость между стоимостью жилья и другими параметрами, так же сравнив с информацией по всем данным. Для нагляднсти, выведем коэффициент корреляции так же для всех данных."
   ]
  },
  {
   "cell_type": "code",
   "execution_count": 249,
   "metadata": {
    "scrolled": false
   },
   "outputs": [
    {
     "name": "stdout",
     "output_type": "stream",
     "text": [
      "\n",
      "Влияние показателя total_area на стоимость жилья:\n",
      "\n",
      "Коэффициент корреляции в выборке 0.2205070134222273\n",
      "Коэффициент корреляции в целом по даным 0.29198692023984374\n"
     ]
    },
    {
     "data": {
      "image/png": "[encoded data removed]",
      "text/plain": [
       "<Figure size 432x288 with 1 Axes>"
      ]
     },
     "metadata": {
      "needs_background": "light"
     },
     "output_type": "display_data"
    },
    {
     "name": "stdout",
     "output_type": "stream",
     "text": [
      "\n",
      "Влияние показателя rooms на стоимость жилья:\n",
      "\n",
      "Коэффициент корреляции в выборке -0.01545462814701525\n",
      "Коэффициент корреляции в целом по даным 0.050175174840184286\n"
     ]
    },
    {
     "data": {
      "image/png": "[encoded data removed]",
      "text/plain": [
       "<Figure size 432x288 with 1 Axes>"
      ]
     },
     "metadata": {
      "needs_background": "light"
     },
     "output_type": "display_data"
    },
    {
     "name": "stdout",
     "output_type": "stream",
     "text": [
      "\n",
      "Влияние показателя cityCenters_nearest на стоимость жилья:\n",
      "\n",
      "Коэффициент корреляции в выборке -0.06963684404749923\n",
      "Коэффициент корреляции в целом по даным -0.3138665866653606\n"
     ]
    },
    {
     "data": {
      "image/png": "[encoded data removed]",
      "text/plain": [
       "<Figure size 432x288 with 1 Axes>"
      ]
     },
     "metadata": {
      "needs_background": "light"
     },
     "output_type": "display_data"
    },
    {
     "name": "stdout",
     "output_type": "stream",
     "text": [
      "\n",
      "Влияние показателя week_day на стоимость жилья:\n",
      "\n",
      "Коэффициент корреляции в выборке -0.002347235784603529\n",
      "Коэффициент корреляции в целом по даным -0.016982372934059263\n"
     ]
    },
    {
     "data": {
      "image/png": "[encoded data removed]",
      "text/plain": [
       "<Figure size 432x288 with 1 Axes>"
      ]
     },
     "metadata": {
      "needs_background": "light"
     },
     "output_type": "display_data"
    },
    {
     "name": "stdout",
     "output_type": "stream",
     "text": [
      "\n",
      "Влияние показателя month на стоимость жилья:\n",
      "\n",
      "Коэффициент корреляции в выборке -0.024469420792934203\n",
      "Коэффициент корреляции в целом по даным -0.009493472905399607\n"
     ]
    },
    {
     "data": {
      "image/png": "[encoded data removed]",
      "text/plain": [
       "<Figure size 432x288 with 1 Axes>"
      ]
     },
     "metadata": {
      "needs_background": "light"
     },
     "output_type": "display_data"
    },
    {
     "name": "stdout",
     "output_type": "stream",
     "text": [
      "\n",
      "Влияние показателя year на стоимость жилья:\n",
      "\n",
      "Коэффициент корреляции в выборке 0.012956809182672183\n",
      "Коэффициент корреляции в целом по даным 0.02006446268996942\n"
     ]
    },
    {
     "data": {
      "image/png": "[encoded data removed]",
      "text/plain": [
       "<Figure size 432x288 with 1 Axes>"
      ]
     },
     "metadata": {
      "needs_background": "light"
     },
     "output_type": "display_data"
    }
   ],
   "source": [
    "for value in values:\n",
    "    print()\n",
    "    print('Влияние показателя', value, 'на стоимость жилья:')\n",
    "    print()\n",
    "    print('Коэффициент корреляции в выборке', spb_only_center[value].corr(spb_only_center['price_per_meter']))\n",
    "    print('Коэффициент корреляции в целом по даным', df[value].corr(df['price_per_meter']))\n",
    "    spb_only_center.plot(x=value, y='price_per_meter', style='o', legend=True, grid=True)\n",
    "    plt.show()"
   ]
  },
  {
   "cell_type": "markdown",
   "metadata": {},
   "source": [
    "Общая площадь жилья в центре Санкт-Петербура влияет на стоимость меньше, чем во всем наборе данных. Расстояние до центра города уже перестаёт играть роль, количество комнат в квартире так же ещё меньше влияет на стоимость квадратного метра. По другим параметрам разница ничтожно мала, как и сами коэффициенты корреляции."
   ]
  },
  {
   "cell_type": "markdown",
   "metadata": {},
   "source": [
    "# Шаг 5. *Общий вывод*\n",
    "\n",
    "Полученные данные были неоднородны, в них содержалось много артефактов, но часто это были, скорее, реальные значения, которые приходилось отбрасывать, так как они сильно отличались от абсолютного большинства данных, и могли влиять на расчёты.\n",
    "\n",
    "В ходе работы мы:\n",
    "\n",
    "- проверили датафрейм на наличие дубликатов,\n",
    "- заполнили пропуски балконов нулями,\n",
    "- отбросили слишком уж высокие и низкие потолки,\n",
    "- пропуски для высоты потолков заполнили медианой,\n",
    "- отбросили жилую площадь менее 9 квадратных метров,\n",
    "- рассчитали среднюю площадь комнаты и с помощью этого коэффициента заполнили пропуски в столбце **living_area**,\n",
    "- удалили неправдоподобно высокие здания в 60 и 52 этажа,\n",
    "- проверили записи с 0 комнат, они оказались студиями или открытой планировкой, заменили их значения на 1,\n",
    "- отбросили записи с количеством комнат более 9-ти, так как они были слишком редки и едва ли правдоподобны (на мой взгляд),\n",
    "- рассчитали соотношение жилой площади к общей и добавили столбец,\n",
    "- рассчитали соотношение площади кухни к общей и добавили столбец,\n",
    "- добавили столбцы с днём недели, месяцем и годом объявления,\n",
    "\n",
    "- изучили гистограммы для стоимости квартир, их площади, сроку продажи, высоте потолков, количеству комнат,\n",
    "- изучили зависимость стоимости квартиры от её площади, расстояния до центра города, количества комнат, даты публикации,\n",
    "- выделили квартиры в Санк-Петербурге, рассчитали для них расстояние до центра города в километрах, на графике нашли точку после которой стоимость начала значительно возрастать, таким образом определив границы центра города,\n",
    "- для квартир в центре Санкт-Петербурга изучили те же взаимосвязи, что и для всех квартир в наборе данных."
   ]
  }
 ],
 "metadata": {
  "kernelspec": {
   "display_name": "Python 3",
   "language": "python",
   "name": "python3"
  },
  "language_info": {
   "codemirror_mode": {
    "name": "ipython",
    "version": 3
   },
   "file_extension": ".py",
   "mimetype": "text/x-python",
   "name": "python",
   "nbconvert_exporter": "python",
   "pygments_lexer": "ipython3",
   "version": "3.8.3"
  },
  "toc": {
   "base_numbering": 1,
   "nav_menu": {},
   "number_sections": true,
   "sideBar": true,
   "skip_h1_title": true,
   "title_cell": "Table of Contents",
   "title_sidebar": "Contents",
   "toc_cell": false,
   "toc_position": {},
   "toc_section_display": true,
   "toc_window_display": false
  }
 },
 "nbformat": 4,
 "nbformat_minor": 4
}
