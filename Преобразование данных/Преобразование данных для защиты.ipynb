{
 "cells": [
  {
   "cell_type": "markdown",
   "metadata": {},
   "source": [
    "### Содержание:  \n",
    "<font size=4><ol>\n",
    "<li>Получение и первичный анализ данных\n",
    "    <ul>\n",
    "        <li>1.1. Получение и осмотр данных</li>\n",
    "        <li>1.2. Разведочный анализ данных</li>\n",
    "    </ul>\n",
    "</li>\n",
    "<li>Преобразование признаков\n",
    "    <ul>\n",
    "        <li>2.1. Матрица линейного преобразования</li>\n",
    "        <li>2.2. Проверка модели линейной регрессии</li>\n",
    "    </ul>\n",
    "</li>\n",
    "<li>Выводы</li>\n",
    "</ol></font>"
   ]
  },
  {
   "cell_type": "markdown",
   "metadata": {},
   "source": [
    "---\n",
    "## Выполнение проекта"
   ]
  },
  {
   "cell_type": "markdown",
   "metadata": {},
   "source": [
    "### 1. Получение и первичный анализ данных"
   ]
  },
  {
   "cell_type": "markdown",
   "metadata": {},
   "source": [
    "Импортируем необходимые библиотеки и модули для работы."
   ]
  },
  {
   "cell_type": "code",
   "execution_count": 1,
   "metadata": {},
   "outputs": [],
   "source": [
    "import pandas as pd\n",
    "import numpy as np\n",
    "import seaborn as sns\n",
    "import matplotlib.pyplot as plt\n",
    "from sklearn.model_selection import train_test_split\n",
    "from sklearn.linear_model import LinearRegression\n",
    "from sklearn.metrics import r2_score"
   ]
  },
  {
   "cell_type": "markdown",
   "metadata": {},
   "source": [
    "#### 1.1. Получение и осмотр данных"
   ]
  },
  {
   "cell_type": "markdown",
   "metadata": {},
   "source": [
    "Получим данные, и ознакомимся с ними. Проверим типы данных в столбцах, наличие пропусков и дубликатов."
   ]
  },
  {
   "cell_type": "code",
   "execution_count": 2,
   "metadata": {},
   "outputs": [
    {
     "data": {
      "text/html": [
       "<div>\n",
       "<style scoped>\n",
       "    .dataframe tbody tr th:only-of-type {\n",
       "        vertical-align: middle;\n",
       "    }\n",
       "\n",
       "    .dataframe tbody tr th {\n",
       "        vertical-align: top;\n",
       "    }\n",
       "\n",
       "    .dataframe thead th {\n",
       "        text-align: right;\n",
       "    }\n",
       "</style>\n",
       "<table border=\"1\" class=\"dataframe\">\n",
       "  <thead>\n",
       "    <tr style=\"text-align: right;\">\n",
       "      <th></th>\n",
       "      <th>Пол</th>\n",
       "      <th>Возраст</th>\n",
       "      <th>Зарплата</th>\n",
       "      <th>Члены семьи</th>\n",
       "      <th>Страховые выплаты</th>\n",
       "    </tr>\n",
       "  </thead>\n",
       "  <tbody>\n",
       "    <tr>\n",
       "      <th>0</th>\n",
       "      <td>1</td>\n",
       "      <td>41.0</td>\n",
       "      <td>49600.0</td>\n",
       "      <td>1</td>\n",
       "      <td>0</td>\n",
       "    </tr>\n",
       "    <tr>\n",
       "      <th>1</th>\n",
       "      <td>0</td>\n",
       "      <td>46.0</td>\n",
       "      <td>38000.0</td>\n",
       "      <td>1</td>\n",
       "      <td>1</td>\n",
       "    </tr>\n",
       "    <tr>\n",
       "      <th>2</th>\n",
       "      <td>0</td>\n",
       "      <td>29.0</td>\n",
       "      <td>21000.0</td>\n",
       "      <td>0</td>\n",
       "      <td>0</td>\n",
       "    </tr>\n",
       "    <tr>\n",
       "      <th>3</th>\n",
       "      <td>0</td>\n",
       "      <td>21.0</td>\n",
       "      <td>41700.0</td>\n",
       "      <td>2</td>\n",
       "      <td>0</td>\n",
       "    </tr>\n",
       "    <tr>\n",
       "      <th>4</th>\n",
       "      <td>1</td>\n",
       "      <td>28.0</td>\n",
       "      <td>26100.0</td>\n",
       "      <td>0</td>\n",
       "      <td>0</td>\n",
       "    </tr>\n",
       "    <tr>\n",
       "      <th>...</th>\n",
       "      <td>...</td>\n",
       "      <td>...</td>\n",
       "      <td>...</td>\n",
       "      <td>...</td>\n",
       "      <td>...</td>\n",
       "    </tr>\n",
       "    <tr>\n",
       "      <th>4995</th>\n",
       "      <td>0</td>\n",
       "      <td>28.0</td>\n",
       "      <td>35700.0</td>\n",
       "      <td>2</td>\n",
       "      <td>0</td>\n",
       "    </tr>\n",
       "    <tr>\n",
       "      <th>4996</th>\n",
       "      <td>0</td>\n",
       "      <td>34.0</td>\n",
       "      <td>52400.0</td>\n",
       "      <td>1</td>\n",
       "      <td>0</td>\n",
       "    </tr>\n",
       "    <tr>\n",
       "      <th>4997</th>\n",
       "      <td>0</td>\n",
       "      <td>20.0</td>\n",
       "      <td>33900.0</td>\n",
       "      <td>2</td>\n",
       "      <td>0</td>\n",
       "    </tr>\n",
       "    <tr>\n",
       "      <th>4998</th>\n",
       "      <td>1</td>\n",
       "      <td>22.0</td>\n",
       "      <td>32700.0</td>\n",
       "      <td>3</td>\n",
       "      <td>0</td>\n",
       "    </tr>\n",
       "    <tr>\n",
       "      <th>4999</th>\n",
       "      <td>1</td>\n",
       "      <td>28.0</td>\n",
       "      <td>40600.0</td>\n",
       "      <td>1</td>\n",
       "      <td>0</td>\n",
       "    </tr>\n",
       "  </tbody>\n",
       "</table>\n",
       "<p>5000 rows × 5 columns</p>\n",
       "</div>"
      ],
      "text/plain": [
       "      Пол  Возраст  Зарплата  Члены семьи  Страховые выплаты\n",
       "0       1     41.0   49600.0            1                  0\n",
       "1       0     46.0   38000.0            1                  1\n",
       "2       0     29.0   21000.0            0                  0\n",
       "3       0     21.0   41700.0            2                  0\n",
       "4       1     28.0   26100.0            0                  0\n",
       "...   ...      ...       ...          ...                ...\n",
       "4995    0     28.0   35700.0            2                  0\n",
       "4996    0     34.0   52400.0            1                  0\n",
       "4997    0     20.0   33900.0            2                  0\n",
       "4998    1     22.0   32700.0            3                  0\n",
       "4999    1     28.0   40600.0            1                  0\n",
       "\n",
       "[5000 rows x 5 columns]"
      ]
     },
     "metadata": {},
     "output_type": "display_data"
    }
   ],
   "source": [
    "df = pd.read_csv('/datasets/insurance.csv')\n",
    "\n",
    "display(df)"
   ]
  },
  {
   "cell_type": "code",
   "execution_count": 3,
   "metadata": {},
   "outputs": [
    {
     "name": "stdout",
     "output_type": "stream",
     "text": [
      "<class 'pandas.core.frame.DataFrame'>\n",
      "RangeIndex: 5000 entries, 0 to 4999\n",
      "Data columns (total 5 columns):\n",
      " #   Column             Non-Null Count  Dtype  \n",
      "---  ------             --------------  -----  \n",
      " 0   Пол                5000 non-null   int64  \n",
      " 1   Возраст            5000 non-null   float64\n",
      " 2   Зарплата           5000 non-null   float64\n",
      " 3   Члены семьи        5000 non-null   int64  \n",
      " 4   Страховые выплаты  5000 non-null   int64  \n",
      "dtypes: float64(2), int64(3)\n",
      "memory usage: 195.4 KB\n"
     ]
    }
   ],
   "source": [
    "df.info()"
   ]
  },
  {
   "cell_type": "code",
   "execution_count": 4,
   "metadata": {},
   "outputs": [
    {
     "data": {
      "text/plain": [
       "153"
      ]
     },
     "execution_count": 4,
     "metadata": {},
     "output_type": "execute_result"
    }
   ],
   "source": [
    "df.duplicated().sum()"
   ]
  },
  {
   "cell_type": "markdown",
   "metadata": {},
   "source": [
    "Пропусков нет, типы данных корректны. Есть дубликаты, но поскольку у нас нет идентификаторов клиентов, возможно в них попали клиенты с одинаковыми признаками."
   ]
  },
  {
   "cell_type": "markdown",
   "metadata": {},
   "source": [
    "#### 1.2. Разведочный анализ данных"
   ]
  },
  {
   "cell_type": "markdown",
   "metadata": {},
   "source": [
    "Проверим корреляцию признаков."
   ]
  },
  {
   "cell_type": "code",
   "execution_count": 5,
   "metadata": {},
   "outputs": [
    {
     "data": {
      "image/png": "[encoded data removed]",
      "text/plain": [
       "<Figure size 800x300 with 2 Axes>"
      ]
     },
     "metadata": {},
     "output_type": "display_data"
    }
   ],
   "source": [
    "plt.figure(figsize=(8, 3))\n",
    "sns.heatmap(df.drop(['Страховые выплаты', 'Пол'], axis=1).corr(), annot=True, vmin=-0.8, vmax=0.8)\n",
    "plt.title('Корреляция признаков', fontsize=16)\n",
    "plt.show()"
   ]
  },
  {
   "cell_type": "markdown",
   "metadata": {},
   "source": [
    "Не выявлена.  \n",
    "Теперь посмотрим на распределение клиентов по признаками."
   ]
  },
  {
   "cell_type": "code",
   "execution_count": 6,
   "metadata": {},
   "outputs": [
    {
     "name": "stdout",
     "output_type": "stream",
     "text": [
      "Распределение значений по признакам\n"
     ]
    },
    {
     "data": {
      "image/png": "[encoded data removed]",
      "text/plain": [
       "<Figure size 1000x100 with 1 Axes>"
      ]
     },
     "metadata": {},
     "output_type": "display_data"
    },
    {
     "data": {
      "image/png": "[encoded data removed]",
      "text/plain": [
       "<Figure size 1000x600 with 1 Axes>"
      ]
     },
     "metadata": {},
     "output_type": "display_data"
    },
    {
     "data": {
      "image/png": "[encoded data removed]",
      "text/plain": [
       "<Figure size 1000x500 with 1 Axes>"
      ]
     },
     "metadata": {},
     "output_type": "display_data"
    }
   ],
   "source": [
    "print('Распределение значений по признакам')\n",
    "\n",
    "for i in ['Пол', 'Члены семьи', 'Страховые выплаты']:\n",
    "    \n",
    "    data = df[i].value_counts(normalize=True).reset_index().rename(columns={'index': i, i: 'Доля'})\n",
    "    plt.figure(figsize=(10, data[i].max()))\n",
    "    plt.title(i, fontsize=15)\n",
    "    plt.barh(data=data, width=data['Доля'], y=i)\n",
    "    plt.yticks([j for j in range(data[i].max() + 1)])\n",
    "    plt.xticks([j for j in np.arange(0, 1.1, 0.1)], \n",
    "               ['{:.0%}'.format(j) for j in np.arange(0, 1.1, 0.1)])\n",
    "    plt.grid(True)\n",
    "    for j in range(data[i].nunique()):\n",
    "        plt.text(x=data[data[i] == j]['Доля']+0.02, y=j-0.1, \n",
    "                 s='{:.2%}'.format(data[data[i] == j]['Доля'].unique()[0]), \n",
    "                 fontdict={'size': 14, 'style': 'oblique'})\n",
    "    plt.show()"
   ]
  },
  {
   "cell_type": "markdown",
   "metadata": {},
   "source": [
    "Пол распределен поровну, большинство клиентов имеет не более 2-х членов семьи, и почти 90% ни разу не получали страховые выплаты."
   ]
  },
  {
   "cell_type": "code",
   "execution_count": 7,
   "metadata": {},
   "outputs": [
    {
     "data": {
      "image/png": "[encoded data removed]",
      "text/plain": [
       "<Figure size 1500x800 with 1 Axes>"
      ]
     },
     "metadata": {},
     "output_type": "display_data"
    }
   ],
   "source": [
    "data = df['Возраст'].value_counts(normalize=True).reset_index().rename(columns={'index': 'Возраст', 'Возраст': 'Доля'})\n",
    "plt.figure(figsize=(15, 8))\n",
    "plt.title('Распределение по возрасту', fontsize=15)\n",
    "plt.bar(data=data, height=data['Доля'], x='Возраст')\n",
    "plt.xticks([j for j in range(data['Возраст'].astype('int64').min(), data['Возраст'].astype('int64').max() + 1)])\n",
    "plt.yticks([j for j in np.arange(0, 0.055, 0.005)], \n",
    "           ['{:.1%}'.format(j) for j in np.arange(0, 0.055, 0.005)])\n",
    "plt.xlim(data['Возраст'].astype('int64').min() - 1, data['Возраст'].astype('int64').max() + 1)\n",
    "plt.grid(True)\n",
    "plt.show()"
   ]
  },
  {
   "cell_type": "markdown",
   "metadata": {},
   "source": [
    "Большинство клиентов имеет возраст до 40 лет."
   ]
  },
  {
   "cell_type": "code",
   "execution_count": 8,
   "metadata": {},
   "outputs": [
    {
     "data": {
      "image/png": "[encoded data removed]",
      "text/plain": [
       "<Figure size 1000x500 with 1 Axes>"
      ]
     },
     "metadata": {},
     "output_type": "display_data"
    }
   ],
   "source": [
    "plt.figure(figsize=(10, 5))\n",
    "plt.hist(df['Зарплата'], bins=50)\n",
    "plt.title('Гистограмма распределения зарплат', fontsize=15)\n",
    "plt.grid(True)\n",
    "plt.show()"
   ]
  },
  {
   "cell_type": "markdown",
   "metadata": {},
   "source": [
    "Зарплаты клиентов распределены нормально. Среднее и медианное значения в районе 40 тыс."
   ]
  },
  {
   "cell_type": "markdown",
   "metadata": {},
   "source": [
    "### 2. Преобразование признаков"
   ]
  },
  {
   "cell_type": "markdown",
   "metadata": {},
   "source": [
    "Для изменения признаков можно использовать линейное преобразование. То есть изменение всех векторов одинаковым образом.  \n",
    "Для этого используют матрицу линейного преобразования. После такого преобразования, каждому вектору линейного пространства соответствует другой вектор того же пространства. В нашем случае каждому вектору-строке таблицы будет соответствовать другая вектор-строка такого же размера, при этом все векторы-строки изменятся одинаково, т.к. преобразование будет происходить по одному правилу.  \n",
    "Для того чтобы вернуть значения к исходным, нужно совершить обратное преобразование с помощью матрицы, обратной матрице преобразования.  \n",
    "\n",
    "Поэтому матрица линейного преобразования должна быть обратимой, чтобы можно было найти обратную матрицу, а для этого она должна быть квадратной, и при этом не вырожденной - то есть её определитель не должен быть равен нулю, вектора из которых она состоит должны быть линейно независимыми.\n",
    "  \n",
    "Попробуем сделать преобразование по максимальным значениям каждого признака. Для этого нам нужна матрица, размером с количество признаков исходного датасета, то есть (4x4). Поскольку строка из таблицы будет умножаться поочередно на каждый столбец, необходимо на каждом этапе умножения получать преобразование одного признака, при этом отбрасывая остальные. Этого можно добиться оставив в матрице линейного преобразования только главную диагональ. То есть фактически, получается матрица, которая растягивает или сжимает векторы вдоль координатных осей и меняет их норму (длину).\n",
    "\n",
    "Докажем, что такое умножение не повлияет на расчеты.\n",
    "\n",
    "Формула выглядит так: $w = (X^T X)^{-1} X^T y$\n",
    "    \n",
    "Обозначения:\n",
    "\n",
    "- $X$ — матрица признаков (нулевой столбец состоит из единиц)\n",
    "\n",
    "- $y$ — вектор целевого признака\n",
    "\n",
    "- $P$ — матрица, на которую умножаются признаки\n",
    "\n",
    "- $w$ — вектор весов линейной регрессии (нулевой элемент равен сдвигу)    \n",
    "    \n",
    "Предсказания рассчитываются как  $a = Xw$\n",
    "    \n",
    "Мы умножаем матрицу признаков на обратимую квадратную матрицу $P$. Тогда результат такого умножения $R$, будет  $R = XP$\n",
    "\n",
    "Тогда формула обучения $W$ для новой матрицы $R$ примет вид  $W = (R^T R)^{-1} R^T y$\n",
    "\n",
    "Новое предсказание $A$ примет вид  $A = RW$\n",
    "\n",
    "Докажем, что предсказания до и после будут равны.  \n",
    "То есть, что  $a = A$    \n",
    "    \n",
    "Подставив $XP$ вместо $R$, получим  $W = ((XP)^T XP)^{-1}(XP)^T y$, следовательно: \n",
    "\n",
    "$$  \n",
    "A = XPW = XP((XP)^T XP)^{-1}(XP)^T y = XP(XP)^{-1}((XP)^T)^{-1}P^T X^T y = XPP^{-1}X^{-1}(X^T)^{-1}(P^T)^{-1}P^T X^T y\n",
    "$$\n",
    "Поскольку умножение матрицы на обратную, даёт единичную матрицу $E$, а умножение матрицы $E$ на любую матрицу ничего не меняет, если только такое умножение возможно - а у нас оно возможно, поскольку единичные матрицы получены в результате умножения обратных и транспонированных вариантов квадратной матрицы $P$, изначально рассчитанной для умножения на матрицу $X$, а значит имеют такую же размерность как матрица $P$, получаем:\n",
    "$$\n",
    "XEX^{-1}(X^T)^{-1}EX^T y = X(X^T X)^{-1}X^T y = Xw = a\n",
    "$$\n",
    "Таким образом $A = a$."
   ]
  },
  {
   "cell_type": "markdown",
   "metadata": {},
   "source": [
    "#### 2.1. Матрица линейного преобразования"
   ]
  },
  {
   "cell_type": "markdown",
   "metadata": {},
   "source": [
    "Создадим нулевую матрицу 4x4 и заполним главную диагональ максимальными значениями. Проверим обратимость такой матрицы."
   ]
  },
  {
   "cell_type": "code",
   "execution_count": 9,
   "metadata": {},
   "outputs": [
    {
     "name": "stdout",
     "output_type": "stream",
     "text": [
      "[[1.0e+00 0.0e+00 0.0e+00 0.0e+00]\n",
      " [0.0e+00 6.5e+01 0.0e+00 0.0e+00]\n",
      " [0.0e+00 0.0e+00 7.9e+04 0.0e+00]\n",
      " [0.0e+00 0.0e+00 0.0e+00 6.0e+00]]\n",
      "[[1.00000000e+00 0.00000000e+00 0.00000000e+00 0.00000000e+00]\n",
      " [0.00000000e+00 1.53846154e-02 0.00000000e+00 0.00000000e+00]\n",
      " [0.00000000e+00 0.00000000e+00 1.26582278e-05 0.00000000e+00]\n",
      " [0.00000000e+00 0.00000000e+00 0.00000000e+00 1.66666667e-01]]\n"
     ]
    }
   ],
   "source": [
    "lst = np.zeros([df.shape[1]-1, df.shape[1]-1])\n",
    "cols = df.drop('Страховые выплаты', axis=1).columns\n",
    "for i in range(len(lst)):\n",
    "    lst[i][i] = df[cols[i]].max()\n",
    "print(lst)\n",
    "print(np.linalg.inv(lst))"
   ]
  },
  {
   "cell_type": "markdown",
   "metadata": {},
   "source": [
    "Получилось. Обратная матрица вычисляется."
   ]
  },
  {
   "cell_type": "markdown",
   "metadata": {},
   "source": [
    "На всякий случай проверим, что размерность таблицы признаков после преобразования сохраняется."
   ]
  },
  {
   "cell_type": "code",
   "execution_count": 10,
   "metadata": {},
   "outputs": [
    {
     "name": "stdout",
     "output_type": "stream",
     "text": [
      "(5000, 4)\n"
     ]
    }
   ],
   "source": [
    "print((df.drop('Страховые выплаты', axis=1).values @ lst).shape)"
   ]
  },
  {
   "cell_type": "markdown",
   "metadata": {},
   "source": [
    "Отлично."
   ]
  },
  {
   "cell_type": "markdown",
   "metadata": {},
   "source": [
    "#### 2.2. Проверка модели линейной регрессии"
   ]
  },
  {
   "cell_type": "markdown",
   "metadata": {},
   "source": [
    "При помощи уравнений линейной регрессии, в частности формулы поиска вектора коэффициентов, проверим как меняется вектор коэффициента после преобразования.  \n",
    "Напишем функцию поиска вектора W, пользуясь формулой."
   ]
  },
  {
   "cell_type": "code",
   "execution_count": 11,
   "metadata": {},
   "outputs": [],
   "source": [
    "def find_w(features, target):\n",
    "    return np.linalg.inv(features.T @ features) @ features.T @ target.values"
   ]
  },
  {
   "cell_type": "markdown",
   "metadata": {},
   "source": [
    "Найдём вектор W до преобразования."
   ]
  },
  {
   "cell_type": "code",
   "execution_count": 12,
   "metadata": {},
   "outputs": [
    {
     "name": "stdout",
     "output_type": "stream",
     "text": [
      "[-0.044  0.023 -0.    -0.046]\n"
     ]
    }
   ],
   "source": [
    "w_norm = find_w(df.drop('Страховые выплаты', axis=1).values, df['Страховые выплаты'])\n",
    "print(w_norm.round(3))"
   ]
  },
  {
   "cell_type": "markdown",
   "metadata": {},
   "source": [
    "Теперь найдём вектор W после преобразования."
   ]
  },
  {
   "cell_type": "code",
   "execution_count": 13,
   "metadata": {},
   "outputs": [
    {
     "name": "stdout",
     "output_type": "stream",
     "text": [
      "[-0.044  0.    -0.    -0.008]\n"
     ]
    }
   ],
   "source": [
    "w_trans = find_w(df.drop('Страховые выплаты', axis=1).values @ lst, df['Страховые выплаты'])\n",
    "print(w_trans.round(3))"
   ]
  },
  {
   "cell_type": "markdown",
   "metadata": {},
   "source": [
    "Они мало чем отличаются, но на всякий случай вычислим расстояние между ними, и нормы самих векторов для сравнения."
   ]
  },
  {
   "cell_type": "code",
   "execution_count": 14,
   "metadata": {},
   "outputs": [
    {
     "name": "stdout",
     "output_type": "stream",
     "text": [
      "Норма вектора до преобразования = 0.068\n",
      "Норма вектора после преобразования = 0.045\n",
      "Норма вектора разницы = 0.044\n"
     ]
    }
   ],
   "source": [
    "print('Норма вектора до преобразования = {:.3f}'.format(np.linalg.norm(w_norm)))\n",
    "print('Норма вектора после преобразования = {:.3f}'.format(np.linalg.norm(w_trans)))\n",
    "print('Норма вектора разницы = {:.3f}'.format(np.linalg.norm(w_norm - w_trans)))"
   ]
  },
  {
   "cell_type": "markdown",
   "metadata": {},
   "source": [
    "Выглядит уже существеннее. Отличие практически на длину самого вектора.  \n",
    "Попробуем оценить расстояние по-другому - найдём угол между этими векторами."
   ]
  },
  {
   "cell_type": "code",
   "execution_count": 15,
   "metadata": {},
   "outputs": [
    {
     "name": "stdout",
     "output_type": "stream",
     "text": [
      "Угол между векторами коэффициентов W до и после преобразования равен 40.4 градусов\n"
     ]
    }
   ],
   "source": [
    "print('Угол между векторами коэффициентов W до и после преобразования равен {:.1f} градусов'.format(\n",
    "      np.rad2deg(\n",
    "                 np.arccos(\n",
    "                           w_norm @ w_trans / np.linalg.norm(w_norm, 2) / np.linalg.norm(w_trans, 2)\n",
    "                           )\n",
    "                 )\n",
    "                                                          )\n",
    "      )"
   ]
  },
  {
   "cell_type": "markdown",
   "metadata": {},
   "source": [
    "Это довольно существенно, то есть уже нельзя сказать что вектор практически не изменился."
   ]
  },
  {
   "cell_type": "markdown",
   "metadata": {},
   "source": [
    "Разобьём таблицу на матрицу признаков и вектор целевого признака и разделим их на обучающую и валидационную."
   ]
  },
  {
   "cell_type": "code",
   "execution_count": 16,
   "metadata": {},
   "outputs": [
    {
     "name": "stdout",
     "output_type": "stream",
     "text": [
      "Размер обучающей выборки (3750, 4), размер тестовой выборки (1250, 4)\n"
     ]
    }
   ],
   "source": [
    "features = df.drop('Страховые выплаты', axis=1)\n",
    "target = df['Страховые выплаты']\n",
    "\n",
    "features_train, features_valid, target_train, target_valid = train_test_split(features, target, test_size=0.25, random_state=123)\n",
    "print('Размер обучающей выборки {}, размер тестовой выборки {}'.format(features_train.shape, features_valid.shape))"
   ]
  },
  {
   "cell_type": "markdown",
   "metadata": {},
   "source": [
    "Разделение произошло корректно.\n",
    "\n",
    "Напишем функцию, для обучения и тестирования модели линейной регрессии."
   ]
  },
  {
   "cell_type": "code",
   "execution_count": 17,
   "metadata": {},
   "outputs": [],
   "source": [
    "def linear_regression(features_train, features_valid, target_train, target_valid):\n",
    "\n",
    "    model = LinearRegression()\n",
    "    model.fit(features_train, target_train)\n",
    "    predict_train = model.predict(features_train)\n",
    "    predict_test = model.predict(features_valid)\n",
    "\n",
    "    print('R2 линейной регрессии на обучающих данных {:.3f}'.format(r2_score(y_true=target_train, y_pred=predict_train)))\n",
    "    print('R2 линейной регрессии на валидационных данных {:.3f}'.format(r2_score(y_true=target_valid, y_pred=predict_test)))"
   ]
  },
  {
   "cell_type": "markdown",
   "metadata": {},
   "source": [
    "Проверим модель на исходных данных."
   ]
  },
  {
   "cell_type": "code",
   "execution_count": 18,
   "metadata": {},
   "outputs": [
    {
     "name": "stdout",
     "output_type": "stream",
     "text": [
      "R2 линейной регрессии на обучающих данных 0.423\n",
      "R2 линейной регрессии на валидационных данных 0.430\n"
     ]
    }
   ],
   "source": [
    "linear_regression(features_train, features_valid, target_train, target_valid)"
   ]
  },
  {
   "cell_type": "markdown",
   "metadata": {},
   "source": [
    "Модель обучена успешно."
   ]
  },
  {
   "cell_type": "markdown",
   "metadata": {},
   "source": [
    "Теперь проверим модель на преобразованных признаках.  \n",
    "Сначала проверим, что после обратного преобразования таблица возвращается в исходное состояние."
   ]
  },
  {
   "cell_type": "code",
   "execution_count": 19,
   "metadata": {},
   "outputs": [
    {
     "name": "stdout",
     "output_type": "stream",
     "text": [
      "Исходная таблица\n"
     ]
    },
    {
     "data": {
      "text/html": [
       "<div>\n",
       "<style scoped>\n",
       "    .dataframe tbody tr th:only-of-type {\n",
       "        vertical-align: middle;\n",
       "    }\n",
       "\n",
       "    .dataframe tbody tr th {\n",
       "        vertical-align: top;\n",
       "    }\n",
       "\n",
       "    .dataframe thead th {\n",
       "        text-align: right;\n",
       "    }\n",
       "</style>\n",
       "<table border=\"1\" class=\"dataframe\">\n",
       "  <thead>\n",
       "    <tr style=\"text-align: right;\">\n",
       "      <th></th>\n",
       "      <th>Пол</th>\n",
       "      <th>Возраст</th>\n",
       "      <th>Зарплата</th>\n",
       "      <th>Члены семьи</th>\n",
       "    </tr>\n",
       "  </thead>\n",
       "  <tbody>\n",
       "    <tr>\n",
       "      <th>0</th>\n",
       "      <td>1</td>\n",
       "      <td>41.0</td>\n",
       "      <td>49600.0</td>\n",
       "      <td>1</td>\n",
       "    </tr>\n",
       "    <tr>\n",
       "      <th>1</th>\n",
       "      <td>0</td>\n",
       "      <td>46.0</td>\n",
       "      <td>38000.0</td>\n",
       "      <td>1</td>\n",
       "    </tr>\n",
       "    <tr>\n",
       "      <th>2</th>\n",
       "      <td>0</td>\n",
       "      <td>29.0</td>\n",
       "      <td>21000.0</td>\n",
       "      <td>0</td>\n",
       "    </tr>\n",
       "    <tr>\n",
       "      <th>3</th>\n",
       "      <td>0</td>\n",
       "      <td>21.0</td>\n",
       "      <td>41700.0</td>\n",
       "      <td>2</td>\n",
       "    </tr>\n",
       "    <tr>\n",
       "      <th>4</th>\n",
       "      <td>1</td>\n",
       "      <td>28.0</td>\n",
       "      <td>26100.0</td>\n",
       "      <td>0</td>\n",
       "    </tr>\n",
       "    <tr>\n",
       "      <th>...</th>\n",
       "      <td>...</td>\n",
       "      <td>...</td>\n",
       "      <td>...</td>\n",
       "      <td>...</td>\n",
       "    </tr>\n",
       "    <tr>\n",
       "      <th>4995</th>\n",
       "      <td>0</td>\n",
       "      <td>28.0</td>\n",
       "      <td>35700.0</td>\n",
       "      <td>2</td>\n",
       "    </tr>\n",
       "    <tr>\n",
       "      <th>4996</th>\n",
       "      <td>0</td>\n",
       "      <td>34.0</td>\n",
       "      <td>52400.0</td>\n",
       "      <td>1</td>\n",
       "    </tr>\n",
       "    <tr>\n",
       "      <th>4997</th>\n",
       "      <td>0</td>\n",
       "      <td>20.0</td>\n",
       "      <td>33900.0</td>\n",
       "      <td>2</td>\n",
       "    </tr>\n",
       "    <tr>\n",
       "      <th>4998</th>\n",
       "      <td>1</td>\n",
       "      <td>22.0</td>\n",
       "      <td>32700.0</td>\n",
       "      <td>3</td>\n",
       "    </tr>\n",
       "    <tr>\n",
       "      <th>4999</th>\n",
       "      <td>1</td>\n",
       "      <td>28.0</td>\n",
       "      <td>40600.0</td>\n",
       "      <td>1</td>\n",
       "    </tr>\n",
       "  </tbody>\n",
       "</table>\n",
       "<p>5000 rows × 4 columns</p>\n",
       "</div>"
      ],
      "text/plain": [
       "      Пол  Возраст  Зарплата  Члены семьи\n",
       "0       1     41.0   49600.0            1\n",
       "1       0     46.0   38000.0            1\n",
       "2       0     29.0   21000.0            0\n",
       "3       0     21.0   41700.0            2\n",
       "4       1     28.0   26100.0            0\n",
       "...   ...      ...       ...          ...\n",
       "4995    0     28.0   35700.0            2\n",
       "4996    0     34.0   52400.0            1\n",
       "4997    0     20.0   33900.0            2\n",
       "4998    1     22.0   32700.0            3\n",
       "4999    1     28.0   40600.0            1\n",
       "\n",
       "[5000 rows x 4 columns]"
      ]
     },
     "metadata": {},
     "output_type": "display_data"
    },
    {
     "name": "stdout",
     "output_type": "stream",
     "text": [
      "Преобразованная таблица\n"
     ]
    },
    {
     "data": {
      "text/html": [
       "<div>\n",
       "<style scoped>\n",
       "    .dataframe tbody tr th:only-of-type {\n",
       "        vertical-align: middle;\n",
       "    }\n",
       "\n",
       "    .dataframe tbody tr th {\n",
       "        vertical-align: top;\n",
       "    }\n",
       "\n",
       "    .dataframe thead th {\n",
       "        text-align: right;\n",
       "    }\n",
       "</style>\n",
       "<table border=\"1\" class=\"dataframe\">\n",
       "  <thead>\n",
       "    <tr style=\"text-align: right;\">\n",
       "      <th></th>\n",
       "      <th>Пол</th>\n",
       "      <th>Возраст</th>\n",
       "      <th>Зарплата</th>\n",
       "      <th>Члены семьи</th>\n",
       "    </tr>\n",
       "  </thead>\n",
       "  <tbody>\n",
       "    <tr>\n",
       "      <th>0</th>\n",
       "      <td>1.0</td>\n",
       "      <td>2665.0</td>\n",
       "      <td>3.918400e+09</td>\n",
       "      <td>6.0</td>\n",
       "    </tr>\n",
       "    <tr>\n",
       "      <th>1</th>\n",
       "      <td>0.0</td>\n",
       "      <td>2990.0</td>\n",
       "      <td>3.002000e+09</td>\n",
       "      <td>6.0</td>\n",
       "    </tr>\n",
       "    <tr>\n",
       "      <th>2</th>\n",
       "      <td>0.0</td>\n",
       "      <td>1885.0</td>\n",
       "      <td>1.659000e+09</td>\n",
       "      <td>0.0</td>\n",
       "    </tr>\n",
       "    <tr>\n",
       "      <th>3</th>\n",
       "      <td>0.0</td>\n",
       "      <td>1365.0</td>\n",
       "      <td>3.294300e+09</td>\n",
       "      <td>12.0</td>\n",
       "    </tr>\n",
       "    <tr>\n",
       "      <th>4</th>\n",
       "      <td>1.0</td>\n",
       "      <td>1820.0</td>\n",
       "      <td>2.061900e+09</td>\n",
       "      <td>0.0</td>\n",
       "    </tr>\n",
       "    <tr>\n",
       "      <th>...</th>\n",
       "      <td>...</td>\n",
       "      <td>...</td>\n",
       "      <td>...</td>\n",
       "      <td>...</td>\n",
       "    </tr>\n",
       "    <tr>\n",
       "      <th>4995</th>\n",
       "      <td>0.0</td>\n",
       "      <td>1820.0</td>\n",
       "      <td>2.820300e+09</td>\n",
       "      <td>12.0</td>\n",
       "    </tr>\n",
       "    <tr>\n",
       "      <th>4996</th>\n",
       "      <td>0.0</td>\n",
       "      <td>2210.0</td>\n",
       "      <td>4.139600e+09</td>\n",
       "      <td>6.0</td>\n",
       "    </tr>\n",
       "    <tr>\n",
       "      <th>4997</th>\n",
       "      <td>0.0</td>\n",
       "      <td>1300.0</td>\n",
       "      <td>2.678100e+09</td>\n",
       "      <td>12.0</td>\n",
       "    </tr>\n",
       "    <tr>\n",
       "      <th>4998</th>\n",
       "      <td>1.0</td>\n",
       "      <td>1430.0</td>\n",
       "      <td>2.583300e+09</td>\n",
       "      <td>18.0</td>\n",
       "    </tr>\n",
       "    <tr>\n",
       "      <th>4999</th>\n",
       "      <td>1.0</td>\n",
       "      <td>1820.0</td>\n",
       "      <td>3.207400e+09</td>\n",
       "      <td>6.0</td>\n",
       "    </tr>\n",
       "  </tbody>\n",
       "</table>\n",
       "<p>5000 rows × 4 columns</p>\n",
       "</div>"
      ],
      "text/plain": [
       "      Пол  Возраст      Зарплата  Члены семьи\n",
       "0     1.0   2665.0  3.918400e+09          6.0\n",
       "1     0.0   2990.0  3.002000e+09          6.0\n",
       "2     0.0   1885.0  1.659000e+09          0.0\n",
       "3     0.0   1365.0  3.294300e+09         12.0\n",
       "4     1.0   1820.0  2.061900e+09          0.0\n",
       "...   ...      ...           ...          ...\n",
       "4995  0.0   1820.0  2.820300e+09         12.0\n",
       "4996  0.0   2210.0  4.139600e+09          6.0\n",
       "4997  0.0   1300.0  2.678100e+09         12.0\n",
       "4998  1.0   1430.0  2.583300e+09         18.0\n",
       "4999  1.0   1820.0  3.207400e+09          6.0\n",
       "\n",
       "[5000 rows x 4 columns]"
      ]
     },
     "metadata": {},
     "output_type": "display_data"
    },
    {
     "name": "stdout",
     "output_type": "stream",
     "text": [
      "Восстановленная таблица\n"
     ]
    },
    {
     "data": {
      "text/html": [
       "<div>\n",
       "<style scoped>\n",
       "    .dataframe tbody tr th:only-of-type {\n",
       "        vertical-align: middle;\n",
       "    }\n",
       "\n",
       "    .dataframe tbody tr th {\n",
       "        vertical-align: top;\n",
       "    }\n",
       "\n",
       "    .dataframe thead th {\n",
       "        text-align: right;\n",
       "    }\n",
       "</style>\n",
       "<table border=\"1\" class=\"dataframe\">\n",
       "  <thead>\n",
       "    <tr style=\"text-align: right;\">\n",
       "      <th></th>\n",
       "      <th>Пол</th>\n",
       "      <th>Возраст</th>\n",
       "      <th>Зарплата</th>\n",
       "      <th>Члены семьи</th>\n",
       "    </tr>\n",
       "  </thead>\n",
       "  <tbody>\n",
       "    <tr>\n",
       "      <th>0</th>\n",
       "      <td>1.0</td>\n",
       "      <td>41.0</td>\n",
       "      <td>49600.0</td>\n",
       "      <td>1.0</td>\n",
       "    </tr>\n",
       "    <tr>\n",
       "      <th>1</th>\n",
       "      <td>0.0</td>\n",
       "      <td>46.0</td>\n",
       "      <td>38000.0</td>\n",
       "      <td>1.0</td>\n",
       "    </tr>\n",
       "    <tr>\n",
       "      <th>2</th>\n",
       "      <td>0.0</td>\n",
       "      <td>29.0</td>\n",
       "      <td>21000.0</td>\n",
       "      <td>0.0</td>\n",
       "    </tr>\n",
       "    <tr>\n",
       "      <th>3</th>\n",
       "      <td>0.0</td>\n",
       "      <td>21.0</td>\n",
       "      <td>41700.0</td>\n",
       "      <td>2.0</td>\n",
       "    </tr>\n",
       "    <tr>\n",
       "      <th>4</th>\n",
       "      <td>1.0</td>\n",
       "      <td>28.0</td>\n",
       "      <td>26100.0</td>\n",
       "      <td>0.0</td>\n",
       "    </tr>\n",
       "    <tr>\n",
       "      <th>...</th>\n",
       "      <td>...</td>\n",
       "      <td>...</td>\n",
       "      <td>...</td>\n",
       "      <td>...</td>\n",
       "    </tr>\n",
       "    <tr>\n",
       "      <th>4995</th>\n",
       "      <td>0.0</td>\n",
       "      <td>28.0</td>\n",
       "      <td>35700.0</td>\n",
       "      <td>2.0</td>\n",
       "    </tr>\n",
       "    <tr>\n",
       "      <th>4996</th>\n",
       "      <td>0.0</td>\n",
       "      <td>34.0</td>\n",
       "      <td>52400.0</td>\n",
       "      <td>1.0</td>\n",
       "    </tr>\n",
       "    <tr>\n",
       "      <th>4997</th>\n",
       "      <td>0.0</td>\n",
       "      <td>20.0</td>\n",
       "      <td>33900.0</td>\n",
       "      <td>2.0</td>\n",
       "    </tr>\n",
       "    <tr>\n",
       "      <th>4998</th>\n",
       "      <td>1.0</td>\n",
       "      <td>22.0</td>\n",
       "      <td>32700.0</td>\n",
       "      <td>3.0</td>\n",
       "    </tr>\n",
       "    <tr>\n",
       "      <th>4999</th>\n",
       "      <td>1.0</td>\n",
       "      <td>28.0</td>\n",
       "      <td>40600.0</td>\n",
       "      <td>1.0</td>\n",
       "    </tr>\n",
       "  </tbody>\n",
       "</table>\n",
       "<p>5000 rows × 4 columns</p>\n",
       "</div>"
      ],
      "text/plain": [
       "      Пол  Возраст  Зарплата  Члены семьи\n",
       "0     1.0     41.0   49600.0          1.0\n",
       "1     0.0     46.0   38000.0          1.0\n",
       "2     0.0     29.0   21000.0          0.0\n",
       "3     0.0     21.0   41700.0          2.0\n",
       "4     1.0     28.0   26100.0          0.0\n",
       "...   ...      ...       ...          ...\n",
       "4995  0.0     28.0   35700.0          2.0\n",
       "4996  0.0     34.0   52400.0          1.0\n",
       "4997  0.0     20.0   33900.0          2.0\n",
       "4998  1.0     22.0   32700.0          3.0\n",
       "4999  1.0     28.0   40600.0          1.0\n",
       "\n",
       "[5000 rows x 4 columns]"
      ]
     },
     "metadata": {},
     "output_type": "display_data"
    }
   ],
   "source": [
    "print('Исходная таблица')\n",
    "display(features)\n",
    "\n",
    "features_transform = features.values @ lst\n",
    "\n",
    "print('Преобразованная таблица')\n",
    "display(pd.DataFrame(data=features_transform, columns=features.columns))\n",
    "print('Восстановленная таблица')\n",
    "display(pd.DataFrame(data=features_transform @ np.linalg.inv(lst), columns=features.columns))"
   ]
  },
  {
   "cell_type": "markdown",
   "metadata": {},
   "source": [
    "Значения в исходной таблице и в таблице после обратного преобразования совпадают.  \n",
    "Теперь проверим корректность работы модели на преобразованных данных."
   ]
  },
  {
   "cell_type": "code",
   "execution_count": 20,
   "metadata": {},
   "outputs": [
    {
     "name": "stdout",
     "output_type": "stream",
     "text": [
      "R2 линейной регрессии на обучающих данных 0.423\n",
      "R2 линейной регрессии на валидационных данных 0.430\n"
     ]
    }
   ],
   "source": [
    "features_train_transform = features_train.values @ lst\n",
    "features_valid_transform = features_valid.values @ lst\n",
    "\n",
    "linear_regression(features_train_transform, features_valid_transform, target_train, target_valid)"
   ]
  },
  {
   "cell_type": "markdown",
   "metadata": {},
   "source": [
    "Модель показывает такие же результаты как на исходных данных. Матрицу преобразования можно применять."
   ]
  },
  {
   "cell_type": "markdown",
   "metadata": {},
   "source": [
    "### 3. Выводы"
   ]
  },
  {
   "cell_type": "markdown",
   "metadata": {},
   "source": [
    "Для преобразования данных можно использовать матрицу линейного преобразования.  \n",
    "Такая матрица должна быть квадратной и не вырожденной. То есть её определитель не должен быть равен нулю, чтобы можно было найти обратную матрицу и совершить обратное преобразование.  \n",
    "Размерность матрицы должна соответствовать количеству столбцов (признаков) в исходной матрице.  \n",
    "Матрица должна быть диагональной, то есть все элементы не лежащие на главной диагонали должны быть равны нулю.  \n",
    "Элементы главной диагонали в нашем случае равны максимальному значению соответствующего признака.  \n",
    "\n",
    "Вероятно, если бы мы взяли не максимальное значение, а, скажем, среднее, это бы тоже сработало. Так же можно переименовать столбцы, чтобы окончательно запутать злоумышленников.  \n",
    "Модель машинного обучения будет обучаться корректно, и видеть те же взаимосвязи. При этом вектор признаков W после преобразования изменился существенно, но не слишком сильно (норма вектора разности почти равна норме самого вектора коэффициентов, а отклонение на 40 градусов)."
   ]
  }
 ],
 "metadata": {
  "ExecuteTimeLog": [
   {
    "duration": 9493,
    "start_time": "2023-05-18T17:56:50.369Z"
   },
   {
    "duration": 299,
    "start_time": "2023-05-18T17:56:59.865Z"
   },
   {
    "duration": 97,
    "start_time": "2023-05-18T17:57:00.167Z"
   },
   {
    "duration": 88,
    "start_time": "2023-05-18T17:57:00.275Z"
   },
   {
    "duration": 63,
    "start_time": "2023-05-18T17:57:00.400Z"
   },
   {
    "duration": 17,
    "start_time": "2023-05-18T17:57:00.476Z"
   },
   {
    "duration": 98,
    "start_time": "2023-05-18T17:57:00.563Z"
   },
   {
    "duration": 105,
    "start_time": "2023-05-18T17:57:00.684Z"
   },
   {
    "duration": 310,
    "start_time": "2023-05-18T17:57:00.856Z"
   },
   {
    "duration": 3190,
    "start_time": "2023-05-18T17:57:01.177Z"
   },
   {
    "duration": 105,
    "start_time": "2023-05-18T17:57:04.457Z"
   },
   {
    "duration": 201,
    "start_time": "2023-05-18T17:57:04.568Z"
   },
   {
    "duration": 1407,
    "start_time": "2023-05-18T17:57:04.779Z"
   },
   {
    "duration": 2934,
    "start_time": "2023-05-18T17:57:06.259Z"
   },
   {
    "duration": 491398,
    "start_time": "2023-05-18T17:57:09.259Z"
   },
   {
    "duration": 21,
    "start_time": "2023-05-18T18:05:20.662Z"
   },
   {
    "duration": 102,
    "start_time": "2023-05-18T18:05:20.686Z"
   },
   {
    "duration": 1109,
    "start_time": "2023-05-18T18:05:20.857Z"
   },
   {
    "duration": 3209,
    "start_time": "2023-05-18T18:05:21.975Z"
   },
   {
    "duration": 586988,
    "start_time": "2023-05-18T18:05:25.188Z"
   },
   {
    "duration": 314,
    "start_time": "2023-05-18T18:15:12.191Z"
   },
   {
    "duration": 3035,
    "start_time": "2023-06-19T16:31:09.243Z"
   },
   {
    "duration": 5,
    "start_time": "2023-06-19T16:31:12.280Z"
   },
   {
    "duration": 1793,
    "start_time": "2023-06-19T16:31:12.287Z"
   },
   {
    "duration": 536,
    "start_time": "2023-06-19T16:31:14.082Z"
   },
   {
    "duration": 2089,
    "start_time": "2023-06-19T16:31:14.620Z"
   },
   {
    "duration": 5,
    "start_time": "2023-06-19T16:31:16.711Z"
   },
   {
    "duration": 8,
    "start_time": "2023-06-19T16:31:16.717Z"
   },
   {
    "duration": 33,
    "start_time": "2023-06-19T16:31:16.727Z"
   },
   {
    "duration": 9,
    "start_time": "2023-06-19T16:31:16.766Z"
   },
   {
    "duration": 18,
    "start_time": "2023-06-19T16:31:16.778Z"
   },
   {
    "duration": 23,
    "start_time": "2023-06-19T16:31:16.798Z"
   },
   {
    "duration": 9,
    "start_time": "2023-06-19T16:31:16.823Z"
   },
   {
    "duration": 262,
    "start_time": "2023-06-19T16:31:16.833Z"
   },
   {
    "duration": 0,
    "start_time": "2023-06-19T16:31:17.097Z"
   },
   {
    "duration": 0,
    "start_time": "2023-06-19T16:31:17.098Z"
   },
   {
    "duration": 0,
    "start_time": "2023-06-19T16:31:17.099Z"
   },
   {
    "duration": 0,
    "start_time": "2023-06-19T16:31:17.100Z"
   },
   {
    "duration": 0,
    "start_time": "2023-06-19T16:31:17.101Z"
   },
   {
    "duration": 0,
    "start_time": "2023-06-19T16:31:17.102Z"
   },
   {
    "duration": 0,
    "start_time": "2023-06-19T16:31:17.103Z"
   },
   {
    "duration": 136,
    "start_time": "2023-06-19T16:32:16.768Z"
   },
   {
    "duration": 162,
    "start_time": "2023-06-19T16:32:30.726Z"
   },
   {
    "duration": 4,
    "start_time": "2023-06-19T16:33:36.418Z"
   },
   {
    "duration": 3428,
    "start_time": "2023-06-19T16:34:44.776Z"
   },
   {
    "duration": 101,
    "start_time": "2023-06-19T16:34:56.709Z"
   },
   {
    "duration": 1040,
    "start_time": "2023-06-19T16:35:10.225Z"
   },
   {
    "duration": 784,
    "start_time": "2023-06-19T16:35:24.047Z"
   },
   {
    "duration": 9,
    "start_time": "2023-06-19T16:35:32.947Z"
   },
   {
    "duration": 3701,
    "start_time": "2023-06-19T16:35:34.089Z"
   },
   {
    "duration": 3,
    "start_time": "2023-06-19T16:35:37.792Z"
   },
   {
    "duration": 4,
    "start_time": "2023-06-19T16:35:40.902Z"
   },
   {
    "duration": 16,
    "start_time": "2023-06-19T16:35:41.473Z"
   },
   {
    "duration": 7,
    "start_time": "2023-06-19T16:37:22.640Z"
   },
   {
    "duration": 10597,
    "start_time": "2023-06-19T16:37:24.606Z"
   },
   {
    "duration": 23,
    "start_time": "2023-06-19T16:37:47.222Z"
   },
   {
    "duration": 6,
    "start_time": "2023-06-19T16:37:49.195Z"
   },
   {
    "duration": 1447,
    "start_time": "2023-06-19T16:38:07.371Z"
   },
   {
    "duration": 2601,
    "start_time": "2023-06-19T16:38:10.421Z"
   },
   {
    "duration": 3,
    "start_time": "2023-06-19T16:38:13.024Z"
   },
   {
    "duration": 6,
    "start_time": "2023-06-19T16:38:15.913Z"
   },
   {
    "duration": 7783,
    "start_time": "2023-06-19T16:38:21.932Z"
   },
   {
    "duration": 12,
    "start_time": "2023-06-19T16:38:32.656Z"
   },
   {
    "duration": 7,
    "start_time": "2023-06-19T16:38:36.473Z"
   },
   {
    "duration": 4,
    "start_time": "2023-06-19T16:38:37.792Z"
   },
   {
    "duration": 3136,
    "start_time": "2023-07-01T06:35:25.931Z"
   },
   {
    "duration": 111,
    "start_time": "2023-07-01T06:35:29.070Z"
   },
   {
    "duration": 18,
    "start_time": "2023-07-01T06:35:29.187Z"
   },
   {
    "duration": 8,
    "start_time": "2023-07-01T06:35:29.208Z"
   },
   {
    "duration": 488,
    "start_time": "2023-07-01T06:35:29.218Z"
   },
   {
    "duration": 608,
    "start_time": "2023-07-01T06:35:29.708Z"
   },
   {
    "duration": 772,
    "start_time": "2023-07-01T06:35:30.319Z"
   },
   {
    "duration": 259,
    "start_time": "2023-07-01T06:35:31.094Z"
   },
   {
    "duration": 14,
    "start_time": "2023-07-01T06:35:31.355Z"
   },
   {
    "duration": 8,
    "start_time": "2023-07-01T06:36:01.846Z"
   },
   {
    "duration": 9,
    "start_time": "2023-07-01T06:36:14.976Z"
   },
   {
    "duration": 141,
    "start_time": "2023-07-01T06:36:49.898Z"
   },
   {
    "duration": 6,
    "start_time": "2023-07-01T06:36:54.232Z"
   },
   {
    "duration": 232,
    "start_time": "2023-07-01T06:36:58.259Z"
   },
   {
    "duration": 129,
    "start_time": "2023-07-01T06:37:02.723Z"
   },
   {
    "duration": 101,
    "start_time": "2023-07-01T06:37:05.835Z"
   },
   {
    "duration": 141,
    "start_time": "2023-07-01T06:38:18.517Z"
   },
   {
    "duration": 192,
    "start_time": "2023-07-01T06:39:03.276Z"
   },
   {
    "duration": 39,
    "start_time": "2023-07-01T06:39:06.602Z"
   },
   {
    "duration": 5,
    "start_time": "2023-07-01T06:39:27.727Z"
   },
   {
    "duration": 84,
    "start_time": "2023-07-01T06:39:27.734Z"
   },
   {
    "duration": 17,
    "start_time": "2023-07-01T06:39:27.820Z"
   },
   {
    "duration": 9,
    "start_time": "2023-07-01T06:39:27.840Z"
   },
   {
    "duration": 416,
    "start_time": "2023-07-01T06:39:27.851Z"
   },
   {
    "duration": 695,
    "start_time": "2023-07-01T06:39:28.274Z"
   },
   {
    "duration": 648,
    "start_time": "2023-07-01T06:39:28.971Z"
   },
   {
    "duration": 273,
    "start_time": "2023-07-01T06:39:29.621Z"
   },
   {
    "duration": 9,
    "start_time": "2023-07-01T06:39:29.896Z"
   },
   {
    "duration": 194,
    "start_time": "2023-07-01T06:39:29.908Z"
   },
   {
    "duration": 12,
    "start_time": "2023-07-01T06:39:34.693Z"
   },
   {
    "duration": 53,
    "start_time": "2023-07-01T06:39:36.251Z"
   },
   {
    "duration": 55,
    "start_time": "2023-07-01T06:39:40.078Z"
   },
   {
    "duration": 15,
    "start_time": "2023-07-01T06:39:54.422Z"
   },
   {
    "duration": 19,
    "start_time": "2023-07-01T06:40:25.909Z"
   },
   {
    "duration": 90,
    "start_time": "2023-07-01T06:42:38.070Z"
   },
   {
    "duration": 77,
    "start_time": "2023-07-01T06:42:48.202Z"
   },
   {
    "duration": 81,
    "start_time": "2023-07-01T06:43:22.778Z"
   },
   {
    "duration": 97,
    "start_time": "2023-07-01T06:43:31.060Z"
   },
   {
    "duration": 20,
    "start_time": "2023-07-01T06:44:49.900Z"
   },
   {
    "duration": 9,
    "start_time": "2023-07-01T06:44:59.284Z"
   },
   {
    "duration": 53,
    "start_time": "2023-07-01T06:45:01.673Z"
   },
   {
    "duration": 16,
    "start_time": "2023-07-01T06:46:28.852Z"
   },
   {
    "duration": 100,
    "start_time": "2023-07-01T06:46:28.879Z"
   },
   {
    "duration": 27,
    "start_time": "2023-07-01T06:46:28.982Z"
   },
   {
    "duration": 35,
    "start_time": "2023-07-01T06:46:29.011Z"
   },
   {
    "duration": 427,
    "start_time": "2023-07-01T06:46:29.049Z"
   },
   {
    "duration": 913,
    "start_time": "2023-07-01T06:46:29.483Z"
   },
   {
    "duration": 899,
    "start_time": "2023-07-01T06:46:30.402Z"
   },
   {
    "duration": 303,
    "start_time": "2023-07-01T06:46:31.303Z"
   },
   {
    "duration": 10,
    "start_time": "2023-07-01T06:46:31.608Z"
   },
   {
    "duration": 43,
    "start_time": "2023-07-01T06:46:31.621Z"
   },
   {
    "duration": 95,
    "start_time": "2023-07-01T06:46:31.666Z"
   },
   {
    "duration": 42,
    "start_time": "2023-07-01T06:46:31.763Z"
   },
   {
    "duration": 46,
    "start_time": "2023-07-01T06:46:31.808Z"
   },
   {
    "duration": 44,
    "start_time": "2023-07-01T06:46:31.864Z"
   },
   {
    "duration": 110,
    "start_time": "2023-07-01T06:46:31.910Z"
   },
   {
    "duration": 15,
    "start_time": "2023-07-01T06:46:32.023Z"
   },
   {
    "duration": 38,
    "start_time": "2023-07-01T06:46:51.777Z"
   },
   {
    "duration": 212,
    "start_time": "2023-07-01T06:47:34.153Z"
   },
   {
    "duration": 49,
    "start_time": "2023-07-01T06:48:37.743Z"
   },
   {
    "duration": 85,
    "start_time": "2023-07-01T06:49:14.479Z"
   },
   {
    "duration": 13,
    "start_time": "2023-07-01T06:49:24.285Z"
   },
   {
    "duration": 5,
    "start_time": "2023-07-01T06:50:29.480Z"
   },
   {
    "duration": 57,
    "start_time": "2023-07-01T06:50:29.488Z"
   },
   {
    "duration": 14,
    "start_time": "2023-07-01T06:50:29.546Z"
   },
   {
    "duration": 39,
    "start_time": "2023-07-01T06:50:29.563Z"
   },
   {
    "duration": 357,
    "start_time": "2023-07-01T06:50:29.604Z"
   },
   {
    "duration": 571,
    "start_time": "2023-07-01T06:50:29.963Z"
   },
   {
    "duration": 786,
    "start_time": "2023-07-01T06:50:30.536Z"
   },
   {
    "duration": 279,
    "start_time": "2023-07-01T06:50:31.325Z"
   },
   {
    "duration": 47,
    "start_time": "2023-07-01T06:50:31.606Z"
   },
   {
    "duration": 105,
    "start_time": "2023-07-01T06:50:31.655Z"
   },
   {
    "duration": 38,
    "start_time": "2023-07-01T06:50:31.762Z"
   },
   {
    "duration": 18,
    "start_time": "2023-07-01T06:50:31.804Z"
   },
   {
    "duration": 71,
    "start_time": "2023-07-01T06:50:31.825Z"
   },
   {
    "duration": 51,
    "start_time": "2023-07-01T06:50:31.906Z"
   },
   {
    "duration": 96,
    "start_time": "2023-07-01T06:50:31.959Z"
   },
   {
    "duration": 49,
    "start_time": "2023-07-01T06:50:32.057Z"
   },
   {
    "duration": 168,
    "start_time": "2023-07-01T06:50:32.109Z"
   },
   {
    "duration": 101,
    "start_time": "2023-07-01T06:50:32.353Z"
   },
   {
    "duration": 23,
    "start_time": "2023-07-01T06:50:35.453Z"
   },
   {
    "duration": 16,
    "start_time": "2023-07-01T06:50:52.386Z"
   },
   {
    "duration": 39,
    "start_time": "2023-07-01T06:51:19.069Z"
   },
   {
    "duration": 43,
    "start_time": "2023-07-01T06:52:08.544Z"
   },
   {
    "duration": 4,
    "start_time": "2023-07-01T06:53:13.616Z"
   },
   {
    "duration": 7,
    "start_time": "2023-07-01T06:53:26.194Z"
   },
   {
    "duration": 50,
    "start_time": "2023-07-01T06:53:28.919Z"
   },
   {
    "duration": 5,
    "start_time": "2023-07-01T06:55:44.891Z"
   },
   {
    "duration": 5,
    "start_time": "2023-07-01T06:55:50.079Z"
   },
   {
    "duration": 191,
    "start_time": "2023-07-01T06:55:50.088Z"
   },
   {
    "duration": 41,
    "start_time": "2023-07-01T06:55:50.283Z"
   },
   {
    "duration": 22,
    "start_time": "2023-07-01T06:55:50.327Z"
   },
   {
    "duration": 491,
    "start_time": "2023-07-01T06:55:50.353Z"
   },
   {
    "duration": 684,
    "start_time": "2023-07-01T06:55:50.846Z"
   },
   {
    "duration": 776,
    "start_time": "2023-07-01T06:55:51.532Z"
   },
   {
    "duration": 306,
    "start_time": "2023-07-01T06:55:52.311Z"
   },
   {
    "duration": 43,
    "start_time": "2023-07-01T06:55:52.619Z"
   },
   {
    "duration": 22,
    "start_time": "2023-07-01T06:55:52.667Z"
   },
   {
    "duration": 156,
    "start_time": "2023-07-01T06:55:52.701Z"
   },
   {
    "duration": 80,
    "start_time": "2023-07-01T06:55:52.860Z"
   },
   {
    "duration": 169,
    "start_time": "2023-07-01T06:55:52.943Z"
   },
   {
    "duration": 139,
    "start_time": "2023-07-01T06:55:53.117Z"
   },
   {
    "duration": 43,
    "start_time": "2023-07-01T06:55:53.262Z"
   },
   {
    "duration": 11,
    "start_time": "2023-07-01T06:55:53.307Z"
   },
   {
    "duration": 48,
    "start_time": "2023-07-01T06:55:56.369Z"
   },
   {
    "duration": 59,
    "start_time": "2023-07-01T06:56:00.296Z"
   },
   {
    "duration": 5,
    "start_time": "2023-07-01T06:56:06.431Z"
   },
   {
    "duration": 10,
    "start_time": "2023-07-01T06:56:09.792Z"
   },
   {
    "duration": 19,
    "start_time": "2023-07-01T06:56:41.582Z"
   }
  ],
  "kernelspec": {
   "display_name": "Python 3 (ipykernel)",
   "language": "python",
   "name": "python3"
  },
  "language_info": {
   "codemirror_mode": {
    "name": "ipython",
    "version": 3
   },
   "file_extension": ".py",
   "mimetype": "text/x-python",
   "name": "python",
   "nbconvert_exporter": "python",
   "pygments_lexer": "ipython3",
   "version": "3.9.5"
  },
  "toc": {
   "base_numbering": 1,
   "nav_menu": {},
   "number_sections": true,
   "sideBar": true,
   "skip_h1_title": true,
   "title_cell": "Table of Contents",
   "title_sidebar": "Contents",
   "toc_cell": false,
   "toc_position": {
    "height": "calc(100% - 180px)",
    "left": "10px",
    "top": "150px",
    "width": "165px"
   },
   "toc_section_display": true,
   "toc_window_display": true
  }
 },
 "nbformat": 4,
 "nbformat_minor": 2
}
