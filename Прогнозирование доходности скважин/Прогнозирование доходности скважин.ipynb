{
 "cells": [
  {
   "cell_type": "markdown",
   "metadata": {},
   "source": [
    "## Описание проекта\n",
    "Допустим, вы работаете в добывающей компании «ГлавРосГосНефть». Нужно решить, где бурить новую скважину.  \n",
    "Шаги для выбора локации обычно такие:  \n",
    "- В избранном регионе собирают характеристики для скважин: качество нефти и объём её запасов;\n",
    "- Строят модель для предсказания объёма запасов в новых скважинах;\n",
    "- Выбирают скважины с самыми высокими оценками значений;\n",
    "- Определяют регион с максимальной суммарной прибылью отобранных скважин.\n",
    "\n",
    "Вам предоставлены пробы нефти в трёх регионах. Характеристики для каждой скважины в регионе уже известны. Постройте модель для определения региона, где добыча принесёт наибольшую прибыль. Проанализируйте возможную прибыль и риски техникой Bootstrap."
   ]
  },
  {
   "cell_type": "markdown",
   "metadata": {},
   "source": [
    "### Условия задачи:  \n",
    "- Для обучения модели подходит только линейная регрессия (остальные — недостаточно предсказуемые).  \n",
    "- При разведке региона исследуют 500 точек, из которых с помощью машинного обучения выбирают 200 лучших для разработки.  \n",
    "- Бюджет на разработку скважин в регионе — 10 млрд рублей.  \n",
    "- При нынешних ценах один баррель сырья приносит 450 рублей дохода. Доход с каждой единицы продукта составляет 450 тыс. рублей, поскольку объём указан в тысячах баррелей.  \n",
    "- После оценки рисков нужно оставить лишь те регионы, в которых вероятность убытков меньше 2.5%. Среди них выбирают регион с наибольшей средней прибылью.  \n",
    "\n",
    "Данные синтетические: детали контрактов и характеристики месторождений не разглашаются."
   ]
  },
  {
   "cell_type": "markdown",
   "metadata": {},
   "source": [
    "## Описание данных\n",
    "Данные геологоразведки трёх регионов находятся в файлах: \n",
    "- **`geo_data_0.csv`**, \n",
    "- **`geo_data_1.csv`**, \n",
    "- **`geo_data_2.csv`**.  \n",
    "\n",
    "Столбцы:\n",
    "- `id` — уникальный идентификатор скважины;\n",
    "- `f0`, `f1`, `f2` — три признака точек (неважно, что они означают, но сами признаки значимы);  \n",
    "- `product` — объём запасов в скважине (тыс. баррелей).  "
   ]
  },
  {
   "cell_type": "markdown",
   "metadata": {},
   "source": [
    "#### Содержание:  \n",
    "1. Получение и предобработка данных\n",
    "2. Обучение модели\n",
    "3. Расчет прибыли и оценка рисков\n",
    "4. Выводы"
   ]
  },
  {
   "cell_type": "markdown",
   "metadata": {},
   "source": [
    "---\n",
    "## Выполнение проекта"
   ]
  },
  {
   "cell_type": "markdown",
   "metadata": {},
   "source": [
    "### 1. Получение и предобработка данных"
   ]
  },
  {
   "cell_type": "markdown",
   "metadata": {},
   "source": [
    "Импортируем необходимые библиотеки и модули для работы."
   ]
  },
  {
   "cell_type": "code",
   "execution_count": 1,
   "metadata": {},
   "outputs": [],
   "source": [
    "import pandas as pd\n",
    "import numpy as np\n",
    "import seaborn as sns\n",
    "from matplotlib import pyplot as plt\n",
    "from sklearn.model_selection import train_test_split\n",
    "from sklearn.preprocessing import StandardScaler\n",
    "from sklearn.linear_model import LinearRegression\n",
    "from sklearn.metrics import mean_squared_error\n",
    "from sklearn.metrics import mean_absolute_error"
   ]
  },
  {
   "cell_type": "markdown",
   "metadata": {},
   "source": [
    "Получим данные, и ознакомимся с ними. проверим типы данных, наличие пропусков и дубликатов."
   ]
  },
  {
   "cell_type": "code",
   "execution_count": 2,
   "metadata": {},
   "outputs": [],
   "source": [
    "def get_data(path):\n",
    "    df = pd.read_csv(path)\n",
    "    display(df)\n",
    "    print()\n",
    "    print(df.info())\n",
    "    print()\n",
    "    print('Дубликатов в данных =', df.duplicated().sum())\n",
    "    return df"
   ]
  },
  {
   "cell_type": "code",
   "execution_count": 3,
   "metadata": {},
   "outputs": [
    {
     "data": {
      "text/html": [
       "<div>\n",
       "<style scoped>\n",
       "    .dataframe tbody tr th:only-of-type {\n",
       "        vertical-align: middle;\n",
       "    }\n",
       "\n",
       "    .dataframe tbody tr th {\n",
       "        vertical-align: top;\n",
       "    }\n",
       "\n",
       "    .dataframe thead th {\n",
       "        text-align: right;\n",
       "    }\n",
       "</style>\n",
       "<table border=\"1\" class=\"dataframe\">\n",
       "  <thead>\n",
       "    <tr style=\"text-align: right;\">\n",
       "      <th></th>\n",
       "      <th>id</th>\n",
       "      <th>f0</th>\n",
       "      <th>f1</th>\n",
       "      <th>f2</th>\n",
       "      <th>product</th>\n",
       "    </tr>\n",
       "  </thead>\n",
       "  <tbody>\n",
       "    <tr>\n",
       "      <th>0</th>\n",
       "      <td>txEyH</td>\n",
       "      <td>0.705745</td>\n",
       "      <td>-0.497823</td>\n",
       "      <td>1.221170</td>\n",
       "      <td>105.280062</td>\n",
       "    </tr>\n",
       "    <tr>\n",
       "      <th>1</th>\n",
       "      <td>2acmU</td>\n",
       "      <td>1.334711</td>\n",
       "      <td>-0.340164</td>\n",
       "      <td>4.365080</td>\n",
       "      <td>73.037750</td>\n",
       "    </tr>\n",
       "    <tr>\n",
       "      <th>2</th>\n",
       "      <td>409Wp</td>\n",
       "      <td>1.022732</td>\n",
       "      <td>0.151990</td>\n",
       "      <td>1.419926</td>\n",
       "      <td>85.265647</td>\n",
       "    </tr>\n",
       "    <tr>\n",
       "      <th>3</th>\n",
       "      <td>iJLyR</td>\n",
       "      <td>-0.032172</td>\n",
       "      <td>0.139033</td>\n",
       "      <td>2.978566</td>\n",
       "      <td>168.620776</td>\n",
       "    </tr>\n",
       "    <tr>\n",
       "      <th>4</th>\n",
       "      <td>Xdl7t</td>\n",
       "      <td>1.988431</td>\n",
       "      <td>0.155413</td>\n",
       "      <td>4.751769</td>\n",
       "      <td>154.036647</td>\n",
       "    </tr>\n",
       "    <tr>\n",
       "      <th>...</th>\n",
       "      <td>...</td>\n",
       "      <td>...</td>\n",
       "      <td>...</td>\n",
       "      <td>...</td>\n",
       "      <td>...</td>\n",
       "    </tr>\n",
       "    <tr>\n",
       "      <th>99995</th>\n",
       "      <td>DLsed</td>\n",
       "      <td>0.971957</td>\n",
       "      <td>0.370953</td>\n",
       "      <td>6.075346</td>\n",
       "      <td>110.744026</td>\n",
       "    </tr>\n",
       "    <tr>\n",
       "      <th>99996</th>\n",
       "      <td>QKivN</td>\n",
       "      <td>1.392429</td>\n",
       "      <td>-0.382606</td>\n",
       "      <td>1.273912</td>\n",
       "      <td>122.346843</td>\n",
       "    </tr>\n",
       "    <tr>\n",
       "      <th>99997</th>\n",
       "      <td>3rnvd</td>\n",
       "      <td>1.029585</td>\n",
       "      <td>0.018787</td>\n",
       "      <td>-1.348308</td>\n",
       "      <td>64.375443</td>\n",
       "    </tr>\n",
       "    <tr>\n",
       "      <th>99998</th>\n",
       "      <td>7kl59</td>\n",
       "      <td>0.998163</td>\n",
       "      <td>-0.528582</td>\n",
       "      <td>1.583869</td>\n",
       "      <td>74.040764</td>\n",
       "    </tr>\n",
       "    <tr>\n",
       "      <th>99999</th>\n",
       "      <td>1CWhH</td>\n",
       "      <td>1.764754</td>\n",
       "      <td>-0.266417</td>\n",
       "      <td>5.722849</td>\n",
       "      <td>149.633246</td>\n",
       "    </tr>\n",
       "  </tbody>\n",
       "</table>\n",
       "<p>100000 rows × 5 columns</p>\n",
       "</div>"
      ],
      "text/plain": [
       "          id        f0        f1        f2     product\n",
       "0      txEyH  0.705745 -0.497823  1.221170  105.280062\n",
       "1      2acmU  1.334711 -0.340164  4.365080   73.037750\n",
       "2      409Wp  1.022732  0.151990  1.419926   85.265647\n",
       "3      iJLyR -0.032172  0.139033  2.978566  168.620776\n",
       "4      Xdl7t  1.988431  0.155413  4.751769  154.036647\n",
       "...      ...       ...       ...       ...         ...\n",
       "99995  DLsed  0.971957  0.370953  6.075346  110.744026\n",
       "99996  QKivN  1.392429 -0.382606  1.273912  122.346843\n",
       "99997  3rnvd  1.029585  0.018787 -1.348308   64.375443\n",
       "99998  7kl59  0.998163 -0.528582  1.583869   74.040764\n",
       "99999  1CWhH  1.764754 -0.266417  5.722849  149.633246\n",
       "\n",
       "[100000 rows x 5 columns]"
      ]
     },
     "metadata": {},
     "output_type": "display_data"
    },
    {
     "name": "stdout",
     "output_type": "stream",
     "text": [
      "\n",
      "<class 'pandas.core.frame.DataFrame'>\n",
      "RangeIndex: 100000 entries, 0 to 99999\n",
      "Data columns (total 5 columns):\n",
      " #   Column   Non-Null Count   Dtype  \n",
      "---  ------   --------------   -----  \n",
      " 0   id       100000 non-null  object \n",
      " 1   f0       100000 non-null  float64\n",
      " 2   f1       100000 non-null  float64\n",
      " 3   f2       100000 non-null  float64\n",
      " 4   product  100000 non-null  float64\n",
      "dtypes: float64(4), object(1)\n",
      "memory usage: 3.8+ MB\n",
      "None\n",
      "\n",
      "Дубликатов в данных = 0\n"
     ]
    }
   ],
   "source": [
    "geo_data_0 = get_data('/datasets/geo_data_0.csv')"
   ]
  },
  {
   "cell_type": "code",
   "execution_count": 4,
   "metadata": {},
   "outputs": [
    {
     "data": {
      "text/html": [
       "<div>\n",
       "<style scoped>\n",
       "    .dataframe tbody tr th:only-of-type {\n",
       "        vertical-align: middle;\n",
       "    }\n",
       "\n",
       "    .dataframe tbody tr th {\n",
       "        vertical-align: top;\n",
       "    }\n",
       "\n",
       "    .dataframe thead th {\n",
       "        text-align: right;\n",
       "    }\n",
       "</style>\n",
       "<table border=\"1\" class=\"dataframe\">\n",
       "  <thead>\n",
       "    <tr style=\"text-align: right;\">\n",
       "      <th></th>\n",
       "      <th>id</th>\n",
       "      <th>f0</th>\n",
       "      <th>f1</th>\n",
       "      <th>f2</th>\n",
       "      <th>product</th>\n",
       "    </tr>\n",
       "  </thead>\n",
       "  <tbody>\n",
       "    <tr>\n",
       "      <th>0</th>\n",
       "      <td>kBEdx</td>\n",
       "      <td>-15.001348</td>\n",
       "      <td>-8.276000</td>\n",
       "      <td>-0.005876</td>\n",
       "      <td>3.179103</td>\n",
       "    </tr>\n",
       "    <tr>\n",
       "      <th>1</th>\n",
       "      <td>62mP7</td>\n",
       "      <td>14.272088</td>\n",
       "      <td>-3.475083</td>\n",
       "      <td>0.999183</td>\n",
       "      <td>26.953261</td>\n",
       "    </tr>\n",
       "    <tr>\n",
       "      <th>2</th>\n",
       "      <td>vyE1P</td>\n",
       "      <td>6.263187</td>\n",
       "      <td>-5.948386</td>\n",
       "      <td>5.001160</td>\n",
       "      <td>134.766305</td>\n",
       "    </tr>\n",
       "    <tr>\n",
       "      <th>3</th>\n",
       "      <td>KcrkZ</td>\n",
       "      <td>-13.081196</td>\n",
       "      <td>-11.506057</td>\n",
       "      <td>4.999415</td>\n",
       "      <td>137.945408</td>\n",
       "    </tr>\n",
       "    <tr>\n",
       "      <th>4</th>\n",
       "      <td>AHL4O</td>\n",
       "      <td>12.702195</td>\n",
       "      <td>-8.147433</td>\n",
       "      <td>5.004363</td>\n",
       "      <td>134.766305</td>\n",
       "    </tr>\n",
       "    <tr>\n",
       "      <th>...</th>\n",
       "      <td>...</td>\n",
       "      <td>...</td>\n",
       "      <td>...</td>\n",
       "      <td>...</td>\n",
       "      <td>...</td>\n",
       "    </tr>\n",
       "    <tr>\n",
       "      <th>99995</th>\n",
       "      <td>QywKC</td>\n",
       "      <td>9.535637</td>\n",
       "      <td>-6.878139</td>\n",
       "      <td>1.998296</td>\n",
       "      <td>53.906522</td>\n",
       "    </tr>\n",
       "    <tr>\n",
       "      <th>99996</th>\n",
       "      <td>ptvty</td>\n",
       "      <td>-10.160631</td>\n",
       "      <td>-12.558096</td>\n",
       "      <td>5.005581</td>\n",
       "      <td>137.945408</td>\n",
       "    </tr>\n",
       "    <tr>\n",
       "      <th>99997</th>\n",
       "      <td>09gWa</td>\n",
       "      <td>-7.378891</td>\n",
       "      <td>-3.084104</td>\n",
       "      <td>4.998651</td>\n",
       "      <td>137.945408</td>\n",
       "    </tr>\n",
       "    <tr>\n",
       "      <th>99998</th>\n",
       "      <td>rqwUm</td>\n",
       "      <td>0.665714</td>\n",
       "      <td>-6.152593</td>\n",
       "      <td>1.000146</td>\n",
       "      <td>30.132364</td>\n",
       "    </tr>\n",
       "    <tr>\n",
       "      <th>99999</th>\n",
       "      <td>relB0</td>\n",
       "      <td>-3.426139</td>\n",
       "      <td>-7.794274</td>\n",
       "      <td>-0.003299</td>\n",
       "      <td>3.179103</td>\n",
       "    </tr>\n",
       "  </tbody>\n",
       "</table>\n",
       "<p>100000 rows × 5 columns</p>\n",
       "</div>"
      ],
      "text/plain": [
       "          id         f0         f1        f2     product\n",
       "0      kBEdx -15.001348  -8.276000 -0.005876    3.179103\n",
       "1      62mP7  14.272088  -3.475083  0.999183   26.953261\n",
       "2      vyE1P   6.263187  -5.948386  5.001160  134.766305\n",
       "3      KcrkZ -13.081196 -11.506057  4.999415  137.945408\n",
       "4      AHL4O  12.702195  -8.147433  5.004363  134.766305\n",
       "...      ...        ...        ...       ...         ...\n",
       "99995  QywKC   9.535637  -6.878139  1.998296   53.906522\n",
       "99996  ptvty -10.160631 -12.558096  5.005581  137.945408\n",
       "99997  09gWa  -7.378891  -3.084104  4.998651  137.945408\n",
       "99998  rqwUm   0.665714  -6.152593  1.000146   30.132364\n",
       "99999  relB0  -3.426139  -7.794274 -0.003299    3.179103\n",
       "\n",
       "[100000 rows x 5 columns]"
      ]
     },
     "metadata": {},
     "output_type": "display_data"
    },
    {
     "name": "stdout",
     "output_type": "stream",
     "text": [
      "\n",
      "<class 'pandas.core.frame.DataFrame'>\n",
      "RangeIndex: 100000 entries, 0 to 99999\n",
      "Data columns (total 5 columns):\n",
      " #   Column   Non-Null Count   Dtype  \n",
      "---  ------   --------------   -----  \n",
      " 0   id       100000 non-null  object \n",
      " 1   f0       100000 non-null  float64\n",
      " 2   f1       100000 non-null  float64\n",
      " 3   f2       100000 non-null  float64\n",
      " 4   product  100000 non-null  float64\n",
      "dtypes: float64(4), object(1)\n",
      "memory usage: 3.8+ MB\n",
      "None\n",
      "\n",
      "Дубликатов в данных = 0\n"
     ]
    }
   ],
   "source": [
    "geo_data_1 = get_data('/datasets/geo_data_1.csv')"
   ]
  },
  {
   "cell_type": "code",
   "execution_count": 5,
   "metadata": {},
   "outputs": [
    {
     "data": {
      "text/html": [
       "<div>\n",
       "<style scoped>\n",
       "    .dataframe tbody tr th:only-of-type {\n",
       "        vertical-align: middle;\n",
       "    }\n",
       "\n",
       "    .dataframe tbody tr th {\n",
       "        vertical-align: top;\n",
       "    }\n",
       "\n",
       "    .dataframe thead th {\n",
       "        text-align: right;\n",
       "    }\n",
       "</style>\n",
       "<table border=\"1\" class=\"dataframe\">\n",
       "  <thead>\n",
       "    <tr style=\"text-align: right;\">\n",
       "      <th></th>\n",
       "      <th>id</th>\n",
       "      <th>f0</th>\n",
       "      <th>f1</th>\n",
       "      <th>f2</th>\n",
       "      <th>product</th>\n",
       "    </tr>\n",
       "  </thead>\n",
       "  <tbody>\n",
       "    <tr>\n",
       "      <th>0</th>\n",
       "      <td>fwXo0</td>\n",
       "      <td>-1.146987</td>\n",
       "      <td>0.963328</td>\n",
       "      <td>-0.828965</td>\n",
       "      <td>27.758673</td>\n",
       "    </tr>\n",
       "    <tr>\n",
       "      <th>1</th>\n",
       "      <td>WJtFt</td>\n",
       "      <td>0.262778</td>\n",
       "      <td>0.269839</td>\n",
       "      <td>-2.530187</td>\n",
       "      <td>56.069697</td>\n",
       "    </tr>\n",
       "    <tr>\n",
       "      <th>2</th>\n",
       "      <td>ovLUW</td>\n",
       "      <td>0.194587</td>\n",
       "      <td>0.289035</td>\n",
       "      <td>-5.586433</td>\n",
       "      <td>62.871910</td>\n",
       "    </tr>\n",
       "    <tr>\n",
       "      <th>3</th>\n",
       "      <td>q6cA6</td>\n",
       "      <td>2.236060</td>\n",
       "      <td>-0.553760</td>\n",
       "      <td>0.930038</td>\n",
       "      <td>114.572842</td>\n",
       "    </tr>\n",
       "    <tr>\n",
       "      <th>4</th>\n",
       "      <td>WPMUX</td>\n",
       "      <td>-0.515993</td>\n",
       "      <td>1.716266</td>\n",
       "      <td>5.899011</td>\n",
       "      <td>149.600746</td>\n",
       "    </tr>\n",
       "    <tr>\n",
       "      <th>...</th>\n",
       "      <td>...</td>\n",
       "      <td>...</td>\n",
       "      <td>...</td>\n",
       "      <td>...</td>\n",
       "      <td>...</td>\n",
       "    </tr>\n",
       "    <tr>\n",
       "      <th>99995</th>\n",
       "      <td>4GxBu</td>\n",
       "      <td>-1.777037</td>\n",
       "      <td>1.125220</td>\n",
       "      <td>6.263374</td>\n",
       "      <td>172.327046</td>\n",
       "    </tr>\n",
       "    <tr>\n",
       "      <th>99996</th>\n",
       "      <td>YKFjq</td>\n",
       "      <td>-1.261523</td>\n",
       "      <td>-0.894828</td>\n",
       "      <td>2.524545</td>\n",
       "      <td>138.748846</td>\n",
       "    </tr>\n",
       "    <tr>\n",
       "      <th>99997</th>\n",
       "      <td>tKPY3</td>\n",
       "      <td>-1.199934</td>\n",
       "      <td>-2.957637</td>\n",
       "      <td>5.219411</td>\n",
       "      <td>157.080080</td>\n",
       "    </tr>\n",
       "    <tr>\n",
       "      <th>99998</th>\n",
       "      <td>nmxp2</td>\n",
       "      <td>-2.419896</td>\n",
       "      <td>2.417221</td>\n",
       "      <td>-5.548444</td>\n",
       "      <td>51.795253</td>\n",
       "    </tr>\n",
       "    <tr>\n",
       "      <th>99999</th>\n",
       "      <td>V9kWn</td>\n",
       "      <td>-2.551421</td>\n",
       "      <td>-2.025625</td>\n",
       "      <td>6.090891</td>\n",
       "      <td>102.775767</td>\n",
       "    </tr>\n",
       "  </tbody>\n",
       "</table>\n",
       "<p>100000 rows × 5 columns</p>\n",
       "</div>"
      ],
      "text/plain": [
       "          id        f0        f1        f2     product\n",
       "0      fwXo0 -1.146987  0.963328 -0.828965   27.758673\n",
       "1      WJtFt  0.262778  0.269839 -2.530187   56.069697\n",
       "2      ovLUW  0.194587  0.289035 -5.586433   62.871910\n",
       "3      q6cA6  2.236060 -0.553760  0.930038  114.572842\n",
       "4      WPMUX -0.515993  1.716266  5.899011  149.600746\n",
       "...      ...       ...       ...       ...         ...\n",
       "99995  4GxBu -1.777037  1.125220  6.263374  172.327046\n",
       "99996  YKFjq -1.261523 -0.894828  2.524545  138.748846\n",
       "99997  tKPY3 -1.199934 -2.957637  5.219411  157.080080\n",
       "99998  nmxp2 -2.419896  2.417221 -5.548444   51.795253\n",
       "99999  V9kWn -2.551421 -2.025625  6.090891  102.775767\n",
       "\n",
       "[100000 rows x 5 columns]"
      ]
     },
     "metadata": {},
     "output_type": "display_data"
    },
    {
     "name": "stdout",
     "output_type": "stream",
     "text": [
      "\n",
      "<class 'pandas.core.frame.DataFrame'>\n",
      "RangeIndex: 100000 entries, 0 to 99999\n",
      "Data columns (total 5 columns):\n",
      " #   Column   Non-Null Count   Dtype  \n",
      "---  ------   --------------   -----  \n",
      " 0   id       100000 non-null  object \n",
      " 1   f0       100000 non-null  float64\n",
      " 2   f1       100000 non-null  float64\n",
      " 3   f2       100000 non-null  float64\n",
      " 4   product  100000 non-null  float64\n",
      "dtypes: float64(4), object(1)\n",
      "memory usage: 3.8+ MB\n",
      "None\n",
      "\n",
      "Дубликатов в данных = 0\n"
     ]
    }
   ],
   "source": [
    "geo_data_2 = get_data('/datasets/geo_data_2.csv')"
   ]
  },
  {
   "cell_type": "markdown",
   "metadata": {},
   "source": [
    "Пропусков и дубликатов нет, типы данных корректны"
   ]
  },
  {
   "cell_type": "markdown",
   "metadata": {},
   "source": [
    "Проверим корреляцию признаков"
   ]
  },
  {
   "cell_type": "code",
   "execution_count": 6,
   "metadata": {},
   "outputs": [
    {
     "data": {
      "image/png": "[encoded data removed]",
      "text/plain": [
       "<Figure size 288x216 with 2 Axes>"
      ]
     },
     "metadata": {
      "needs_background": "light"
     },
     "output_type": "display_data"
    },
    {
     "data": {
      "image/png": "[encoded data removed]",
      "text/plain": [
       "<Figure size 288x216 with 2 Axes>"
      ]
     },
     "metadata": {
      "needs_background": "light"
     },
     "output_type": "display_data"
    },
    {
     "data": {
      "image/png": "[encoded data removed]",
      "text/plain": [
       "<Figure size 288x216 with 2 Axes>"
      ]
     },
     "metadata": {
      "needs_background": "light"
     },
     "output_type": "display_data"
    }
   ],
   "source": [
    "for df in [geo_data_0, geo_data_1, geo_data_2]:\n",
    "    plt.figure(figsize=(4, 3))\n",
    "    sns.heatmap(df.drop(columns=['id', 'product']).corr(), \n",
    "                        annot=True, vmax=1, vmin=-1, \n",
    "                        linewidths=0.1, linecolor='black')\n",
    "    plt.show()"
   ]
  },
  {
   "cell_type": "markdown",
   "metadata": {},
   "source": [
    "Выраженной корреляции нет ни в одном из регионов"
   ]
  },
  {
   "cell_type": "markdown",
   "metadata": {},
   "source": [
    "### 2. Обучение модели"
   ]
  },
  {
   "cell_type": "markdown",
   "metadata": {},
   "source": [
    "Напишем функцию для обучения модели линейной регрессии, и расчета основных метрик и значений"
   ]
  },
  {
   "cell_type": "code",
   "execution_count": 7,
   "metadata": {},
   "outputs": [],
   "source": [
    "def model_work(df):\n",
    "    \n",
    "    features = df.drop(columns=['id', 'product'])\n",
    "    target = df['product']\n",
    "    scaler = StandardScaler()\n",
    "    feature_train, feature_valid, target_train, target_valid = train_test_split(\n",
    "        features, target, test_size=0.25, random_state=123)\n",
    "    feature_train = scaler.fit_transform(feature_train)\n",
    "    feature_valid = scaler.transform(feature_valid)\n",
    "    print('Размер тренировочной выборки:', feature_train.shape)\n",
    "    print('Размер валидационной выборки:', feature_valid.shape)\n",
    "    model = LinearRegression()\n",
    "    model.fit(feature_train, target_train)\n",
    "    predict = pd.Series(model.predict(feature_valid), index=target_valid.index)\n",
    "    predict.name = 'predict'\n",
    "    target_valid.name = 'target'\n",
    "    print('Среднее прогнозное значение: {:.2f}'.format(predict.mean()))\n",
    "    print('RMSE: {:.2f}'.format(mean_squared_error(y_true=target_valid, y_pred=predict) ** 0.5))\n",
    "    new_df = predict.reset_index().merge(target_valid.reset_index(), on='index').set_index('index')\n",
    "    new_df.index.name = None\n",
    "    \n",
    "    return new_df"
   ]
  },
  {
   "cell_type": "markdown",
   "metadata": {},
   "source": [
    "Применим функцию к данным по каждому региону и сохраним значения"
   ]
  },
  {
   "cell_type": "code",
   "execution_count": 8,
   "metadata": {},
   "outputs": [
    {
     "name": "stdout",
     "output_type": "stream",
     "text": [
      "Размер тренировочной выборки: (75000, 3)\n",
      "Размер валидационной выборки: (25000, 3)\n",
      "Среднее прогнозное значение: 92.55\n",
      "RMSE: 37.65\n"
     ]
    }
   ],
   "source": [
    "data_geo_0 = model_work(geo_data_0)"
   ]
  },
  {
   "cell_type": "code",
   "execution_count": 9,
   "metadata": {},
   "outputs": [
    {
     "name": "stdout",
     "output_type": "stream",
     "text": [
      "Размер тренировочной выборки: (75000, 3)\n",
      "Размер валидационной выборки: (25000, 3)\n",
      "Среднее прогнозное значение: 69.28\n",
      "RMSE: 0.90\n"
     ]
    }
   ],
   "source": [
    "data_geo_1 = model_work(geo_data_1)"
   ]
  },
  {
   "cell_type": "code",
   "execution_count": 10,
   "metadata": {},
   "outputs": [
    {
     "name": "stdout",
     "output_type": "stream",
     "text": [
      "Размер тренировочной выборки: (75000, 3)\n",
      "Размер валидационной выборки: (25000, 3)\n",
      "Среднее прогнозное значение: 95.10\n",
      "RMSE: 40.13\n"
     ]
    }
   ],
   "source": [
    "data_geo_2 = model_work(geo_data_2)"
   ]
  },
  {
   "cell_type": "markdown",
   "metadata": {},
   "source": [
    "Наиболее точно модель отработала на данных о втором регионе, но при этом средний прогноз значений в нем существенно ниже, в первом и третьем регионах средняя ошибка слишком велика"
   ]
  },
  {
   "cell_type": "markdown",
   "metadata": {},
   "source": [
    "Сохраним в переменные установленные показатели для расчета - бюджет на разработку региона, количество скважин, которое будет разрабатываться, прибыль от продажи 1 тыс баррелей нефти"
   ]
  },
  {
   "cell_type": "code",
   "execution_count": 11,
   "metadata": {},
   "outputs": [],
   "source": [
    "budget_on_reg = 10000000000\n",
    "sks = 200\n",
    "price_1_sk = budget_on_reg / sks\n",
    "one_thousand_barrel_income = 450000"
   ]
  },
  {
   "cell_type": "code",
   "execution_count": 12,
   "metadata": {},
   "outputs": [
    {
     "name": "stdout",
     "output_type": "stream",
     "text": [
      "Объем скважины, необходимый для безубыточности = 111.11\n"
     ]
    }
   ],
   "source": [
    "print('Объем скважины, необходимый для безубыточности = {:.2f}'.format(price_1_sk / one_thousand_barrel_income))"
   ]
  },
  {
   "cell_type": "markdown",
   "metadata": {},
   "source": [
    "Получается, что первый и третий регион потенциально обладают скважинами более близкими к безубыточной добыче, хотя ошибка такого прогноза тоже весьма существенна"
   ]
  },
  {
   "cell_type": "markdown",
   "metadata": {},
   "source": [
    "### 3. Расчет прибыли и оценка рисков"
   ]
  },
  {
   "cell_type": "markdown",
   "metadata": {},
   "source": [
    "Напишем функцию для расчета прибыли в случае разработки двухсот месторождений с самыми большими прогнозируемыми запасами"
   ]
  },
  {
   "cell_type": "code",
   "execution_count": 13,
   "metadata": {},
   "outputs": [],
   "source": [
    "def profit_calc(df):\n",
    "    top_pred = df.sort_values('predict', ascending=False).head(sks)\n",
    "    total_oil = top_pred['target'].sum() \n",
    "    income = round(total_oil * one_thousand_barrel_income)\n",
    "    profit = income - budget_on_reg\n",
    "    return profit"
   ]
  },
  {
   "cell_type": "markdown",
   "metadata": {},
   "source": [
    "Так же напишем функцию для проведения бутстрепа. Создаём 1000 подвыборок из 500 рандомных скважин каждая, с помощью предыдущей функции считаем прибыль от разработки 200 самых многообещающих скважин в ней, после чего определим границы 95% доверительного интервала этих значений, а так же оценим вероятность получить убыток"
   ]
  },
  {
   "cell_type": "code",
   "execution_count": 23,
   "metadata": {},
   "outputs": [],
   "source": [
    "def stat_calc(df):\n",
    "\n",
    "    state = np.random.RandomState(123)\n",
    "    values = []\n",
    "\n",
    "    for i in range(1000):\n",
    "\n",
    "        subsample = df.sample(n=500, replace=True, random_state=state)\n",
    "        profit = profit_calc(subsample)\n",
    "        values.append(profit)\n",
    "\n",
    "    values = pd.Series(values)\n",
    "\n",
    "    mean_profit = round(values.mean())\n",
    "    lower = round(values.quantile(q=0.025))\n",
    "    upper = round(values.quantile(q=0.975))\n",
    "\n",
    "    loss_risk = sum(values < 0) / values.shape[0]\n",
    "\n",
    "    return [mean_profit, lower, upper, loss_risk]"
   ]
  },
  {
   "cell_type": "code",
   "execution_count": 15,
   "metadata": {},
   "outputs": [],
   "source": [
    "def print_result(df):\n",
    "    stats_geo = stat_calc(df)\n",
    "    print('Средняя прибыль = {0:,}'.format(stats_geo[0]))\n",
    "    print('Доверительный интервал 95%  {0:,} - {1:,}'.format(stats_geo[1], stats_geo[2]))\n",
    "    print('Риск убытков = {:.1%}'.format(stats_geo[3]))"
   ]
  },
  {
   "cell_type": "markdown",
   "metadata": {},
   "source": [
    "Теперь применим функции на данных каждого региона"
   ]
  },
  {
   "cell_type": "code",
   "execution_count": 24,
   "metadata": {},
   "outputs": [
    {
     "name": "stdout",
     "output_type": "stream",
     "text": [
      "Средняя прибыль = 477,416,824\n",
      "Доверительный интервал 95%  -57,993,912 - 974,822,015\n",
      "Риск убытков = 4.1%\n"
     ]
    }
   ],
   "source": [
    "print_result(data_geo_0)"
   ]
  },
  {
   "cell_type": "code",
   "execution_count": 25,
   "metadata": {},
   "outputs": [
    {
     "name": "stdout",
     "output_type": "stream",
     "text": [
      "Средняя прибыль = 479,190,161\n",
      "Доверительный интервал 95%  58,726,877 - 874,424,820\n",
      "Риск убытков = 0.9%\n"
     ]
    }
   ],
   "source": [
    "print_result(data_geo_1)"
   ]
  },
  {
   "cell_type": "code",
   "execution_count": 26,
   "metadata": {},
   "outputs": [
    {
     "name": "stdout",
     "output_type": "stream",
     "text": [
      "Средняя прибыль = 343,454,377\n",
      "Доверительный интервал 95%  -231,376,255 - 860,840,670\n",
      "Риск убытков = 9.9%\n"
     ]
    }
   ],
   "source": [
    "print_result(data_geo_2)"
   ]
  },
  {
   "cell_type": "markdown",
   "metadata": {},
   "source": [
    "### 4. Вывод"
   ]
  },
  {
   "cell_type": "markdown",
   "metadata": {},
   "source": [
    "Получилось, что наиболее выгодной является добыча во втором регионе, т.к. только там риск убытков менее 2.5%, и 95% доверительный интервал находится в границах положительных чисел (прибыли)."
   ]
  }
 ],
 "metadata": {
  "ExecuteTimeLog": [
   {
    "duration": 9493,
    "start_time": "2023-05-18T17:56:50.369Z"
   },
   {
    "duration": 299,
    "start_time": "2023-05-18T17:56:59.865Z"
   },
   {
    "duration": 97,
    "start_time": "2023-05-18T17:57:00.167Z"
   },
   {
    "duration": 88,
    "start_time": "2023-05-18T17:57:00.275Z"
   },
   {
    "duration": 63,
    "start_time": "2023-05-18T17:57:00.400Z"
   },
   {
    "duration": 17,
    "start_time": "2023-05-18T17:57:00.476Z"
   },
   {
    "duration": 98,
    "start_time": "2023-05-18T17:57:00.563Z"
   },
   {
    "duration": 105,
    "start_time": "2023-05-18T17:57:00.684Z"
   },
   {
    "duration": 310,
    "start_time": "2023-05-18T17:57:00.856Z"
   },
   {
    "duration": 3190,
    "start_time": "2023-05-18T17:57:01.177Z"
   },
   {
    "duration": 105,
    "start_time": "2023-05-18T17:57:04.457Z"
   },
   {
    "duration": 201,
    "start_time": "2023-05-18T17:57:04.568Z"
   },
   {
    "duration": 1407,
    "start_time": "2023-05-18T17:57:04.779Z"
   },
   {
    "duration": 2934,
    "start_time": "2023-05-18T17:57:06.259Z"
   },
   {
    "duration": 491398,
    "start_time": "2023-05-18T17:57:09.259Z"
   },
   {
    "duration": 21,
    "start_time": "2023-05-18T18:05:20.662Z"
   },
   {
    "duration": 102,
    "start_time": "2023-05-18T18:05:20.686Z"
   },
   {
    "duration": 1109,
    "start_time": "2023-05-18T18:05:20.857Z"
   },
   {
    "duration": 3209,
    "start_time": "2023-05-18T18:05:21.975Z"
   },
   {
    "duration": 586988,
    "start_time": "2023-05-18T18:05:25.188Z"
   },
   {
    "duration": 314,
    "start_time": "2023-05-18T18:15:12.191Z"
   },
   {
    "duration": 2223,
    "start_time": "2023-06-04T20:27:47.523Z"
   },
   {
    "duration": 3,
    "start_time": "2023-06-04T20:27:49.748Z"
   },
   {
    "duration": 791,
    "start_time": "2023-06-04T20:27:49.752Z"
   },
   {
    "duration": 294,
    "start_time": "2023-06-04T20:27:50.545Z"
   },
   {
    "duration": 226,
    "start_time": "2023-06-04T20:27:50.841Z"
   },
   {
    "duration": 862,
    "start_time": "2023-06-04T20:27:51.068Z"
   },
   {
    "duration": 5,
    "start_time": "2023-06-04T20:27:51.932Z"
   },
   {
    "duration": 70,
    "start_time": "2023-06-04T20:27:51.938Z"
   },
   {
    "duration": 125,
    "start_time": "2023-06-04T20:27:52.015Z"
   },
   {
    "duration": 148,
    "start_time": "2023-06-04T20:27:52.192Z"
   },
   {
    "duration": 60,
    "start_time": "2023-06-04T20:27:52.343Z"
   },
   {
    "duration": 121,
    "start_time": "2023-06-04T20:27:52.411Z"
   },
   {
    "duration": 9,
    "start_time": "2023-06-04T20:27:52.533Z"
   },
   {
    "duration": 8,
    "start_time": "2023-06-04T20:27:52.544Z"
   },
   {
    "duration": 6,
    "start_time": "2023-06-04T20:27:52.553Z"
   },
   {
    "duration": 559,
    "start_time": "2023-06-04T20:27:52.561Z"
   },
   {
    "duration": 536,
    "start_time": "2023-06-04T20:27:53.130Z"
   },
   {
    "duration": 514,
    "start_time": "2023-06-04T20:27:53.667Z"
   },
   {
    "duration": 9,
    "start_time": "2023-06-04T20:31:59.382Z"
   },
   {
    "duration": 955,
    "start_time": "2023-06-04T20:32:02.419Z"
   },
   {
    "duration": 31,
    "start_time": "2023-06-04T20:32:06.883Z"
   },
   {
    "duration": 3,
    "start_time": "2023-06-04T20:32:58.507Z"
   },
   {
    "duration": 6,
    "start_time": "2023-06-04T20:32:59.328Z"
   },
   {
    "duration": 991,
    "start_time": "2023-06-04T20:33:00.911Z"
   },
   {
    "duration": 4,
    "start_time": "2023-06-04T20:33:13.674Z"
   },
   {
    "duration": 3,
    "start_time": "2023-06-04T20:33:14.244Z"
   },
   {
    "duration": 500,
    "start_time": "2023-06-04T20:33:17.644Z"
   },
   {
    "duration": 6,
    "start_time": "2023-06-04T20:34:39.329Z"
   },
   {
    "duration": 2849,
    "start_time": "2023-06-04T20:34:41.459Z"
   },
   {
    "duration": 4,
    "start_time": "2023-06-04T20:35:22.566Z"
   },
   {
    "duration": 4,
    "start_time": "2023-06-04T20:35:23.274Z"
   },
   {
    "duration": 1148,
    "start_time": "2023-06-04T20:35:24.033Z"
   },
   {
    "duration": 1217,
    "start_time": "2023-06-04T20:35:25.185Z"
   },
   {
    "duration": 1222,
    "start_time": "2023-06-04T20:35:26.404Z"
   },
   {
    "duration": 5,
    "start_time": "2023-06-04T20:35:44.614Z"
   },
   {
    "duration": 5,
    "start_time": "2023-06-04T20:35:45.749Z"
   },
   {
    "duration": 12,
    "start_time": "2023-06-04T20:35:46.227Z"
   },
   {
    "duration": 1809,
    "start_time": "2023-06-04T20:35:47.667Z"
   },
   {
    "duration": 15,
    "start_time": "2023-06-04T20:36:04.807Z"
   },
   {
    "duration": 3,
    "start_time": "2023-06-04T20:36:07.566Z"
   },
   {
    "duration": 544,
    "start_time": "2023-06-04T20:36:10.121Z"
   },
   {
    "duration": 1907,
    "start_time": "2023-06-05T14:20:46.273Z"
   },
   {
    "duration": 4,
    "start_time": "2023-06-05T14:20:48.182Z"
   },
   {
    "duration": 202,
    "start_time": "2023-06-05T14:20:48.187Z"
   },
   {
    "duration": 172,
    "start_time": "2023-06-05T14:20:48.391Z"
   },
   {
    "duration": 183,
    "start_time": "2023-06-05T14:20:48.564Z"
   },
   {
    "duration": 892,
    "start_time": "2023-06-05T14:20:48.749Z"
   },
   {
    "duration": 6,
    "start_time": "2023-06-05T14:20:49.642Z"
   },
   {
    "duration": 130,
    "start_time": "2023-06-05T14:20:49.649Z"
   },
   {
    "duration": 295,
    "start_time": "2023-06-05T14:20:49.781Z"
   },
   {
    "duration": 198,
    "start_time": "2023-06-05T14:20:50.078Z"
   },
   {
    "duration": 3,
    "start_time": "2023-06-05T14:20:50.277Z"
   },
   {
    "duration": 31,
    "start_time": "2023-06-05T14:20:50.281Z"
   },
   {
    "duration": 13,
    "start_time": "2023-06-05T14:20:50.314Z"
   },
   {
    "duration": 15,
    "start_time": "2023-06-05T14:20:50.328Z"
   },
   {
    "duration": 20,
    "start_time": "2023-06-05T14:20:50.344Z"
   },
   {
    "duration": 678,
    "start_time": "2023-06-05T14:20:50.366Z"
   },
   {
    "duration": 668,
    "start_time": "2023-06-05T14:20:51.046Z"
   },
   {
    "duration": 668,
    "start_time": "2023-06-05T14:20:51.715Z"
   },
   {
    "duration": 5,
    "start_time": "2023-06-05T14:20:57.523Z"
   },
   {
    "duration": 659,
    "start_time": "2023-06-05T14:20:59.979Z"
   },
   {
    "duration": 656,
    "start_time": "2023-06-05T14:21:00.640Z"
   },
   {
    "duration": 707,
    "start_time": "2023-06-05T14:21:01.298Z"
   },
   {
    "duration": 4,
    "start_time": "2023-06-05T14:21:22.740Z"
   },
   {
    "duration": 656,
    "start_time": "2023-06-05T14:21:24.955Z"
   },
   {
    "duration": 698,
    "start_time": "2023-06-05T14:21:25.613Z"
   },
   {
    "duration": 650,
    "start_time": "2023-06-05T14:21:26.313Z"
   }
  ],
  "kernelspec": {
   "display_name": "Python 3 (ipykernel)",
   "language": "python",
   "name": "python3"
  },
  "language_info": {
   "codemirror_mode": {
    "name": "ipython",
    "version": 3
   },
   "file_extension": ".py",
   "mimetype": "text/x-python",
   "name": "python",
   "nbconvert_exporter": "python",
   "pygments_lexer": "ipython3",
   "version": "3.9.5"
  },
  "toc": {
   "base_numbering": 1,
   "nav_menu": {},
   "number_sections": true,
   "sideBar": true,
   "skip_h1_title": true,
   "title_cell": "Table of Contents",
   "title_sidebar": "Contents",
   "toc_cell": false,
   "toc_position": {},
   "toc_section_display": true,
   "toc_window_display": false
  }
 },
 "nbformat": 4,
 "nbformat_minor": 2
}
